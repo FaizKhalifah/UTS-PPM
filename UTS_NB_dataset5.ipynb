{
  "nbformat": 4,
  "nbformat_minor": 0,
  "metadata": {
    "colab": {
      "provenance": [],
      "authorship_tag": "ABX9TyPhMxtXUFazfqnVohOJ+k72",
      "include_colab_link": true
    },
    "kernelspec": {
      "name": "python3",
      "display_name": "Python 3"
    },
    "language_info": {
      "name": "python"
    }
  },
  "cells": [
    {
      "cell_type": "markdown",
      "metadata": {
        "id": "view-in-github",
        "colab_type": "text"
      },
      "source": [
        "<a href=\"https://colab.research.google.com/github/FaizKhalifah/UTS-PPM/blob/main/UTS_NB_dataset5.ipynb\" target=\"_parent\"><img src=\"https://colab.research.google.com/assets/colab-badge.svg\" alt=\"Open In Colab\"/></a>"
      ]
    },
    {
      "cell_type": "markdown",
      "source": [
        "# Meng-import dataset"
      ],
      "metadata": {
        "id": "YXcrCUcdsAOW"
      }
    },
    {
      "cell_type": "code",
      "execution_count": null,
      "metadata": {
        "colab": {
          "base_uri": "https://localhost:8080/",
          "height": 74
        },
        "id": "ZX2j6RJ4i3NY",
        "outputId": "c438f7b0-984c-43cc-af48-b105df85f2d7"
      },
      "outputs": [
        {
          "output_type": "display_data",
          "data": {
            "text/plain": [
              "<IPython.core.display.HTML object>"
            ],
            "text/html": [
              "\n",
              "     <input type=\"file\" id=\"files-213eb3f6-6981-4ef1-9d5f-ad12f292bf3f\" name=\"files[]\" multiple disabled\n",
              "        style=\"border:none\" />\n",
              "     <output id=\"result-213eb3f6-6981-4ef1-9d5f-ad12f292bf3f\">\n",
              "      Upload widget is only available when the cell has been executed in the\n",
              "      current browser session. Please rerun this cell to enable.\n",
              "      </output>\n",
              "      <script>// Copyright 2017 Google LLC\n",
              "//\n",
              "// Licensed under the Apache License, Version 2.0 (the \"License\");\n",
              "// you may not use this file except in compliance with the License.\n",
              "// You may obtain a copy of the License at\n",
              "//\n",
              "//      http://www.apache.org/licenses/LICENSE-2.0\n",
              "//\n",
              "// Unless required by applicable law or agreed to in writing, software\n",
              "// distributed under the License is distributed on an \"AS IS\" BASIS,\n",
              "// WITHOUT WARRANTIES OR CONDITIONS OF ANY KIND, either express or implied.\n",
              "// See the License for the specific language governing permissions and\n",
              "// limitations under the License.\n",
              "\n",
              "/**\n",
              " * @fileoverview Helpers for google.colab Python module.\n",
              " */\n",
              "(function(scope) {\n",
              "function span(text, styleAttributes = {}) {\n",
              "  const element = document.createElement('span');\n",
              "  element.textContent = text;\n",
              "  for (const key of Object.keys(styleAttributes)) {\n",
              "    element.style[key] = styleAttributes[key];\n",
              "  }\n",
              "  return element;\n",
              "}\n",
              "\n",
              "// Max number of bytes which will be uploaded at a time.\n",
              "const MAX_PAYLOAD_SIZE = 100 * 1024;\n",
              "\n",
              "function _uploadFiles(inputId, outputId) {\n",
              "  const steps = uploadFilesStep(inputId, outputId);\n",
              "  const outputElement = document.getElementById(outputId);\n",
              "  // Cache steps on the outputElement to make it available for the next call\n",
              "  // to uploadFilesContinue from Python.\n",
              "  outputElement.steps = steps;\n",
              "\n",
              "  return _uploadFilesContinue(outputId);\n",
              "}\n",
              "\n",
              "// This is roughly an async generator (not supported in the browser yet),\n",
              "// where there are multiple asynchronous steps and the Python side is going\n",
              "// to poll for completion of each step.\n",
              "// This uses a Promise to block the python side on completion of each step,\n",
              "// then passes the result of the previous step as the input to the next step.\n",
              "function _uploadFilesContinue(outputId) {\n",
              "  const outputElement = document.getElementById(outputId);\n",
              "  const steps = outputElement.steps;\n",
              "\n",
              "  const next = steps.next(outputElement.lastPromiseValue);\n",
              "  return Promise.resolve(next.value.promise).then((value) => {\n",
              "    // Cache the last promise value to make it available to the next\n",
              "    // step of the generator.\n",
              "    outputElement.lastPromiseValue = value;\n",
              "    return next.value.response;\n",
              "  });\n",
              "}\n",
              "\n",
              "/**\n",
              " * Generator function which is called between each async step of the upload\n",
              " * process.\n",
              " * @param {string} inputId Element ID of the input file picker element.\n",
              " * @param {string} outputId Element ID of the output display.\n",
              " * @return {!Iterable<!Object>} Iterable of next steps.\n",
              " */\n",
              "function* uploadFilesStep(inputId, outputId) {\n",
              "  const inputElement = document.getElementById(inputId);\n",
              "  inputElement.disabled = false;\n",
              "\n",
              "  const outputElement = document.getElementById(outputId);\n",
              "  outputElement.innerHTML = '';\n",
              "\n",
              "  const pickedPromise = new Promise((resolve) => {\n",
              "    inputElement.addEventListener('change', (e) => {\n",
              "      resolve(e.target.files);\n",
              "    });\n",
              "  });\n",
              "\n",
              "  const cancel = document.createElement('button');\n",
              "  inputElement.parentElement.appendChild(cancel);\n",
              "  cancel.textContent = 'Cancel upload';\n",
              "  const cancelPromise = new Promise((resolve) => {\n",
              "    cancel.onclick = () => {\n",
              "      resolve(null);\n",
              "    };\n",
              "  });\n",
              "\n",
              "  // Wait for the user to pick the files.\n",
              "  const files = yield {\n",
              "    promise: Promise.race([pickedPromise, cancelPromise]),\n",
              "    response: {\n",
              "      action: 'starting',\n",
              "    }\n",
              "  };\n",
              "\n",
              "  cancel.remove();\n",
              "\n",
              "  // Disable the input element since further picks are not allowed.\n",
              "  inputElement.disabled = true;\n",
              "\n",
              "  if (!files) {\n",
              "    return {\n",
              "      response: {\n",
              "        action: 'complete',\n",
              "      }\n",
              "    };\n",
              "  }\n",
              "\n",
              "  for (const file of files) {\n",
              "    const li = document.createElement('li');\n",
              "    li.append(span(file.name, {fontWeight: 'bold'}));\n",
              "    li.append(span(\n",
              "        `(${file.type || 'n/a'}) - ${file.size} bytes, ` +\n",
              "        `last modified: ${\n",
              "            file.lastModifiedDate ? file.lastModifiedDate.toLocaleDateString() :\n",
              "                                    'n/a'} - `));\n",
              "    const percent = span('0% done');\n",
              "    li.appendChild(percent);\n",
              "\n",
              "    outputElement.appendChild(li);\n",
              "\n",
              "    const fileDataPromise = new Promise((resolve) => {\n",
              "      const reader = new FileReader();\n",
              "      reader.onload = (e) => {\n",
              "        resolve(e.target.result);\n",
              "      };\n",
              "      reader.readAsArrayBuffer(file);\n",
              "    });\n",
              "    // Wait for the data to be ready.\n",
              "    let fileData = yield {\n",
              "      promise: fileDataPromise,\n",
              "      response: {\n",
              "        action: 'continue',\n",
              "      }\n",
              "    };\n",
              "\n",
              "    // Use a chunked sending to avoid message size limits. See b/62115660.\n",
              "    let position = 0;\n",
              "    do {\n",
              "      const length = Math.min(fileData.byteLength - position, MAX_PAYLOAD_SIZE);\n",
              "      const chunk = new Uint8Array(fileData, position, length);\n",
              "      position += length;\n",
              "\n",
              "      const base64 = btoa(String.fromCharCode.apply(null, chunk));\n",
              "      yield {\n",
              "        response: {\n",
              "          action: 'append',\n",
              "          file: file.name,\n",
              "          data: base64,\n",
              "        },\n",
              "      };\n",
              "\n",
              "      let percentDone = fileData.byteLength === 0 ?\n",
              "          100 :\n",
              "          Math.round((position / fileData.byteLength) * 100);\n",
              "      percent.textContent = `${percentDone}% done`;\n",
              "\n",
              "    } while (position < fileData.byteLength);\n",
              "  }\n",
              "\n",
              "  // All done.\n",
              "  yield {\n",
              "    response: {\n",
              "      action: 'complete',\n",
              "    }\n",
              "  };\n",
              "}\n",
              "\n",
              "scope.google = scope.google || {};\n",
              "scope.google.colab = scope.google.colab || {};\n",
              "scope.google.colab._files = {\n",
              "  _uploadFiles,\n",
              "  _uploadFilesContinue,\n",
              "};\n",
              "})(self);\n",
              "</script> "
            ]
          },
          "metadata": {}
        },
        {
          "output_type": "stream",
          "name": "stdout",
          "text": [
            "Saving heart_2.csv to heart_2.csv\n"
          ]
        }
      ],
      "source": [
        "from google.colab import files\n",
        "#heart2_csv\n",
        "\n",
        "upload = files.upload()"
      ]
    },
    {
      "cell_type": "code",
      "source": [
        "import pandas as pd\n",
        "import numpy as np\n",
        "data = pd.read_csv('heart_2.csv')"
      ],
      "metadata": {
        "id": "HkqdXpr2roY7"
      },
      "execution_count": null,
      "outputs": []
    },
    {
      "cell_type": "code",
      "source": [
        "data.head()"
      ],
      "metadata": {
        "colab": {
          "base_uri": "https://localhost:8080/",
          "height": 206
        },
        "id": "UwSYotuUrsPd",
        "outputId": "193ac4ff-fb9e-4c79-9ba9-d0fee1dc07bb"
      },
      "execution_count": null,
      "outputs": [
        {
          "output_type": "execute_result",
          "data": {
            "text/plain": [
              "   age  sex  cp  trestbps  chol  fbs  restecg  thalach  exang  oldpeak  slope  \\\n",
              "0   52    1   0       125   212    0        1      168      0      1.0      2   \n",
              "1   53    1   0       140   203    1        0      155      1      3.1      0   \n",
              "2   70    1   0       145   174    0        1      125      1      2.6      0   \n",
              "3   61    1   0       148   203    0        1      161      0      0.0      2   \n",
              "4   62    0   0       138   294    1        1      106      0      1.9      1   \n",
              "\n",
              "   ca  thal  target  \n",
              "0   2     3       0  \n",
              "1   0     3       0  \n",
              "2   0     3       0  \n",
              "3   1     3       0  \n",
              "4   3     2       0  "
            ],
            "text/html": [
              "\n",
              "  <div id=\"df-b47505aa-118c-4d74-a81a-6e6b984c3a34\" class=\"colab-df-container\">\n",
              "    <div>\n",
              "<style scoped>\n",
              "    .dataframe tbody tr th:only-of-type {\n",
              "        vertical-align: middle;\n",
              "    }\n",
              "\n",
              "    .dataframe tbody tr th {\n",
              "        vertical-align: top;\n",
              "    }\n",
              "\n",
              "    .dataframe thead th {\n",
              "        text-align: right;\n",
              "    }\n",
              "</style>\n",
              "<table border=\"1\" class=\"dataframe\">\n",
              "  <thead>\n",
              "    <tr style=\"text-align: right;\">\n",
              "      <th></th>\n",
              "      <th>age</th>\n",
              "      <th>sex</th>\n",
              "      <th>cp</th>\n",
              "      <th>trestbps</th>\n",
              "      <th>chol</th>\n",
              "      <th>fbs</th>\n",
              "      <th>restecg</th>\n",
              "      <th>thalach</th>\n",
              "      <th>exang</th>\n",
              "      <th>oldpeak</th>\n",
              "      <th>slope</th>\n",
              "      <th>ca</th>\n",
              "      <th>thal</th>\n",
              "      <th>target</th>\n",
              "    </tr>\n",
              "  </thead>\n",
              "  <tbody>\n",
              "    <tr>\n",
              "      <th>0</th>\n",
              "      <td>52</td>\n",
              "      <td>1</td>\n",
              "      <td>0</td>\n",
              "      <td>125</td>\n",
              "      <td>212</td>\n",
              "      <td>0</td>\n",
              "      <td>1</td>\n",
              "      <td>168</td>\n",
              "      <td>0</td>\n",
              "      <td>1.0</td>\n",
              "      <td>2</td>\n",
              "      <td>2</td>\n",
              "      <td>3</td>\n",
              "      <td>0</td>\n",
              "    </tr>\n",
              "    <tr>\n",
              "      <th>1</th>\n",
              "      <td>53</td>\n",
              "      <td>1</td>\n",
              "      <td>0</td>\n",
              "      <td>140</td>\n",
              "      <td>203</td>\n",
              "      <td>1</td>\n",
              "      <td>0</td>\n",
              "      <td>155</td>\n",
              "      <td>1</td>\n",
              "      <td>3.1</td>\n",
              "      <td>0</td>\n",
              "      <td>0</td>\n",
              "      <td>3</td>\n",
              "      <td>0</td>\n",
              "    </tr>\n",
              "    <tr>\n",
              "      <th>2</th>\n",
              "      <td>70</td>\n",
              "      <td>1</td>\n",
              "      <td>0</td>\n",
              "      <td>145</td>\n",
              "      <td>174</td>\n",
              "      <td>0</td>\n",
              "      <td>1</td>\n",
              "      <td>125</td>\n",
              "      <td>1</td>\n",
              "      <td>2.6</td>\n",
              "      <td>0</td>\n",
              "      <td>0</td>\n",
              "      <td>3</td>\n",
              "      <td>0</td>\n",
              "    </tr>\n",
              "    <tr>\n",
              "      <th>3</th>\n",
              "      <td>61</td>\n",
              "      <td>1</td>\n",
              "      <td>0</td>\n",
              "      <td>148</td>\n",
              "      <td>203</td>\n",
              "      <td>0</td>\n",
              "      <td>1</td>\n",
              "      <td>161</td>\n",
              "      <td>0</td>\n",
              "      <td>0.0</td>\n",
              "      <td>2</td>\n",
              "      <td>1</td>\n",
              "      <td>3</td>\n",
              "      <td>0</td>\n",
              "    </tr>\n",
              "    <tr>\n",
              "      <th>4</th>\n",
              "      <td>62</td>\n",
              "      <td>0</td>\n",
              "      <td>0</td>\n",
              "      <td>138</td>\n",
              "      <td>294</td>\n",
              "      <td>1</td>\n",
              "      <td>1</td>\n",
              "      <td>106</td>\n",
              "      <td>0</td>\n",
              "      <td>1.9</td>\n",
              "      <td>1</td>\n",
              "      <td>3</td>\n",
              "      <td>2</td>\n",
              "      <td>0</td>\n",
              "    </tr>\n",
              "  </tbody>\n",
              "</table>\n",
              "</div>\n",
              "    <div class=\"colab-df-buttons\">\n",
              "\n",
              "  <div class=\"colab-df-container\">\n",
              "    <button class=\"colab-df-convert\" onclick=\"convertToInteractive('df-b47505aa-118c-4d74-a81a-6e6b984c3a34')\"\n",
              "            title=\"Convert this dataframe to an interactive table.\"\n",
              "            style=\"display:none;\">\n",
              "\n",
              "  <svg xmlns=\"http://www.w3.org/2000/svg\" height=\"24px\" viewBox=\"0 -960 960 960\">\n",
              "    <path d=\"M120-120v-720h720v720H120Zm60-500h600v-160H180v160Zm220 220h160v-160H400v160Zm0 220h160v-160H400v160ZM180-400h160v-160H180v160Zm440 0h160v-160H620v160ZM180-180h160v-160H180v160Zm440 0h160v-160H620v160Z\"/>\n",
              "  </svg>\n",
              "    </button>\n",
              "\n",
              "  <style>\n",
              "    .colab-df-container {\n",
              "      display:flex;\n",
              "      gap: 12px;\n",
              "    }\n",
              "\n",
              "    .colab-df-convert {\n",
              "      background-color: #E8F0FE;\n",
              "      border: none;\n",
              "      border-radius: 50%;\n",
              "      cursor: pointer;\n",
              "      display: none;\n",
              "      fill: #1967D2;\n",
              "      height: 32px;\n",
              "      padding: 0 0 0 0;\n",
              "      width: 32px;\n",
              "    }\n",
              "\n",
              "    .colab-df-convert:hover {\n",
              "      background-color: #E2EBFA;\n",
              "      box-shadow: 0px 1px 2px rgba(60, 64, 67, 0.3), 0px 1px 3px 1px rgba(60, 64, 67, 0.15);\n",
              "      fill: #174EA6;\n",
              "    }\n",
              "\n",
              "    .colab-df-buttons div {\n",
              "      margin-bottom: 4px;\n",
              "    }\n",
              "\n",
              "    [theme=dark] .colab-df-convert {\n",
              "      background-color: #3B4455;\n",
              "      fill: #D2E3FC;\n",
              "    }\n",
              "\n",
              "    [theme=dark] .colab-df-convert:hover {\n",
              "      background-color: #434B5C;\n",
              "      box-shadow: 0px 1px 3px 1px rgba(0, 0, 0, 0.15);\n",
              "      filter: drop-shadow(0px 1px 2px rgba(0, 0, 0, 0.3));\n",
              "      fill: #FFFFFF;\n",
              "    }\n",
              "  </style>\n",
              "\n",
              "    <script>\n",
              "      const buttonEl =\n",
              "        document.querySelector('#df-b47505aa-118c-4d74-a81a-6e6b984c3a34 button.colab-df-convert');\n",
              "      buttonEl.style.display =\n",
              "        google.colab.kernel.accessAllowed ? 'block' : 'none';\n",
              "\n",
              "      async function convertToInteractive(key) {\n",
              "        const element = document.querySelector('#df-b47505aa-118c-4d74-a81a-6e6b984c3a34');\n",
              "        const dataTable =\n",
              "          await google.colab.kernel.invokeFunction('convertToInteractive',\n",
              "                                                    [key], {});\n",
              "        if (!dataTable) return;\n",
              "\n",
              "        const docLinkHtml = 'Like what you see? Visit the ' +\n",
              "          '<a target=\"_blank\" href=https://colab.research.google.com/notebooks/data_table.ipynb>data table notebook</a>'\n",
              "          + ' to learn more about interactive tables.';\n",
              "        element.innerHTML = '';\n",
              "        dataTable['output_type'] = 'display_data';\n",
              "        await google.colab.output.renderOutput(dataTable, element);\n",
              "        const docLink = document.createElement('div');\n",
              "        docLink.innerHTML = docLinkHtml;\n",
              "        element.appendChild(docLink);\n",
              "      }\n",
              "    </script>\n",
              "  </div>\n",
              "\n",
              "\n",
              "<div id=\"df-3aa08ac3-1100-40c4-8aef-bfd08653981c\">\n",
              "  <button class=\"colab-df-quickchart\" onclick=\"quickchart('df-3aa08ac3-1100-40c4-8aef-bfd08653981c')\"\n",
              "            title=\"Suggest charts\"\n",
              "            style=\"display:none;\">\n",
              "\n",
              "<svg xmlns=\"http://www.w3.org/2000/svg\" height=\"24px\"viewBox=\"0 0 24 24\"\n",
              "     width=\"24px\">\n",
              "    <g>\n",
              "        <path d=\"M19 3H5c-1.1 0-2 .9-2 2v14c0 1.1.9 2 2 2h14c1.1 0 2-.9 2-2V5c0-1.1-.9-2-2-2zM9 17H7v-7h2v7zm4 0h-2V7h2v10zm4 0h-2v-4h2v4z\"/>\n",
              "    </g>\n",
              "</svg>\n",
              "  </button>\n",
              "\n",
              "<style>\n",
              "  .colab-df-quickchart {\n",
              "      --bg-color: #E8F0FE;\n",
              "      --fill-color: #1967D2;\n",
              "      --hover-bg-color: #E2EBFA;\n",
              "      --hover-fill-color: #174EA6;\n",
              "      --disabled-fill-color: #AAA;\n",
              "      --disabled-bg-color: #DDD;\n",
              "  }\n",
              "\n",
              "  [theme=dark] .colab-df-quickchart {\n",
              "      --bg-color: #3B4455;\n",
              "      --fill-color: #D2E3FC;\n",
              "      --hover-bg-color: #434B5C;\n",
              "      --hover-fill-color: #FFFFFF;\n",
              "      --disabled-bg-color: #3B4455;\n",
              "      --disabled-fill-color: #666;\n",
              "  }\n",
              "\n",
              "  .colab-df-quickchart {\n",
              "    background-color: var(--bg-color);\n",
              "    border: none;\n",
              "    border-radius: 50%;\n",
              "    cursor: pointer;\n",
              "    display: none;\n",
              "    fill: var(--fill-color);\n",
              "    height: 32px;\n",
              "    padding: 0;\n",
              "    width: 32px;\n",
              "  }\n",
              "\n",
              "  .colab-df-quickchart:hover {\n",
              "    background-color: var(--hover-bg-color);\n",
              "    box-shadow: 0 1px 2px rgba(60, 64, 67, 0.3), 0 1px 3px 1px rgba(60, 64, 67, 0.15);\n",
              "    fill: var(--button-hover-fill-color);\n",
              "  }\n",
              "\n",
              "  .colab-df-quickchart-complete:disabled,\n",
              "  .colab-df-quickchart-complete:disabled:hover {\n",
              "    background-color: var(--disabled-bg-color);\n",
              "    fill: var(--disabled-fill-color);\n",
              "    box-shadow: none;\n",
              "  }\n",
              "\n",
              "  .colab-df-spinner {\n",
              "    border: 2px solid var(--fill-color);\n",
              "    border-color: transparent;\n",
              "    border-bottom-color: var(--fill-color);\n",
              "    animation:\n",
              "      spin 1s steps(1) infinite;\n",
              "  }\n",
              "\n",
              "  @keyframes spin {\n",
              "    0% {\n",
              "      border-color: transparent;\n",
              "      border-bottom-color: var(--fill-color);\n",
              "      border-left-color: var(--fill-color);\n",
              "    }\n",
              "    20% {\n",
              "      border-color: transparent;\n",
              "      border-left-color: var(--fill-color);\n",
              "      border-top-color: var(--fill-color);\n",
              "    }\n",
              "    30% {\n",
              "      border-color: transparent;\n",
              "      border-left-color: var(--fill-color);\n",
              "      border-top-color: var(--fill-color);\n",
              "      border-right-color: var(--fill-color);\n",
              "    }\n",
              "    40% {\n",
              "      border-color: transparent;\n",
              "      border-right-color: var(--fill-color);\n",
              "      border-top-color: var(--fill-color);\n",
              "    }\n",
              "    60% {\n",
              "      border-color: transparent;\n",
              "      border-right-color: var(--fill-color);\n",
              "    }\n",
              "    80% {\n",
              "      border-color: transparent;\n",
              "      border-right-color: var(--fill-color);\n",
              "      border-bottom-color: var(--fill-color);\n",
              "    }\n",
              "    90% {\n",
              "      border-color: transparent;\n",
              "      border-bottom-color: var(--fill-color);\n",
              "    }\n",
              "  }\n",
              "</style>\n",
              "\n",
              "  <script>\n",
              "    async function quickchart(key) {\n",
              "      const quickchartButtonEl =\n",
              "        document.querySelector('#' + key + ' button');\n",
              "      quickchartButtonEl.disabled = true;  // To prevent multiple clicks.\n",
              "      quickchartButtonEl.classList.add('colab-df-spinner');\n",
              "      try {\n",
              "        const charts = await google.colab.kernel.invokeFunction(\n",
              "            'suggestCharts', [key], {});\n",
              "      } catch (error) {\n",
              "        console.error('Error during call to suggestCharts:', error);\n",
              "      }\n",
              "      quickchartButtonEl.classList.remove('colab-df-spinner');\n",
              "      quickchartButtonEl.classList.add('colab-df-quickchart-complete');\n",
              "    }\n",
              "    (() => {\n",
              "      let quickchartButtonEl =\n",
              "        document.querySelector('#df-3aa08ac3-1100-40c4-8aef-bfd08653981c button');\n",
              "      quickchartButtonEl.style.display =\n",
              "        google.colab.kernel.accessAllowed ? 'block' : 'none';\n",
              "    })();\n",
              "  </script>\n",
              "</div>\n",
              "    </div>\n",
              "  </div>\n"
            ],
            "application/vnd.google.colaboratory.intrinsic+json": {
              "type": "dataframe",
              "variable_name": "data",
              "summary": "{\n  \"name\": \"data\",\n  \"rows\": 1025,\n  \"fields\": [\n    {\n      \"column\": \"age\",\n      \"properties\": {\n        \"dtype\": \"number\",\n        \"std\": 9,\n        \"min\": 29,\n        \"max\": 77,\n        \"num_unique_values\": 41,\n        \"samples\": [\n          65,\n          50,\n          54\n        ],\n        \"semantic_type\": \"\",\n        \"description\": \"\"\n      }\n    },\n    {\n      \"column\": \"sex\",\n      \"properties\": {\n        \"dtype\": \"number\",\n        \"std\": 0,\n        \"min\": 0,\n        \"max\": 1,\n        \"num_unique_values\": 2,\n        \"samples\": [\n          0,\n          1\n        ],\n        \"semantic_type\": \"\",\n        \"description\": \"\"\n      }\n    },\n    {\n      \"column\": \"cp\",\n      \"properties\": {\n        \"dtype\": \"number\",\n        \"std\": 1,\n        \"min\": 0,\n        \"max\": 3,\n        \"num_unique_values\": 4,\n        \"samples\": [\n          1,\n          3\n        ],\n        \"semantic_type\": \"\",\n        \"description\": \"\"\n      }\n    },\n    {\n      \"column\": \"trestbps\",\n      \"properties\": {\n        \"dtype\": \"number\",\n        \"std\": 17,\n        \"min\": 94,\n        \"max\": 200,\n        \"num_unique_values\": 49,\n        \"samples\": [\n          128,\n          172\n        ],\n        \"semantic_type\": \"\",\n        \"description\": \"\"\n      }\n    },\n    {\n      \"column\": \"chol\",\n      \"properties\": {\n        \"dtype\": \"number\",\n        \"std\": 51,\n        \"min\": 126,\n        \"max\": 564,\n        \"num_unique_values\": 152,\n        \"samples\": [\n          267,\n          262\n        ],\n        \"semantic_type\": \"\",\n        \"description\": \"\"\n      }\n    },\n    {\n      \"column\": \"fbs\",\n      \"properties\": {\n        \"dtype\": \"number\",\n        \"std\": 0,\n        \"min\": 0,\n        \"max\": 1,\n        \"num_unique_values\": 2,\n        \"samples\": [\n          1,\n          0\n        ],\n        \"semantic_type\": \"\",\n        \"description\": \"\"\n      }\n    },\n    {\n      \"column\": \"restecg\",\n      \"properties\": {\n        \"dtype\": \"number\",\n        \"std\": 0,\n        \"min\": 0,\n        \"max\": 2,\n        \"num_unique_values\": 3,\n        \"samples\": [\n          1,\n          0\n        ],\n        \"semantic_type\": \"\",\n        \"description\": \"\"\n      }\n    },\n    {\n      \"column\": \"thalach\",\n      \"properties\": {\n        \"dtype\": \"number\",\n        \"std\": 23,\n        \"min\": 71,\n        \"max\": 202,\n        \"num_unique_values\": 91,\n        \"samples\": [\n          180,\n          152\n        ],\n        \"semantic_type\": \"\",\n        \"description\": \"\"\n      }\n    },\n    {\n      \"column\": \"exang\",\n      \"properties\": {\n        \"dtype\": \"number\",\n        \"std\": 0,\n        \"min\": 0,\n        \"max\": 1,\n        \"num_unique_values\": 2,\n        \"samples\": [\n          1,\n          0\n        ],\n        \"semantic_type\": \"\",\n        \"description\": \"\"\n      }\n    },\n    {\n      \"column\": \"oldpeak\",\n      \"properties\": {\n        \"dtype\": \"number\",\n        \"std\": 1.175053255150176,\n        \"min\": 0.0,\n        \"max\": 6.2,\n        \"num_unique_values\": 40,\n        \"samples\": [\n          2.8,\n          0.4\n        ],\n        \"semantic_type\": \"\",\n        \"description\": \"\"\n      }\n    },\n    {\n      \"column\": \"slope\",\n      \"properties\": {\n        \"dtype\": \"number\",\n        \"std\": 0,\n        \"min\": 0,\n        \"max\": 2,\n        \"num_unique_values\": 3,\n        \"samples\": [\n          2,\n          0\n        ],\n        \"semantic_type\": \"\",\n        \"description\": \"\"\n      }\n    },\n    {\n      \"column\": \"ca\",\n      \"properties\": {\n        \"dtype\": \"number\",\n        \"std\": 1,\n        \"min\": 0,\n        \"max\": 4,\n        \"num_unique_values\": 5,\n        \"samples\": [\n          0,\n          4\n        ],\n        \"semantic_type\": \"\",\n        \"description\": \"\"\n      }\n    },\n    {\n      \"column\": \"thal\",\n      \"properties\": {\n        \"dtype\": \"number\",\n        \"std\": 0,\n        \"min\": 0,\n        \"max\": 3,\n        \"num_unique_values\": 4,\n        \"samples\": [\n          2,\n          0\n        ],\n        \"semantic_type\": \"\",\n        \"description\": \"\"\n      }\n    },\n    {\n      \"column\": \"target\",\n      \"properties\": {\n        \"dtype\": \"number\",\n        \"std\": 0,\n        \"min\": 0,\n        \"max\": 1,\n        \"num_unique_values\": 2,\n        \"samples\": [\n          1,\n          0\n        ],\n        \"semantic_type\": \"\",\n        \"description\": \"\"\n      }\n    }\n  ]\n}"
            }
          },
          "metadata": {},
          "execution_count": 4
        }
      ]
    },
    {
      "cell_type": "markdown",
      "source": [
        "# Membagi dataset menjadi data latih dan data uji"
      ],
      "metadata": {
        "id": "oYCA36V3sF7-"
      }
    },
    {
      "cell_type": "code",
      "source": [
        "from sklearn.model_selection import train_test_split\n",
        "data_latih,data_uji = train_test_split(data,test_size=0.2)"
      ],
      "metadata": {
        "id": "YhjZ0iWVrynK"
      },
      "execution_count": null,
      "outputs": []
    },
    {
      "cell_type": "code",
      "source": [
        "print(data_uji.shape[0])\n",
        "print(data_latih.shape[0])"
      ],
      "metadata": {
        "colab": {
          "base_uri": "https://localhost:8080/"
        },
        "id": "jbd9wZpMsJmv",
        "outputId": "4d74a724-5f38-42d4-e912-2bdc8b9033b5"
      },
      "execution_count": null,
      "outputs": [
        {
          "output_type": "stream",
          "name": "stdout",
          "text": [
            "205\n",
            "820\n"
          ]
        }
      ]
    },
    {
      "cell_type": "code",
      "source": [
        "label_uji = data_uji.pop('target')\n",
        "label_uji"
      ],
      "metadata": {
        "colab": {
          "base_uri": "https://localhost:8080/"
        },
        "id": "ZVP0XtR0sRgH",
        "outputId": "d1e408ae-3748-4535-a857-8077908282ac"
      },
      "execution_count": null,
      "outputs": [
        {
          "output_type": "execute_result",
          "data": {
            "text/plain": [
              "604    1\n",
              "549    1\n",
              "369    1\n",
              "204    1\n",
              "502    1\n",
              "      ..\n",
              "195    1\n",
              "313    1\n",
              "72     0\n",
              "859    0\n",
              "10     1\n",
              "Name: target, Length: 205, dtype: int64"
            ]
          },
          "metadata": {},
          "execution_count": 8
        }
      ]
    },
    {
      "cell_type": "code",
      "source": [
        "data_uji.head()"
      ],
      "metadata": {
        "colab": {
          "base_uri": "https://localhost:8080/",
          "height": 206
        },
        "id": "4ir4nbxosWPu",
        "outputId": "f07e6491-40ad-4210-a575-b9919a64916f"
      },
      "execution_count": null,
      "outputs": [
        {
          "output_type": "execute_result",
          "data": {
            "text/plain": [
              "     age  sex  cp  trestbps  chol  fbs  restecg  thalach  exang  oldpeak  \\\n",
              "604   47    1   2       130   253    0        1      179      0      0.0   \n",
              "549   68    1   2       118   277    0        1      151      0      1.0   \n",
              "369   51    1   2       110   175    0        1      123      0      0.6   \n",
              "204   66    0   2       146   278    0        0      152      0      0.0   \n",
              "502   46    0   2       142   177    0        0      160      1      1.4   \n",
              "\n",
              "     slope  ca  thal  \n",
              "604      2   0     2  \n",
              "549      2   1     3  \n",
              "369      2   0     2  \n",
              "204      1   1     2  \n",
              "502      0   0     2  "
            ],
            "text/html": [
              "\n",
              "  <div id=\"df-d5fd7833-9241-4f82-8bc0-b891fdff01c9\" class=\"colab-df-container\">\n",
              "    <div>\n",
              "<style scoped>\n",
              "    .dataframe tbody tr th:only-of-type {\n",
              "        vertical-align: middle;\n",
              "    }\n",
              "\n",
              "    .dataframe tbody tr th {\n",
              "        vertical-align: top;\n",
              "    }\n",
              "\n",
              "    .dataframe thead th {\n",
              "        text-align: right;\n",
              "    }\n",
              "</style>\n",
              "<table border=\"1\" class=\"dataframe\">\n",
              "  <thead>\n",
              "    <tr style=\"text-align: right;\">\n",
              "      <th></th>\n",
              "      <th>age</th>\n",
              "      <th>sex</th>\n",
              "      <th>cp</th>\n",
              "      <th>trestbps</th>\n",
              "      <th>chol</th>\n",
              "      <th>fbs</th>\n",
              "      <th>restecg</th>\n",
              "      <th>thalach</th>\n",
              "      <th>exang</th>\n",
              "      <th>oldpeak</th>\n",
              "      <th>slope</th>\n",
              "      <th>ca</th>\n",
              "      <th>thal</th>\n",
              "    </tr>\n",
              "  </thead>\n",
              "  <tbody>\n",
              "    <tr>\n",
              "      <th>604</th>\n",
              "      <td>47</td>\n",
              "      <td>1</td>\n",
              "      <td>2</td>\n",
              "      <td>130</td>\n",
              "      <td>253</td>\n",
              "      <td>0</td>\n",
              "      <td>1</td>\n",
              "      <td>179</td>\n",
              "      <td>0</td>\n",
              "      <td>0.0</td>\n",
              "      <td>2</td>\n",
              "      <td>0</td>\n",
              "      <td>2</td>\n",
              "    </tr>\n",
              "    <tr>\n",
              "      <th>549</th>\n",
              "      <td>68</td>\n",
              "      <td>1</td>\n",
              "      <td>2</td>\n",
              "      <td>118</td>\n",
              "      <td>277</td>\n",
              "      <td>0</td>\n",
              "      <td>1</td>\n",
              "      <td>151</td>\n",
              "      <td>0</td>\n",
              "      <td>1.0</td>\n",
              "      <td>2</td>\n",
              "      <td>1</td>\n",
              "      <td>3</td>\n",
              "    </tr>\n",
              "    <tr>\n",
              "      <th>369</th>\n",
              "      <td>51</td>\n",
              "      <td>1</td>\n",
              "      <td>2</td>\n",
              "      <td>110</td>\n",
              "      <td>175</td>\n",
              "      <td>0</td>\n",
              "      <td>1</td>\n",
              "      <td>123</td>\n",
              "      <td>0</td>\n",
              "      <td>0.6</td>\n",
              "      <td>2</td>\n",
              "      <td>0</td>\n",
              "      <td>2</td>\n",
              "    </tr>\n",
              "    <tr>\n",
              "      <th>204</th>\n",
              "      <td>66</td>\n",
              "      <td>0</td>\n",
              "      <td>2</td>\n",
              "      <td>146</td>\n",
              "      <td>278</td>\n",
              "      <td>0</td>\n",
              "      <td>0</td>\n",
              "      <td>152</td>\n",
              "      <td>0</td>\n",
              "      <td>0.0</td>\n",
              "      <td>1</td>\n",
              "      <td>1</td>\n",
              "      <td>2</td>\n",
              "    </tr>\n",
              "    <tr>\n",
              "      <th>502</th>\n",
              "      <td>46</td>\n",
              "      <td>0</td>\n",
              "      <td>2</td>\n",
              "      <td>142</td>\n",
              "      <td>177</td>\n",
              "      <td>0</td>\n",
              "      <td>0</td>\n",
              "      <td>160</td>\n",
              "      <td>1</td>\n",
              "      <td>1.4</td>\n",
              "      <td>0</td>\n",
              "      <td>0</td>\n",
              "      <td>2</td>\n",
              "    </tr>\n",
              "  </tbody>\n",
              "</table>\n",
              "</div>\n",
              "    <div class=\"colab-df-buttons\">\n",
              "\n",
              "  <div class=\"colab-df-container\">\n",
              "    <button class=\"colab-df-convert\" onclick=\"convertToInteractive('df-d5fd7833-9241-4f82-8bc0-b891fdff01c9')\"\n",
              "            title=\"Convert this dataframe to an interactive table.\"\n",
              "            style=\"display:none;\">\n",
              "\n",
              "  <svg xmlns=\"http://www.w3.org/2000/svg\" height=\"24px\" viewBox=\"0 -960 960 960\">\n",
              "    <path d=\"M120-120v-720h720v720H120Zm60-500h600v-160H180v160Zm220 220h160v-160H400v160Zm0 220h160v-160H400v160ZM180-400h160v-160H180v160Zm440 0h160v-160H620v160ZM180-180h160v-160H180v160Zm440 0h160v-160H620v160Z\"/>\n",
              "  </svg>\n",
              "    </button>\n",
              "\n",
              "  <style>\n",
              "    .colab-df-container {\n",
              "      display:flex;\n",
              "      gap: 12px;\n",
              "    }\n",
              "\n",
              "    .colab-df-convert {\n",
              "      background-color: #E8F0FE;\n",
              "      border: none;\n",
              "      border-radius: 50%;\n",
              "      cursor: pointer;\n",
              "      display: none;\n",
              "      fill: #1967D2;\n",
              "      height: 32px;\n",
              "      padding: 0 0 0 0;\n",
              "      width: 32px;\n",
              "    }\n",
              "\n",
              "    .colab-df-convert:hover {\n",
              "      background-color: #E2EBFA;\n",
              "      box-shadow: 0px 1px 2px rgba(60, 64, 67, 0.3), 0px 1px 3px 1px rgba(60, 64, 67, 0.15);\n",
              "      fill: #174EA6;\n",
              "    }\n",
              "\n",
              "    .colab-df-buttons div {\n",
              "      margin-bottom: 4px;\n",
              "    }\n",
              "\n",
              "    [theme=dark] .colab-df-convert {\n",
              "      background-color: #3B4455;\n",
              "      fill: #D2E3FC;\n",
              "    }\n",
              "\n",
              "    [theme=dark] .colab-df-convert:hover {\n",
              "      background-color: #434B5C;\n",
              "      box-shadow: 0px 1px 3px 1px rgba(0, 0, 0, 0.15);\n",
              "      filter: drop-shadow(0px 1px 2px rgba(0, 0, 0, 0.3));\n",
              "      fill: #FFFFFF;\n",
              "    }\n",
              "  </style>\n",
              "\n",
              "    <script>\n",
              "      const buttonEl =\n",
              "        document.querySelector('#df-d5fd7833-9241-4f82-8bc0-b891fdff01c9 button.colab-df-convert');\n",
              "      buttonEl.style.display =\n",
              "        google.colab.kernel.accessAllowed ? 'block' : 'none';\n",
              "\n",
              "      async function convertToInteractive(key) {\n",
              "        const element = document.querySelector('#df-d5fd7833-9241-4f82-8bc0-b891fdff01c9');\n",
              "        const dataTable =\n",
              "          await google.colab.kernel.invokeFunction('convertToInteractive',\n",
              "                                                    [key], {});\n",
              "        if (!dataTable) return;\n",
              "\n",
              "        const docLinkHtml = 'Like what you see? Visit the ' +\n",
              "          '<a target=\"_blank\" href=https://colab.research.google.com/notebooks/data_table.ipynb>data table notebook</a>'\n",
              "          + ' to learn more about interactive tables.';\n",
              "        element.innerHTML = '';\n",
              "        dataTable['output_type'] = 'display_data';\n",
              "        await google.colab.output.renderOutput(dataTable, element);\n",
              "        const docLink = document.createElement('div');\n",
              "        docLink.innerHTML = docLinkHtml;\n",
              "        element.appendChild(docLink);\n",
              "      }\n",
              "    </script>\n",
              "  </div>\n",
              "\n",
              "\n",
              "<div id=\"df-070d249c-3f99-4710-a0e2-ddab99697a83\">\n",
              "  <button class=\"colab-df-quickchart\" onclick=\"quickchart('df-070d249c-3f99-4710-a0e2-ddab99697a83')\"\n",
              "            title=\"Suggest charts\"\n",
              "            style=\"display:none;\">\n",
              "\n",
              "<svg xmlns=\"http://www.w3.org/2000/svg\" height=\"24px\"viewBox=\"0 0 24 24\"\n",
              "     width=\"24px\">\n",
              "    <g>\n",
              "        <path d=\"M19 3H5c-1.1 0-2 .9-2 2v14c0 1.1.9 2 2 2h14c1.1 0 2-.9 2-2V5c0-1.1-.9-2-2-2zM9 17H7v-7h2v7zm4 0h-2V7h2v10zm4 0h-2v-4h2v4z\"/>\n",
              "    </g>\n",
              "</svg>\n",
              "  </button>\n",
              "\n",
              "<style>\n",
              "  .colab-df-quickchart {\n",
              "      --bg-color: #E8F0FE;\n",
              "      --fill-color: #1967D2;\n",
              "      --hover-bg-color: #E2EBFA;\n",
              "      --hover-fill-color: #174EA6;\n",
              "      --disabled-fill-color: #AAA;\n",
              "      --disabled-bg-color: #DDD;\n",
              "  }\n",
              "\n",
              "  [theme=dark] .colab-df-quickchart {\n",
              "      --bg-color: #3B4455;\n",
              "      --fill-color: #D2E3FC;\n",
              "      --hover-bg-color: #434B5C;\n",
              "      --hover-fill-color: #FFFFFF;\n",
              "      --disabled-bg-color: #3B4455;\n",
              "      --disabled-fill-color: #666;\n",
              "  }\n",
              "\n",
              "  .colab-df-quickchart {\n",
              "    background-color: var(--bg-color);\n",
              "    border: none;\n",
              "    border-radius: 50%;\n",
              "    cursor: pointer;\n",
              "    display: none;\n",
              "    fill: var(--fill-color);\n",
              "    height: 32px;\n",
              "    padding: 0;\n",
              "    width: 32px;\n",
              "  }\n",
              "\n",
              "  .colab-df-quickchart:hover {\n",
              "    background-color: var(--hover-bg-color);\n",
              "    box-shadow: 0 1px 2px rgba(60, 64, 67, 0.3), 0 1px 3px 1px rgba(60, 64, 67, 0.15);\n",
              "    fill: var(--button-hover-fill-color);\n",
              "  }\n",
              "\n",
              "  .colab-df-quickchart-complete:disabled,\n",
              "  .colab-df-quickchart-complete:disabled:hover {\n",
              "    background-color: var(--disabled-bg-color);\n",
              "    fill: var(--disabled-fill-color);\n",
              "    box-shadow: none;\n",
              "  }\n",
              "\n",
              "  .colab-df-spinner {\n",
              "    border: 2px solid var(--fill-color);\n",
              "    border-color: transparent;\n",
              "    border-bottom-color: var(--fill-color);\n",
              "    animation:\n",
              "      spin 1s steps(1) infinite;\n",
              "  }\n",
              "\n",
              "  @keyframes spin {\n",
              "    0% {\n",
              "      border-color: transparent;\n",
              "      border-bottom-color: var(--fill-color);\n",
              "      border-left-color: var(--fill-color);\n",
              "    }\n",
              "    20% {\n",
              "      border-color: transparent;\n",
              "      border-left-color: var(--fill-color);\n",
              "      border-top-color: var(--fill-color);\n",
              "    }\n",
              "    30% {\n",
              "      border-color: transparent;\n",
              "      border-left-color: var(--fill-color);\n",
              "      border-top-color: var(--fill-color);\n",
              "      border-right-color: var(--fill-color);\n",
              "    }\n",
              "    40% {\n",
              "      border-color: transparent;\n",
              "      border-right-color: var(--fill-color);\n",
              "      border-top-color: var(--fill-color);\n",
              "    }\n",
              "    60% {\n",
              "      border-color: transparent;\n",
              "      border-right-color: var(--fill-color);\n",
              "    }\n",
              "    80% {\n",
              "      border-color: transparent;\n",
              "      border-right-color: var(--fill-color);\n",
              "      border-bottom-color: var(--fill-color);\n",
              "    }\n",
              "    90% {\n",
              "      border-color: transparent;\n",
              "      border-bottom-color: var(--fill-color);\n",
              "    }\n",
              "  }\n",
              "</style>\n",
              "\n",
              "  <script>\n",
              "    async function quickchart(key) {\n",
              "      const quickchartButtonEl =\n",
              "        document.querySelector('#' + key + ' button');\n",
              "      quickchartButtonEl.disabled = true;  // To prevent multiple clicks.\n",
              "      quickchartButtonEl.classList.add('colab-df-spinner');\n",
              "      try {\n",
              "        const charts = await google.colab.kernel.invokeFunction(\n",
              "            'suggestCharts', [key], {});\n",
              "      } catch (error) {\n",
              "        console.error('Error during call to suggestCharts:', error);\n",
              "      }\n",
              "      quickchartButtonEl.classList.remove('colab-df-spinner');\n",
              "      quickchartButtonEl.classList.add('colab-df-quickchart-complete');\n",
              "    }\n",
              "    (() => {\n",
              "      let quickchartButtonEl =\n",
              "        document.querySelector('#df-070d249c-3f99-4710-a0e2-ddab99697a83 button');\n",
              "      quickchartButtonEl.style.display =\n",
              "        google.colab.kernel.accessAllowed ? 'block' : 'none';\n",
              "    })();\n",
              "  </script>\n",
              "</div>\n",
              "    </div>\n",
              "  </div>\n"
            ],
            "application/vnd.google.colaboratory.intrinsic+json": {
              "type": "dataframe",
              "variable_name": "data_uji",
              "summary": "{\n  \"name\": \"data_uji\",\n  \"rows\": 205,\n  \"fields\": [\n    {\n      \"column\": \"age\",\n      \"properties\": {\n        \"dtype\": \"number\",\n        \"std\": 8,\n        \"min\": 35,\n        \"max\": 74,\n        \"num_unique_values\": 35,\n        \"samples\": [\n          41,\n          44,\n          49\n        ],\n        \"semantic_type\": \"\",\n        \"description\": \"\"\n      }\n    },\n    {\n      \"column\": \"sex\",\n      \"properties\": {\n        \"dtype\": \"number\",\n        \"std\": 0,\n        \"min\": 0,\n        \"max\": 1,\n        \"num_unique_values\": 2,\n        \"samples\": [\n          0,\n          1\n        ],\n        \"semantic_type\": \"\",\n        \"description\": \"\"\n      }\n    },\n    {\n      \"column\": \"cp\",\n      \"properties\": {\n        \"dtype\": \"number\",\n        \"std\": 1,\n        \"min\": 0,\n        \"max\": 3,\n        \"num_unique_values\": 4,\n        \"samples\": [\n          1,\n          3\n        ],\n        \"semantic_type\": \"\",\n        \"description\": \"\"\n      }\n    },\n    {\n      \"column\": \"trestbps\",\n      \"properties\": {\n        \"dtype\": \"number\",\n        \"std\": 18,\n        \"min\": 94,\n        \"max\": 200,\n        \"num_unique_values\": 39,\n        \"samples\": [\n          122,\n          152\n        ],\n        \"semantic_type\": \"\",\n        \"description\": \"\"\n      }\n    },\n    {\n      \"column\": \"chol\",\n      \"properties\": {\n        \"dtype\": \"number\",\n        \"std\": 49,\n        \"min\": 141,\n        \"max\": 417,\n        \"num_unique_values\": 106,\n        \"samples\": [\n          215,\n          307\n        ],\n        \"semantic_type\": \"\",\n        \"description\": \"\"\n      }\n    },\n    {\n      \"column\": \"fbs\",\n      \"properties\": {\n        \"dtype\": \"number\",\n        \"std\": 0,\n        \"min\": 0,\n        \"max\": 1,\n        \"num_unique_values\": 2,\n        \"samples\": [\n          1,\n          0\n        ],\n        \"semantic_type\": \"\",\n        \"description\": \"\"\n      }\n    },\n    {\n      \"column\": \"restecg\",\n      \"properties\": {\n        \"dtype\": \"number\",\n        \"std\": 0,\n        \"min\": 0,\n        \"max\": 1,\n        \"num_unique_values\": 2,\n        \"samples\": [\n          0,\n          1\n        ],\n        \"semantic_type\": \"\",\n        \"description\": \"\"\n      }\n    },\n    {\n      \"column\": \"thalach\",\n      \"properties\": {\n        \"dtype\": \"number\",\n        \"std\": 20,\n        \"min\": 96,\n        \"max\": 195,\n        \"num_unique_values\": 72,\n        \"samples\": [\n          160,\n          178\n        ],\n        \"semantic_type\": \"\",\n        \"description\": \"\"\n      }\n    },\n    {\n      \"column\": \"exang\",\n      \"properties\": {\n        \"dtype\": \"number\",\n        \"std\": 0,\n        \"min\": 0,\n        \"max\": 1,\n        \"num_unique_values\": 2,\n        \"samples\": [\n          1,\n          0\n        ],\n        \"semantic_type\": \"\",\n        \"description\": \"\"\n      }\n    },\n    {\n      \"column\": \"oldpeak\",\n      \"properties\": {\n        \"dtype\": \"number\",\n        \"std\": 0.9472619052663412,\n        \"min\": 0.0,\n        \"max\": 4.2,\n        \"num_unique_values\": 28,\n        \"samples\": [\n          2.0,\n          0.1\n        ],\n        \"semantic_type\": \"\",\n        \"description\": \"\"\n      }\n    },\n    {\n      \"column\": \"slope\",\n      \"properties\": {\n        \"dtype\": \"number\",\n        \"std\": 0,\n        \"min\": 0,\n        \"max\": 2,\n        \"num_unique_values\": 3,\n        \"samples\": [\n          2,\n          1\n        ],\n        \"semantic_type\": \"\",\n        \"description\": \"\"\n      }\n    },\n    {\n      \"column\": \"ca\",\n      \"properties\": {\n        \"dtype\": \"number\",\n        \"std\": 0,\n        \"min\": 0,\n        \"max\": 4,\n        \"num_unique_values\": 5,\n        \"samples\": [\n          1,\n          4\n        ],\n        \"semantic_type\": \"\",\n        \"description\": \"\"\n      }\n    },\n    {\n      \"column\": \"thal\",\n      \"properties\": {\n        \"dtype\": \"number\",\n        \"std\": 0,\n        \"min\": 0,\n        \"max\": 3,\n        \"num_unique_values\": 4,\n        \"samples\": [\n          3,\n          0\n        ],\n        \"semantic_type\": \"\",\n        \"description\": \"\"\n      }\n    }\n  ]\n}"
            }
          },
          "metadata": {},
          "execution_count": 9
        }
      ]
    },
    {
      "cell_type": "code",
      "source": [
        "data_latih.head()"
      ],
      "metadata": {
        "colab": {
          "base_uri": "https://localhost:8080/",
          "height": 206
        },
        "id": "wxcENxdbslph",
        "outputId": "dbbdd97b-f48c-4464-9dfd-9f91081628d8"
      },
      "execution_count": null,
      "outputs": [
        {
          "output_type": "execute_result",
          "data": {
            "text/plain": [
              "     age  sex  cp  trestbps  chol  fbs  restecg  thalach  exang  oldpeak  \\\n",
              "552   43    0   0       132   341    1        0      136      1      3.0   \n",
              "527   62    0   0       124   209    0        1      163      0      0.0   \n",
              "450   63    0   0       150   407    0        0      154      0      4.0   \n",
              "785   55    1   0       160   289    0        0      145      1      0.8   \n",
              "769   71    0   2       110   265    1        0      130      0      0.0   \n",
              "\n",
              "     slope  ca  thal  target  \n",
              "552      1   0     3       0  \n",
              "527      2   0     2       1  \n",
              "450      1   3     3       0  \n",
              "785      1   1     3       0  \n",
              "769      2   1     2       1  "
            ],
            "text/html": [
              "\n",
              "  <div id=\"df-4c179508-31a9-4316-bd88-fbc466a9a7cf\" class=\"colab-df-container\">\n",
              "    <div>\n",
              "<style scoped>\n",
              "    .dataframe tbody tr th:only-of-type {\n",
              "        vertical-align: middle;\n",
              "    }\n",
              "\n",
              "    .dataframe tbody tr th {\n",
              "        vertical-align: top;\n",
              "    }\n",
              "\n",
              "    .dataframe thead th {\n",
              "        text-align: right;\n",
              "    }\n",
              "</style>\n",
              "<table border=\"1\" class=\"dataframe\">\n",
              "  <thead>\n",
              "    <tr style=\"text-align: right;\">\n",
              "      <th></th>\n",
              "      <th>age</th>\n",
              "      <th>sex</th>\n",
              "      <th>cp</th>\n",
              "      <th>trestbps</th>\n",
              "      <th>chol</th>\n",
              "      <th>fbs</th>\n",
              "      <th>restecg</th>\n",
              "      <th>thalach</th>\n",
              "      <th>exang</th>\n",
              "      <th>oldpeak</th>\n",
              "      <th>slope</th>\n",
              "      <th>ca</th>\n",
              "      <th>thal</th>\n",
              "      <th>target</th>\n",
              "    </tr>\n",
              "  </thead>\n",
              "  <tbody>\n",
              "    <tr>\n",
              "      <th>552</th>\n",
              "      <td>43</td>\n",
              "      <td>0</td>\n",
              "      <td>0</td>\n",
              "      <td>132</td>\n",
              "      <td>341</td>\n",
              "      <td>1</td>\n",
              "      <td>0</td>\n",
              "      <td>136</td>\n",
              "      <td>1</td>\n",
              "      <td>3.0</td>\n",
              "      <td>1</td>\n",
              "      <td>0</td>\n",
              "      <td>3</td>\n",
              "      <td>0</td>\n",
              "    </tr>\n",
              "    <tr>\n",
              "      <th>527</th>\n",
              "      <td>62</td>\n",
              "      <td>0</td>\n",
              "      <td>0</td>\n",
              "      <td>124</td>\n",
              "      <td>209</td>\n",
              "      <td>0</td>\n",
              "      <td>1</td>\n",
              "      <td>163</td>\n",
              "      <td>0</td>\n",
              "      <td>0.0</td>\n",
              "      <td>2</td>\n",
              "      <td>0</td>\n",
              "      <td>2</td>\n",
              "      <td>1</td>\n",
              "    </tr>\n",
              "    <tr>\n",
              "      <th>450</th>\n",
              "      <td>63</td>\n",
              "      <td>0</td>\n",
              "      <td>0</td>\n",
              "      <td>150</td>\n",
              "      <td>407</td>\n",
              "      <td>0</td>\n",
              "      <td>0</td>\n",
              "      <td>154</td>\n",
              "      <td>0</td>\n",
              "      <td>4.0</td>\n",
              "      <td>1</td>\n",
              "      <td>3</td>\n",
              "      <td>3</td>\n",
              "      <td>0</td>\n",
              "    </tr>\n",
              "    <tr>\n",
              "      <th>785</th>\n",
              "      <td>55</td>\n",
              "      <td>1</td>\n",
              "      <td>0</td>\n",
              "      <td>160</td>\n",
              "      <td>289</td>\n",
              "      <td>0</td>\n",
              "      <td>0</td>\n",
              "      <td>145</td>\n",
              "      <td>1</td>\n",
              "      <td>0.8</td>\n",
              "      <td>1</td>\n",
              "      <td>1</td>\n",
              "      <td>3</td>\n",
              "      <td>0</td>\n",
              "    </tr>\n",
              "    <tr>\n",
              "      <th>769</th>\n",
              "      <td>71</td>\n",
              "      <td>0</td>\n",
              "      <td>2</td>\n",
              "      <td>110</td>\n",
              "      <td>265</td>\n",
              "      <td>1</td>\n",
              "      <td>0</td>\n",
              "      <td>130</td>\n",
              "      <td>0</td>\n",
              "      <td>0.0</td>\n",
              "      <td>2</td>\n",
              "      <td>1</td>\n",
              "      <td>2</td>\n",
              "      <td>1</td>\n",
              "    </tr>\n",
              "  </tbody>\n",
              "</table>\n",
              "</div>\n",
              "    <div class=\"colab-df-buttons\">\n",
              "\n",
              "  <div class=\"colab-df-container\">\n",
              "    <button class=\"colab-df-convert\" onclick=\"convertToInteractive('df-4c179508-31a9-4316-bd88-fbc466a9a7cf')\"\n",
              "            title=\"Convert this dataframe to an interactive table.\"\n",
              "            style=\"display:none;\">\n",
              "\n",
              "  <svg xmlns=\"http://www.w3.org/2000/svg\" height=\"24px\" viewBox=\"0 -960 960 960\">\n",
              "    <path d=\"M120-120v-720h720v720H120Zm60-500h600v-160H180v160Zm220 220h160v-160H400v160Zm0 220h160v-160H400v160ZM180-400h160v-160H180v160Zm440 0h160v-160H620v160ZM180-180h160v-160H180v160Zm440 0h160v-160H620v160Z\"/>\n",
              "  </svg>\n",
              "    </button>\n",
              "\n",
              "  <style>\n",
              "    .colab-df-container {\n",
              "      display:flex;\n",
              "      gap: 12px;\n",
              "    }\n",
              "\n",
              "    .colab-df-convert {\n",
              "      background-color: #E8F0FE;\n",
              "      border: none;\n",
              "      border-radius: 50%;\n",
              "      cursor: pointer;\n",
              "      display: none;\n",
              "      fill: #1967D2;\n",
              "      height: 32px;\n",
              "      padding: 0 0 0 0;\n",
              "      width: 32px;\n",
              "    }\n",
              "\n",
              "    .colab-df-convert:hover {\n",
              "      background-color: #E2EBFA;\n",
              "      box-shadow: 0px 1px 2px rgba(60, 64, 67, 0.3), 0px 1px 3px 1px rgba(60, 64, 67, 0.15);\n",
              "      fill: #174EA6;\n",
              "    }\n",
              "\n",
              "    .colab-df-buttons div {\n",
              "      margin-bottom: 4px;\n",
              "    }\n",
              "\n",
              "    [theme=dark] .colab-df-convert {\n",
              "      background-color: #3B4455;\n",
              "      fill: #D2E3FC;\n",
              "    }\n",
              "\n",
              "    [theme=dark] .colab-df-convert:hover {\n",
              "      background-color: #434B5C;\n",
              "      box-shadow: 0px 1px 3px 1px rgba(0, 0, 0, 0.15);\n",
              "      filter: drop-shadow(0px 1px 2px rgba(0, 0, 0, 0.3));\n",
              "      fill: #FFFFFF;\n",
              "    }\n",
              "  </style>\n",
              "\n",
              "    <script>\n",
              "      const buttonEl =\n",
              "        document.querySelector('#df-4c179508-31a9-4316-bd88-fbc466a9a7cf button.colab-df-convert');\n",
              "      buttonEl.style.display =\n",
              "        google.colab.kernel.accessAllowed ? 'block' : 'none';\n",
              "\n",
              "      async function convertToInteractive(key) {\n",
              "        const element = document.querySelector('#df-4c179508-31a9-4316-bd88-fbc466a9a7cf');\n",
              "        const dataTable =\n",
              "          await google.colab.kernel.invokeFunction('convertToInteractive',\n",
              "                                                    [key], {});\n",
              "        if (!dataTable) return;\n",
              "\n",
              "        const docLinkHtml = 'Like what you see? Visit the ' +\n",
              "          '<a target=\"_blank\" href=https://colab.research.google.com/notebooks/data_table.ipynb>data table notebook</a>'\n",
              "          + ' to learn more about interactive tables.';\n",
              "        element.innerHTML = '';\n",
              "        dataTable['output_type'] = 'display_data';\n",
              "        await google.colab.output.renderOutput(dataTable, element);\n",
              "        const docLink = document.createElement('div');\n",
              "        docLink.innerHTML = docLinkHtml;\n",
              "        element.appendChild(docLink);\n",
              "      }\n",
              "    </script>\n",
              "  </div>\n",
              "\n",
              "\n",
              "<div id=\"df-b615392d-017a-4108-a3a2-05e23a5647f5\">\n",
              "  <button class=\"colab-df-quickchart\" onclick=\"quickchart('df-b615392d-017a-4108-a3a2-05e23a5647f5')\"\n",
              "            title=\"Suggest charts\"\n",
              "            style=\"display:none;\">\n",
              "\n",
              "<svg xmlns=\"http://www.w3.org/2000/svg\" height=\"24px\"viewBox=\"0 0 24 24\"\n",
              "     width=\"24px\">\n",
              "    <g>\n",
              "        <path d=\"M19 3H5c-1.1 0-2 .9-2 2v14c0 1.1.9 2 2 2h14c1.1 0 2-.9 2-2V5c0-1.1-.9-2-2-2zM9 17H7v-7h2v7zm4 0h-2V7h2v10zm4 0h-2v-4h2v4z\"/>\n",
              "    </g>\n",
              "</svg>\n",
              "  </button>\n",
              "\n",
              "<style>\n",
              "  .colab-df-quickchart {\n",
              "      --bg-color: #E8F0FE;\n",
              "      --fill-color: #1967D2;\n",
              "      --hover-bg-color: #E2EBFA;\n",
              "      --hover-fill-color: #174EA6;\n",
              "      --disabled-fill-color: #AAA;\n",
              "      --disabled-bg-color: #DDD;\n",
              "  }\n",
              "\n",
              "  [theme=dark] .colab-df-quickchart {\n",
              "      --bg-color: #3B4455;\n",
              "      --fill-color: #D2E3FC;\n",
              "      --hover-bg-color: #434B5C;\n",
              "      --hover-fill-color: #FFFFFF;\n",
              "      --disabled-bg-color: #3B4455;\n",
              "      --disabled-fill-color: #666;\n",
              "  }\n",
              "\n",
              "  .colab-df-quickchart {\n",
              "    background-color: var(--bg-color);\n",
              "    border: none;\n",
              "    border-radius: 50%;\n",
              "    cursor: pointer;\n",
              "    display: none;\n",
              "    fill: var(--fill-color);\n",
              "    height: 32px;\n",
              "    padding: 0;\n",
              "    width: 32px;\n",
              "  }\n",
              "\n",
              "  .colab-df-quickchart:hover {\n",
              "    background-color: var(--hover-bg-color);\n",
              "    box-shadow: 0 1px 2px rgba(60, 64, 67, 0.3), 0 1px 3px 1px rgba(60, 64, 67, 0.15);\n",
              "    fill: var(--button-hover-fill-color);\n",
              "  }\n",
              "\n",
              "  .colab-df-quickchart-complete:disabled,\n",
              "  .colab-df-quickchart-complete:disabled:hover {\n",
              "    background-color: var(--disabled-bg-color);\n",
              "    fill: var(--disabled-fill-color);\n",
              "    box-shadow: none;\n",
              "  }\n",
              "\n",
              "  .colab-df-spinner {\n",
              "    border: 2px solid var(--fill-color);\n",
              "    border-color: transparent;\n",
              "    border-bottom-color: var(--fill-color);\n",
              "    animation:\n",
              "      spin 1s steps(1) infinite;\n",
              "  }\n",
              "\n",
              "  @keyframes spin {\n",
              "    0% {\n",
              "      border-color: transparent;\n",
              "      border-bottom-color: var(--fill-color);\n",
              "      border-left-color: var(--fill-color);\n",
              "    }\n",
              "    20% {\n",
              "      border-color: transparent;\n",
              "      border-left-color: var(--fill-color);\n",
              "      border-top-color: var(--fill-color);\n",
              "    }\n",
              "    30% {\n",
              "      border-color: transparent;\n",
              "      border-left-color: var(--fill-color);\n",
              "      border-top-color: var(--fill-color);\n",
              "      border-right-color: var(--fill-color);\n",
              "    }\n",
              "    40% {\n",
              "      border-color: transparent;\n",
              "      border-right-color: var(--fill-color);\n",
              "      border-top-color: var(--fill-color);\n",
              "    }\n",
              "    60% {\n",
              "      border-color: transparent;\n",
              "      border-right-color: var(--fill-color);\n",
              "    }\n",
              "    80% {\n",
              "      border-color: transparent;\n",
              "      border-right-color: var(--fill-color);\n",
              "      border-bottom-color: var(--fill-color);\n",
              "    }\n",
              "    90% {\n",
              "      border-color: transparent;\n",
              "      border-bottom-color: var(--fill-color);\n",
              "    }\n",
              "  }\n",
              "</style>\n",
              "\n",
              "  <script>\n",
              "    async function quickchart(key) {\n",
              "      const quickchartButtonEl =\n",
              "        document.querySelector('#' + key + ' button');\n",
              "      quickchartButtonEl.disabled = true;  // To prevent multiple clicks.\n",
              "      quickchartButtonEl.classList.add('colab-df-spinner');\n",
              "      try {\n",
              "        const charts = await google.colab.kernel.invokeFunction(\n",
              "            'suggestCharts', [key], {});\n",
              "      } catch (error) {\n",
              "        console.error('Error during call to suggestCharts:', error);\n",
              "      }\n",
              "      quickchartButtonEl.classList.remove('colab-df-spinner');\n",
              "      quickchartButtonEl.classList.add('colab-df-quickchart-complete');\n",
              "    }\n",
              "    (() => {\n",
              "      let quickchartButtonEl =\n",
              "        document.querySelector('#df-b615392d-017a-4108-a3a2-05e23a5647f5 button');\n",
              "      quickchartButtonEl.style.display =\n",
              "        google.colab.kernel.accessAllowed ? 'block' : 'none';\n",
              "    })();\n",
              "  </script>\n",
              "</div>\n",
              "    </div>\n",
              "  </div>\n"
            ],
            "application/vnd.google.colaboratory.intrinsic+json": {
              "type": "dataframe",
              "variable_name": "data_latih",
              "summary": "{\n  \"name\": \"data_latih\",\n  \"rows\": 820,\n  \"fields\": [\n    {\n      \"column\": \"age\",\n      \"properties\": {\n        \"dtype\": \"number\",\n        \"std\": 9,\n        \"min\": 29,\n        \"max\": 77,\n        \"num_unique_values\": 41,\n        \"samples\": [\n          29,\n          56,\n          42\n        ],\n        \"semantic_type\": \"\",\n        \"description\": \"\"\n      }\n    },\n    {\n      \"column\": \"sex\",\n      \"properties\": {\n        \"dtype\": \"number\",\n        \"std\": 0,\n        \"min\": 0,\n        \"max\": 1,\n        \"num_unique_values\": 2,\n        \"samples\": [\n          1,\n          0\n        ],\n        \"semantic_type\": \"\",\n        \"description\": \"\"\n      }\n    },\n    {\n      \"column\": \"cp\",\n      \"properties\": {\n        \"dtype\": \"number\",\n        \"std\": 1,\n        \"min\": 0,\n        \"max\": 3,\n        \"num_unique_values\": 4,\n        \"samples\": [\n          2,\n          3\n        ],\n        \"semantic_type\": \"\",\n        \"description\": \"\"\n      }\n    },\n    {\n      \"column\": \"trestbps\",\n      \"properties\": {\n        \"dtype\": \"number\",\n        \"std\": 17,\n        \"min\": 94,\n        \"max\": 200,\n        \"num_unique_values\": 49,\n        \"samples\": [\n          134,\n          114\n        ],\n        \"semantic_type\": \"\",\n        \"description\": \"\"\n      }\n    },\n    {\n      \"column\": \"chol\",\n      \"properties\": {\n        \"dtype\": \"number\",\n        \"std\": 52,\n        \"min\": 126,\n        \"max\": 564,\n        \"num_unique_values\": 152,\n        \"samples\": [\n          276,\n          178\n        ],\n        \"semantic_type\": \"\",\n        \"description\": \"\"\n      }\n    },\n    {\n      \"column\": \"fbs\",\n      \"properties\": {\n        \"dtype\": \"number\",\n        \"std\": 0,\n        \"min\": 0,\n        \"max\": 1,\n        \"num_unique_values\": 2,\n        \"samples\": [\n          0,\n          1\n        ],\n        \"semantic_type\": \"\",\n        \"description\": \"\"\n      }\n    },\n    {\n      \"column\": \"restecg\",\n      \"properties\": {\n        \"dtype\": \"number\",\n        \"std\": 0,\n        \"min\": 0,\n        \"max\": 2,\n        \"num_unique_values\": 3,\n        \"samples\": [\n          0,\n          1\n        ],\n        \"semantic_type\": \"\",\n        \"description\": \"\"\n      }\n    },\n    {\n      \"column\": \"thalach\",\n      \"properties\": {\n        \"dtype\": \"number\",\n        \"std\": 23,\n        \"min\": 71,\n        \"max\": 202,\n        \"num_unique_values\": 91,\n        \"samples\": [\n          142,\n          157\n        ],\n        \"semantic_type\": \"\",\n        \"description\": \"\"\n      }\n    },\n    {\n      \"column\": \"exang\",\n      \"properties\": {\n        \"dtype\": \"number\",\n        \"std\": 0,\n        \"min\": 0,\n        \"max\": 1,\n        \"num_unique_values\": 2,\n        \"samples\": [\n          0,\n          1\n        ],\n        \"semantic_type\": \"\",\n        \"description\": \"\"\n      }\n    },\n    {\n      \"column\": \"oldpeak\",\n      \"properties\": {\n        \"dtype\": \"number\",\n        \"std\": 1.217620173210284,\n        \"min\": 0.0,\n        \"max\": 6.2,\n        \"num_unique_values\": 40,\n        \"samples\": [\n          1.5,\n          0.6\n        ],\n        \"semantic_type\": \"\",\n        \"description\": \"\"\n      }\n    },\n    {\n      \"column\": \"slope\",\n      \"properties\": {\n        \"dtype\": \"number\",\n        \"std\": 0,\n        \"min\": 0,\n        \"max\": 2,\n        \"num_unique_values\": 3,\n        \"samples\": [\n          1,\n          2\n        ],\n        \"semantic_type\": \"\",\n        \"description\": \"\"\n      }\n    },\n    {\n      \"column\": \"ca\",\n      \"properties\": {\n        \"dtype\": \"number\",\n        \"std\": 1,\n        \"min\": 0,\n        \"max\": 4,\n        \"num_unique_values\": 5,\n        \"samples\": [\n          3,\n          4\n        ],\n        \"semantic_type\": \"\",\n        \"description\": \"\"\n      }\n    },\n    {\n      \"column\": \"thal\",\n      \"properties\": {\n        \"dtype\": \"number\",\n        \"std\": 0,\n        \"min\": 0,\n        \"max\": 3,\n        \"num_unique_values\": 4,\n        \"samples\": [\n          2,\n          0\n        ],\n        \"semantic_type\": \"\",\n        \"description\": \"\"\n      }\n    },\n    {\n      \"column\": \"target\",\n      \"properties\": {\n        \"dtype\": \"number\",\n        \"std\": 0,\n        \"min\": 0,\n        \"max\": 1,\n        \"num_unique_values\": 2,\n        \"samples\": [\n          1,\n          0\n        ],\n        \"semantic_type\": \"\",\n        \"description\": \"\"\n      }\n    }\n  ]\n}"
            }
          },
          "metadata": {},
          "execution_count": 10
        }
      ]
    },
    {
      "cell_type": "markdown",
      "source": [
        "#Menghitung prior"
      ],
      "metadata": {
        "id": "gpN_ULiXs7OX"
      }
    },
    {
      "cell_type": "code",
      "source": [
        "from collections import Counter\n",
        "def hitung_prior(list_kelas):\n",
        "  n_data = len(list_kelas)\n",
        "  prior = Counter(list_kelas)\n",
        "  for key in prior.keys():\n",
        "    prior[key]=prior[key]/n_data\n",
        "  return prior"
      ],
      "metadata": {
        "id": "J0YSyA81s8xQ"
      },
      "execution_count": null,
      "outputs": []
    },
    {
      "cell_type": "code",
      "source": [
        "n_data=len(data_latih)\n",
        "n_data"
      ],
      "metadata": {
        "colab": {
          "base_uri": "https://localhost:8080/"
        },
        "id": "Ogyq2NpttLjG",
        "outputId": "3131c868-6383-4cf6-ed84-bd97b06a70e0"
      },
      "execution_count": null,
      "outputs": [
        {
          "output_type": "execute_result",
          "data": {
            "text/plain": [
              "820"
            ]
          },
          "metadata": {},
          "execution_count": 12
        }
      ]
    },
    {
      "cell_type": "code",
      "source": [
        "test=Counter(data_latih['target'])\n",
        "test"
      ],
      "metadata": {
        "colab": {
          "base_uri": "https://localhost:8080/"
        },
        "id": "8RCOPH1vtL9M",
        "outputId": "6b774191-b6e2-4f20-aa2f-b2b7799521eb"
      },
      "execution_count": null,
      "outputs": [
        {
          "output_type": "execute_result",
          "data": {
            "text/plain": [
              "Counter({0: 407, 1: 413})"
            ]
          },
          "metadata": {},
          "execution_count": 14
        }
      ]
    },
    {
      "cell_type": "code",
      "source": [
        "prior = hitung_prior(data_latih['target'])\n",
        "print(prior)"
      ],
      "metadata": {
        "colab": {
          "base_uri": "https://localhost:8080/"
        },
        "id": "wDHbUVsUtZuJ",
        "outputId": "2365e0c5-b044-41e9-b7af-3f6e97587fdd"
      },
      "execution_count": null,
      "outputs": [
        {
          "output_type": "stream",
          "name": "stdout",
          "text": [
            "Counter({1: 0.5036585365853659, 0: 0.49634146341463414})\n"
          ]
        }
      ]
    },
    {
      "cell_type": "markdown",
      "source": [
        "#Menghitung likelihood"
      ],
      "metadata": {
        "id": "Ss90DAmkt0mI"
      }
    },
    {
      "cell_type": "code",
      "source": [
        "def hitung_rata2_std_kelas(input_data):\n",
        "  # Simpan list kolom\n",
        "  list_columns = input_data.columns[:-1]\n",
        "  # Simpan nama kolom kelas\n",
        "  class_column_name = input_data.columns[-1]\n",
        "  # Simpan list kelas\n",
        "  list_class = set(input_data[class_column_name])\n",
        "  rata2 = {}\n",
        "  std = {}\n",
        "  for column in list_columns:\n",
        "    for a_class in list_class:\n",
        "        rata2[(a_class,column)] = input_data.loc[input_data[class_column_name] == a_class][column].mean()\n",
        "        std[(a_class,column)] = input_data.loc[input_data[class_column_name]==a_class][column].std()\n",
        "  print(rata2)\n",
        "  print(std)\n",
        "  return(rata2,std)"
      ],
      "metadata": {
        "id": "y3Xfygm6uKJe"
      },
      "execution_count": null,
      "outputs": []
    },
    {
      "cell_type": "code",
      "source": [
        "list_columns = data_latih.columns[:-1]\n",
        "print(list_columns)"
      ],
      "metadata": {
        "colab": {
          "base_uri": "https://localhost:8080/"
        },
        "id": "evlgzlETuW7g",
        "outputId": "a166be05-a9a5-4675-f51f-4127a26b6fff"
      },
      "execution_count": null,
      "outputs": [
        {
          "output_type": "stream",
          "name": "stdout",
          "text": [
            "Index(['age', 'sex', 'cp', 'trestbps', 'chol', 'fbs', 'restecg', 'thalach',\n",
            "       'exang', 'oldpeak', 'slope', 'ca', 'thal'],\n",
            "      dtype='object')\n"
          ]
        }
      ]
    },
    {
      "cell_type": "code",
      "source": [
        "class_column_name = data_latih.columns[-1]\n",
        "print(class_column_name)"
      ],
      "metadata": {
        "colab": {
          "base_uri": "https://localhost:8080/"
        },
        "id": "zKgIrSfRuXhY",
        "outputId": "6a0ea797-0c94-40c7-cb1f-866527a5b920"
      },
      "execution_count": null,
      "outputs": [
        {
          "output_type": "stream",
          "name": "stdout",
          "text": [
            "target\n"
          ]
        }
      ]
    },
    {
      "cell_type": "code",
      "source": [
        "list_class = set(data_latih[class_column_name])\n",
        "print(list_class)"
      ],
      "metadata": {
        "colab": {
          "base_uri": "https://localhost:8080/"
        },
        "id": "VHQNrkWsuY-Z",
        "outputId": "c1a03756-0b96-495b-bcd3-35e4e1cdc089"
      },
      "execution_count": null,
      "outputs": [
        {
          "output_type": "stream",
          "name": "stdout",
          "text": [
            "{0, 1}\n"
          ]
        }
      ]
    },
    {
      "cell_type": "code",
      "source": [
        "rata2 = {}\n",
        "std = {}\n",
        "for column in list_columns:\n",
        "  for a_class in list_class:\n",
        "      rata2[(a_class,column)] = data_latih.loc[data_latih[class_column_name] == a_class][column].mean()\n",
        "      print(rata2)\n",
        "      std[(a_class,column)] = data_latih.loc[data_latih[class_column_name]==a_class][column].std()\n",
        "      print(std)\n",
        "      print(\"=====\")"
      ],
      "metadata": {
        "colab": {
          "base_uri": "https://localhost:8080/"
        },
        "id": "C7mnr0_4uaYk",
        "outputId": "976743d7-f5c6-445d-80ae-e50727757c5d"
      },
      "execution_count": null,
      "outputs": [
        {
          "output_type": "stream",
          "name": "stdout",
          "text": [
            "{(0, 'age'): 56.71990171990172}\n",
            "{(0, 'age'): 8.021226273225174}\n",
            "=====\n",
            "{(0, 'age'): 56.71990171990172, (1, 'age'): 52.30508474576271}\n",
            "{(0, 'age'): 8.021226273225174, (1, 'age'): 9.911202757588203}\n",
            "=====\n",
            "{(0, 'age'): 56.71990171990172, (1, 'age'): 52.30508474576271, (0, 'sex'): 0.8304668304668305}\n",
            "{(0, 'age'): 8.021226273225174, (1, 'age'): 9.911202757588203, (0, 'sex'): 0.37568397820945076}\n",
            "=====\n",
            "{(0, 'age'): 56.71990171990172, (1, 'age'): 52.30508474576271, (0, 'sex'): 0.8304668304668305, (1, 'sex'): 0.559322033898305}\n",
            "{(0, 'age'): 8.021226273225174, (1, 'age'): 9.911202757588203, (0, 'sex'): 0.37568397820945076, (1, 'sex'): 0.49707056933279015}\n",
            "=====\n",
            "{(0, 'age'): 56.71990171990172, (1, 'age'): 52.30508474576271, (0, 'sex'): 0.8304668304668305, (1, 'sex'): 0.559322033898305, (0, 'cp'): 0.4643734643734644}\n",
            "{(0, 'age'): 8.021226273225174, (1, 'age'): 9.911202757588203, (0, 'sex'): 0.37568397820945076, (1, 'sex'): 0.49707056933279015, (0, 'cp'): 0.8867294965671908}\n",
            "=====\n",
            "{(0, 'age'): 56.71990171990172, (1, 'age'): 52.30508474576271, (0, 'sex'): 0.8304668304668305, (1, 'sex'): 0.559322033898305, (0, 'cp'): 0.4643734643734644, (1, 'cp'): 1.3510895883777239}\n",
            "{(0, 'age'): 8.021226273225174, (1, 'age'): 9.911202757588203, (0, 'sex'): 0.37568397820945076, (1, 'sex'): 0.49707056933279015, (0, 'cp'): 0.8867294965671908, (1, 'cp'): 0.9503346493935371}\n",
            "=====\n",
            "{(0, 'age'): 56.71990171990172, (1, 'age'): 52.30508474576271, (0, 'sex'): 0.8304668304668305, (1, 'sex'): 0.559322033898305, (0, 'cp'): 0.4643734643734644, (1, 'cp'): 1.3510895883777239, (0, 'trestbps'): 134.06879606879608}\n",
            "{(0, 'age'): 8.021226273225174, (1, 'age'): 9.911202757588203, (0, 'sex'): 0.37568397820945076, (1, 'sex'): 0.49707056933279015, (0, 'cp'): 0.8867294965671908, (1, 'cp'): 0.9503346493935371, (0, 'trestbps'): 17.87505029171152}\n",
            "=====\n",
            "{(0, 'age'): 56.71990171990172, (1, 'age'): 52.30508474576271, (0, 'sex'): 0.8304668304668305, (1, 'sex'): 0.559322033898305, (0, 'cp'): 0.4643734643734644, (1, 'cp'): 1.3510895883777239, (0, 'trestbps'): 134.06879606879608, (1, 'trestbps'): 129.43099273607749}\n",
            "{(0, 'age'): 8.021226273225174, (1, 'age'): 9.911202757588203, (0, 'sex'): 0.37568397820945076, (1, 'sex'): 0.49707056933279015, (0, 'cp'): 0.8867294965671908, (1, 'cp'): 0.9503346493935371, (0, 'trestbps'): 17.87505029171152, (1, 'trestbps'): 16.189209166279827}\n",
            "=====\n",
            "{(0, 'age'): 56.71990171990172, (1, 'age'): 52.30508474576271, (0, 'sex'): 0.8304668304668305, (1, 'sex'): 0.559322033898305, (0, 'cp'): 0.4643734643734644, (1, 'cp'): 1.3510895883777239, (0, 'trestbps'): 134.06879606879608, (1, 'trestbps'): 129.43099273607749, (0, 'chol'): 249.80835380835381}\n",
            "{(0, 'age'): 8.021226273225174, (1, 'age'): 9.911202757588203, (0, 'sex'): 0.37568397820945076, (1, 'sex'): 0.49707056933279015, (0, 'cp'): 0.8867294965671908, (1, 'cp'): 0.9503346493935371, (0, 'trestbps'): 17.87505029171152, (1, 'trestbps'): 16.189209166279827, (0, 'chol'): 49.387456066713}\n",
            "=====\n",
            "{(0, 'age'): 56.71990171990172, (1, 'age'): 52.30508474576271, (0, 'sex'): 0.8304668304668305, (1, 'sex'): 0.559322033898305, (0, 'cp'): 0.4643734643734644, (1, 'cp'): 1.3510895883777239, (0, 'trestbps'): 134.06879606879608, (1, 'trestbps'): 129.43099273607749, (0, 'chol'): 249.80835380835381, (1, 'chol'): 241.04600484261502}\n",
            "{(0, 'age'): 8.021226273225174, (1, 'age'): 9.911202757588203, (0, 'sex'): 0.37568397820945076, (1, 'sex'): 0.49707056933279015, (0, 'cp'): 0.8867294965671908, (1, 'cp'): 0.9503346493935371, (0, 'trestbps'): 17.87505029171152, (1, 'trestbps'): 16.189209166279827, (0, 'chol'): 49.387456066713, (1, 'chol'): 54.35004590676937}\n",
            "=====\n",
            "{(0, 'age'): 56.71990171990172, (1, 'age'): 52.30508474576271, (0, 'sex'): 0.8304668304668305, (1, 'sex'): 0.559322033898305, (0, 'cp'): 0.4643734643734644, (1, 'cp'): 1.3510895883777239, (0, 'trestbps'): 134.06879606879608, (1, 'trestbps'): 129.43099273607749, (0, 'chol'): 249.80835380835381, (1, 'chol'): 241.04600484261502, (0, 'fbs'): 0.16216216216216217}\n",
            "{(0, 'age'): 8.021226273225174, (1, 'age'): 9.911202757588203, (0, 'sex'): 0.37568397820945076, (1, 'sex'): 0.49707056933279015, (0, 'cp'): 0.8867294965671908, (1, 'cp'): 0.9503346493935371, (0, 'trestbps'): 17.87505029171152, (1, 'trestbps'): 16.189209166279827, (0, 'chol'): 49.387456066713, (1, 'chol'): 54.35004590676937, (0, 'fbs'): 0.36905316642526653}\n",
            "=====\n",
            "{(0, 'age'): 56.71990171990172, (1, 'age'): 52.30508474576271, (0, 'sex'): 0.8304668304668305, (1, 'sex'): 0.559322033898305, (0, 'cp'): 0.4643734643734644, (1, 'cp'): 1.3510895883777239, (0, 'trestbps'): 134.06879606879608, (1, 'trestbps'): 129.43099273607749, (0, 'chol'): 249.80835380835381, (1, 'chol'): 241.04600484261502, (0, 'fbs'): 0.16216216216216217, (1, 'fbs'): 0.12832929782082325}\n",
            "{(0, 'age'): 8.021226273225174, (1, 'age'): 9.911202757588203, (0, 'sex'): 0.37568397820945076, (1, 'sex'): 0.49707056933279015, (0, 'cp'): 0.8867294965671908, (1, 'cp'): 0.9503346493935371, (0, 'trestbps'): 17.87505029171152, (1, 'trestbps'): 16.189209166279827, (0, 'chol'): 49.387456066713, (1, 'chol'): 54.35004590676937, (0, 'fbs'): 0.36905316642526653, (1, 'fbs'): 0.33486175678049207}\n",
            "=====\n",
            "{(0, 'age'): 56.71990171990172, (1, 'age'): 52.30508474576271, (0, 'sex'): 0.8304668304668305, (1, 'sex'): 0.559322033898305, (0, 'cp'): 0.4643734643734644, (1, 'cp'): 1.3510895883777239, (0, 'trestbps'): 134.06879606879608, (1, 'trestbps'): 129.43099273607749, (0, 'chol'): 249.80835380835381, (1, 'chol'): 241.04600484261502, (0, 'fbs'): 0.16216216216216217, (1, 'fbs'): 0.12832929782082325, (0, 'restecg'): 0.4692874692874693}\n",
            "{(0, 'age'): 8.021226273225174, (1, 'age'): 9.911202757588203, (0, 'sex'): 0.37568397820945076, (1, 'sex'): 0.49707056933279015, (0, 'cp'): 0.8867294965671908, (1, 'cp'): 0.9503346493935371, (0, 'trestbps'): 17.87505029171152, (1, 'trestbps'): 16.189209166279827, (0, 'chol'): 49.387456066713, (1, 'chol'): 54.35004590676937, (0, 'fbs'): 0.36905316642526653, (1, 'fbs'): 0.33486175678049207, (0, 'restecg'): 0.5556828962612348}\n",
            "=====\n",
            "{(0, 'age'): 56.71990171990172, (1, 'age'): 52.30508474576271, (0, 'sex'): 0.8304668304668305, (1, 'sex'): 0.559322033898305, (0, 'cp'): 0.4643734643734644, (1, 'cp'): 1.3510895883777239, (0, 'trestbps'): 134.06879606879608, (1, 'trestbps'): 129.43099273607749, (0, 'chol'): 249.80835380835381, (1, 'chol'): 241.04600484261502, (0, 'fbs'): 0.16216216216216217, (1, 'fbs'): 0.12832929782082325, (0, 'restecg'): 0.4692874692874693, (1, 'restecg'): 0.6004842615012107}\n",
            "{(0, 'age'): 8.021226273225174, (1, 'age'): 9.911202757588203, (0, 'sex'): 0.37568397820945076, (1, 'sex'): 0.49707056933279015, (0, 'cp'): 0.8867294965671908, (1, 'cp'): 0.9503346493935371, (0, 'trestbps'): 17.87505029171152, (1, 'trestbps'): 16.189209166279827, (0, 'chol'): 49.387456066713, (1, 'chol'): 54.35004590676937, (0, 'fbs'): 0.36905316642526653, (1, 'fbs'): 0.33486175678049207, (0, 'restecg'): 0.5556828962612348, (1, 'restecg'): 0.5050230773053066}\n",
            "=====\n",
            "{(0, 'age'): 56.71990171990172, (1, 'age'): 52.30508474576271, (0, 'sex'): 0.8304668304668305, (1, 'sex'): 0.559322033898305, (0, 'cp'): 0.4643734643734644, (1, 'cp'): 1.3510895883777239, (0, 'trestbps'): 134.06879606879608, (1, 'trestbps'): 129.43099273607749, (0, 'chol'): 249.80835380835381, (1, 'chol'): 241.04600484261502, (0, 'fbs'): 0.16216216216216217, (1, 'fbs'): 0.12832929782082325, (0, 'restecg'): 0.4692874692874693, (1, 'restecg'): 0.6004842615012107, (0, 'thalach'): 137.85257985257985}\n",
            "{(0, 'age'): 8.021226273225174, (1, 'age'): 9.911202757588203, (0, 'sex'): 0.37568397820945076, (1, 'sex'): 0.49707056933279015, (0, 'cp'): 0.8867294965671908, (1, 'cp'): 0.9503346493935371, (0, 'trestbps'): 17.87505029171152, (1, 'trestbps'): 16.189209166279827, (0, 'chol'): 49.387456066713, (1, 'chol'): 54.35004590676937, (0, 'fbs'): 0.36905316642526653, (1, 'fbs'): 0.33486175678049207, (0, 'restecg'): 0.5556828962612348, (1, 'restecg'): 0.5050230773053066, (0, 'thalach'): 22.552355877895295}\n",
            "=====\n",
            "{(0, 'age'): 56.71990171990172, (1, 'age'): 52.30508474576271, (0, 'sex'): 0.8304668304668305, (1, 'sex'): 0.559322033898305, (0, 'cp'): 0.4643734643734644, (1, 'cp'): 1.3510895883777239, (0, 'trestbps'): 134.06879606879608, (1, 'trestbps'): 129.43099273607749, (0, 'chol'): 249.80835380835381, (1, 'chol'): 241.04600484261502, (0, 'fbs'): 0.16216216216216217, (1, 'fbs'): 0.12832929782082325, (0, 'restecg'): 0.4692874692874693, (1, 'restecg'): 0.6004842615012107, (0, 'thalach'): 137.85257985257985, (1, 'thalach'): 158.76513317191282}\n",
            "{(0, 'age'): 8.021226273225174, (1, 'age'): 9.911202757588203, (0, 'sex'): 0.37568397820945076, (1, 'sex'): 0.49707056933279015, (0, 'cp'): 0.8867294965671908, (1, 'cp'): 0.9503346493935371, (0, 'trestbps'): 17.87505029171152, (1, 'trestbps'): 16.189209166279827, (0, 'chol'): 49.387456066713, (1, 'chol'): 54.35004590676937, (0, 'fbs'): 0.36905316642526653, (1, 'fbs'): 0.33486175678049207, (0, 'restecg'): 0.5556828962612348, (1, 'restecg'): 0.5050230773053066, (0, 'thalach'): 22.552355877895295, (1, 'thalach'): 19.33093362840539}\n",
            "=====\n",
            "{(0, 'age'): 56.71990171990172, (1, 'age'): 52.30508474576271, (0, 'sex'): 0.8304668304668305, (1, 'sex'): 0.559322033898305, (0, 'cp'): 0.4643734643734644, (1, 'cp'): 1.3510895883777239, (0, 'trestbps'): 134.06879606879608, (1, 'trestbps'): 129.43099273607749, (0, 'chol'): 249.80835380835381, (1, 'chol'): 241.04600484261502, (0, 'fbs'): 0.16216216216216217, (1, 'fbs'): 0.12832929782082325, (0, 'restecg'): 0.4692874692874693, (1, 'restecg'): 0.6004842615012107, (0, 'thalach'): 137.85257985257985, (1, 'thalach'): 158.76513317191282, (0, 'exang'): 0.5700245700245701}\n",
            "{(0, 'age'): 8.021226273225174, (1, 'age'): 9.911202757588203, (0, 'sex'): 0.37568397820945076, (1, 'sex'): 0.49707056933279015, (0, 'cp'): 0.8867294965671908, (1, 'cp'): 0.9503346493935371, (0, 'trestbps'): 17.87505029171152, (1, 'trestbps'): 16.189209166279827, (0, 'chol'): 49.387456066713, (1, 'chol'): 54.35004590676937, (0, 'fbs'): 0.36905316642526653, (1, 'fbs'): 0.33486175678049207, (0, 'restecg'): 0.5556828962612348, (1, 'restecg'): 0.5050230773053066, (0, 'thalach'): 22.552355877895295, (1, 'thalach'): 19.33093362840539, (0, 'exang'): 0.49568159709660964}\n",
            "=====\n",
            "{(0, 'age'): 56.71990171990172, (1, 'age'): 52.30508474576271, (0, 'sex'): 0.8304668304668305, (1, 'sex'): 0.559322033898305, (0, 'cp'): 0.4643734643734644, (1, 'cp'): 1.3510895883777239, (0, 'trestbps'): 134.06879606879608, (1, 'trestbps'): 129.43099273607749, (0, 'chol'): 249.80835380835381, (1, 'chol'): 241.04600484261502, (0, 'fbs'): 0.16216216216216217, (1, 'fbs'): 0.12832929782082325, (0, 'restecg'): 0.4692874692874693, (1, 'restecg'): 0.6004842615012107, (0, 'thalach'): 137.85257985257985, (1, 'thalach'): 158.76513317191282, (0, 'exang'): 0.5700245700245701, (1, 'exang'): 0.12832929782082325}\n",
            "{(0, 'age'): 8.021226273225174, (1, 'age'): 9.911202757588203, (0, 'sex'): 0.37568397820945076, (1, 'sex'): 0.49707056933279015, (0, 'cp'): 0.8867294965671908, (1, 'cp'): 0.9503346493935371, (0, 'trestbps'): 17.87505029171152, (1, 'trestbps'): 16.189209166279827, (0, 'chol'): 49.387456066713, (1, 'chol'): 54.35004590676937, (0, 'fbs'): 0.36905316642526653, (1, 'fbs'): 0.33486175678049207, (0, 'restecg'): 0.5556828962612348, (1, 'restecg'): 0.5050230773053066, (0, 'thalach'): 22.552355877895295, (1, 'thalach'): 19.33093362840539, (0, 'exang'): 0.49568159709660964, (1, 'exang'): 0.334861756780492}\n",
            "=====\n",
            "{(0, 'age'): 56.71990171990172, (1, 'age'): 52.30508474576271, (0, 'sex'): 0.8304668304668305, (1, 'sex'): 0.559322033898305, (0, 'cp'): 0.4643734643734644, (1, 'cp'): 1.3510895883777239, (0, 'trestbps'): 134.06879606879608, (1, 'trestbps'): 129.43099273607749, (0, 'chol'): 249.80835380835381, (1, 'chol'): 241.04600484261502, (0, 'fbs'): 0.16216216216216217, (1, 'fbs'): 0.12832929782082325, (0, 'restecg'): 0.4692874692874693, (1, 'restecg'): 0.6004842615012107, (0, 'thalach'): 137.85257985257985, (1, 'thalach'): 158.76513317191282, (0, 'exang'): 0.5700245700245701, (1, 'exang'): 0.12832929782082325, (0, 'oldpeak'): 1.6950859950859953}\n",
            "{(0, 'age'): 8.021226273225174, (1, 'age'): 9.911202757588203, (0, 'sex'): 0.37568397820945076, (1, 'sex'): 0.49707056933279015, (0, 'cp'): 0.8867294965671908, (1, 'cp'): 0.9503346493935371, (0, 'trestbps'): 17.87505029171152, (1, 'trestbps'): 16.189209166279827, (0, 'chol'): 49.387456066713, (1, 'chol'): 54.35004590676937, (0, 'fbs'): 0.36905316642526653, (1, 'fbs'): 0.33486175678049207, (0, 'restecg'): 0.5556828962612348, (1, 'restecg'): 0.5050230773053066, (0, 'thalach'): 22.552355877895295, (1, 'thalach'): 19.33093362840539, (0, 'exang'): 0.49568159709660964, (1, 'exang'): 0.334861756780492, (0, 'oldpeak'): 1.3163149899188844}\n",
            "=====\n",
            "{(0, 'age'): 56.71990171990172, (1, 'age'): 52.30508474576271, (0, 'sex'): 0.8304668304668305, (1, 'sex'): 0.559322033898305, (0, 'cp'): 0.4643734643734644, (1, 'cp'): 1.3510895883777239, (0, 'trestbps'): 134.06879606879608, (1, 'trestbps'): 129.43099273607749, (0, 'chol'): 249.80835380835381, (1, 'chol'): 241.04600484261502, (0, 'fbs'): 0.16216216216216217, (1, 'fbs'): 0.12832929782082325, (0, 'restecg'): 0.4692874692874693, (1, 'restecg'): 0.6004842615012107, (0, 'thalach'): 137.85257985257985, (1, 'thalach'): 158.76513317191282, (0, 'exang'): 0.5700245700245701, (1, 'exang'): 0.12832929782082325, (0, 'oldpeak'): 1.6950859950859953, (1, 'oldpeak'): 0.5832929782082324}\n",
            "{(0, 'age'): 8.021226273225174, (1, 'age'): 9.911202757588203, (0, 'sex'): 0.37568397820945076, (1, 'sex'): 0.49707056933279015, (0, 'cp'): 0.8867294965671908, (1, 'cp'): 0.9503346493935371, (0, 'trestbps'): 17.87505029171152, (1, 'trestbps'): 16.189209166279827, (0, 'chol'): 49.387456066713, (1, 'chol'): 54.35004590676937, (0, 'fbs'): 0.36905316642526653, (1, 'fbs'): 0.33486175678049207, (0, 'restecg'): 0.5556828962612348, (1, 'restecg'): 0.5050230773053066, (0, 'thalach'): 22.552355877895295, (1, 'thalach'): 19.33093362840539, (0, 'exang'): 0.49568159709660964, (1, 'exang'): 0.334861756780492, (0, 'oldpeak'): 1.3163149899188844, (1, 'oldpeak'): 0.7904077870192523}\n",
            "=====\n",
            "{(0, 'age'): 56.71990171990172, (1, 'age'): 52.30508474576271, (0, 'sex'): 0.8304668304668305, (1, 'sex'): 0.559322033898305, (0, 'cp'): 0.4643734643734644, (1, 'cp'): 1.3510895883777239, (0, 'trestbps'): 134.06879606879608, (1, 'trestbps'): 129.43099273607749, (0, 'chol'): 249.80835380835381, (1, 'chol'): 241.04600484261502, (0, 'fbs'): 0.16216216216216217, (1, 'fbs'): 0.12832929782082325, (0, 'restecg'): 0.4692874692874693, (1, 'restecg'): 0.6004842615012107, (0, 'thalach'): 137.85257985257985, (1, 'thalach'): 158.76513317191282, (0, 'exang'): 0.5700245700245701, (1, 'exang'): 0.12832929782082325, (0, 'oldpeak'): 1.6950859950859953, (1, 'oldpeak'): 0.5832929782082324, (0, 'slope'): 1.144963144963145}\n",
            "{(0, 'age'): 8.021226273225174, (1, 'age'): 9.911202757588203, (0, 'sex'): 0.37568397820945076, (1, 'sex'): 0.49707056933279015, (0, 'cp'): 0.8867294965671908, (1, 'cp'): 0.9503346493935371, (0, 'trestbps'): 17.87505029171152, (1, 'trestbps'): 16.189209166279827, (0, 'chol'): 49.387456066713, (1, 'chol'): 54.35004590676937, (0, 'fbs'): 0.36905316642526653, (1, 'fbs'): 0.33486175678049207, (0, 'restecg'): 0.5556828962612348, (1, 'restecg'): 0.5050230773053066, (0, 'thalach'): 22.552355877895295, (1, 'thalach'): 19.33093362840539, (0, 'exang'): 0.49568159709660964, (1, 'exang'): 0.334861756780492, (0, 'oldpeak'): 1.3163149899188844, (1, 'oldpeak'): 0.7904077870192523, (0, 'slope'): 0.5624698666196346}\n",
            "=====\n",
            "{(0, 'age'): 56.71990171990172, (1, 'age'): 52.30508474576271, (0, 'sex'): 0.8304668304668305, (1, 'sex'): 0.559322033898305, (0, 'cp'): 0.4643734643734644, (1, 'cp'): 1.3510895883777239, (0, 'trestbps'): 134.06879606879608, (1, 'trestbps'): 129.43099273607749, (0, 'chol'): 249.80835380835381, (1, 'chol'): 241.04600484261502, (0, 'fbs'): 0.16216216216216217, (1, 'fbs'): 0.12832929782082325, (0, 'restecg'): 0.4692874692874693, (1, 'restecg'): 0.6004842615012107, (0, 'thalach'): 137.85257985257985, (1, 'thalach'): 158.76513317191282, (0, 'exang'): 0.5700245700245701, (1, 'exang'): 0.12832929782082325, (0, 'oldpeak'): 1.6950859950859953, (1, 'oldpeak'): 0.5832929782082324, (0, 'slope'): 1.144963144963145, (1, 'slope'): 1.5569007263922519}\n",
            "{(0, 'age'): 8.021226273225174, (1, 'age'): 9.911202757588203, (0, 'sex'): 0.37568397820945076, (1, 'sex'): 0.49707056933279015, (0, 'cp'): 0.8867294965671908, (1, 'cp'): 0.9503346493935371, (0, 'trestbps'): 17.87505029171152, (1, 'trestbps'): 16.189209166279827, (0, 'chol'): 49.387456066713, (1, 'chol'): 54.35004590676937, (0, 'fbs'): 0.36905316642526653, (1, 'fbs'): 0.33486175678049207, (0, 'restecg'): 0.5556828962612348, (1, 'restecg'): 0.5050230773053066, (0, 'thalach'): 22.552355877895295, (1, 'thalach'): 19.33093362840539, (0, 'exang'): 0.49568159709660964, (1, 'exang'): 0.334861756780492, (0, 'oldpeak'): 1.3163149899188844, (1, 'oldpeak'): 0.7904077870192523, (0, 'slope'): 0.5624698666196346, (1, 'slope'): 0.6112076874583703}\n",
            "=====\n",
            "{(0, 'age'): 56.71990171990172, (1, 'age'): 52.30508474576271, (0, 'sex'): 0.8304668304668305, (1, 'sex'): 0.559322033898305, (0, 'cp'): 0.4643734643734644, (1, 'cp'): 1.3510895883777239, (0, 'trestbps'): 134.06879606879608, (1, 'trestbps'): 129.43099273607749, (0, 'chol'): 249.80835380835381, (1, 'chol'): 241.04600484261502, (0, 'fbs'): 0.16216216216216217, (1, 'fbs'): 0.12832929782082325, (0, 'restecg'): 0.4692874692874693, (1, 'restecg'): 0.6004842615012107, (0, 'thalach'): 137.85257985257985, (1, 'thalach'): 158.76513317191282, (0, 'exang'): 0.5700245700245701, (1, 'exang'): 0.12832929782082325, (0, 'oldpeak'): 1.6950859950859953, (1, 'oldpeak'): 0.5832929782082324, (0, 'slope'): 1.144963144963145, (1, 'slope'): 1.5569007263922519, (0, 'ca'): 1.1793611793611793}\n",
            "{(0, 'age'): 8.021226273225174, (1, 'age'): 9.911202757588203, (0, 'sex'): 0.37568397820945076, (1, 'sex'): 0.49707056933279015, (0, 'cp'): 0.8867294965671908, (1, 'cp'): 0.9503346493935371, (0, 'trestbps'): 17.87505029171152, (1, 'trestbps'): 16.189209166279827, (0, 'chol'): 49.387456066713, (1, 'chol'): 54.35004590676937, (0, 'fbs'): 0.36905316642526653, (1, 'fbs'): 0.33486175678049207, (0, 'restecg'): 0.5556828962612348, (1, 'restecg'): 0.5050230773053066, (0, 'thalach'): 22.552355877895295, (1, 'thalach'): 19.33093362840539, (0, 'exang'): 0.49568159709660964, (1, 'exang'): 0.334861756780492, (0, 'oldpeak'): 1.3163149899188844, (1, 'oldpeak'): 0.7904077870192523, (0, 'slope'): 0.5624698666196346, (1, 'slope'): 0.6112076874583703, (0, 'ca'): 1.0550215764919835}\n",
            "=====\n",
            "{(0, 'age'): 56.71990171990172, (1, 'age'): 52.30508474576271, (0, 'sex'): 0.8304668304668305, (1, 'sex'): 0.559322033898305, (0, 'cp'): 0.4643734643734644, (1, 'cp'): 1.3510895883777239, (0, 'trestbps'): 134.06879606879608, (1, 'trestbps'): 129.43099273607749, (0, 'chol'): 249.80835380835381, (1, 'chol'): 241.04600484261502, (0, 'fbs'): 0.16216216216216217, (1, 'fbs'): 0.12832929782082325, (0, 'restecg'): 0.4692874692874693, (1, 'restecg'): 0.6004842615012107, (0, 'thalach'): 137.85257985257985, (1, 'thalach'): 158.76513317191282, (0, 'exang'): 0.5700245700245701, (1, 'exang'): 0.12832929782082325, (0, 'oldpeak'): 1.6950859950859953, (1, 'oldpeak'): 0.5832929782082324, (0, 'slope'): 1.144963144963145, (1, 'slope'): 1.5569007263922519, (0, 'ca'): 1.1793611793611793, (1, 'ca'): 0.3704600484261501}\n",
            "{(0, 'age'): 8.021226273225174, (1, 'age'): 9.911202757588203, (0, 'sex'): 0.37568397820945076, (1, 'sex'): 0.49707056933279015, (0, 'cp'): 0.8867294965671908, (1, 'cp'): 0.9503346493935371, (0, 'trestbps'): 17.87505029171152, (1, 'trestbps'): 16.189209166279827, (0, 'chol'): 49.387456066713, (1, 'chol'): 54.35004590676937, (0, 'fbs'): 0.36905316642526653, (1, 'fbs'): 0.33486175678049207, (0, 'restecg'): 0.5556828962612348, (1, 'restecg'): 0.5050230773053066, (0, 'thalach'): 22.552355877895295, (1, 'thalach'): 19.33093362840539, (0, 'exang'): 0.49568159709660964, (1, 'exang'): 0.334861756780492, (0, 'oldpeak'): 1.3163149899188844, (1, 'oldpeak'): 0.7904077870192523, (0, 'slope'): 0.5624698666196346, (1, 'slope'): 0.6112076874583703, (0, 'ca'): 1.0550215764919835, (1, 'ca'): 0.8872336364824221}\n",
            "=====\n",
            "{(0, 'age'): 56.71990171990172, (1, 'age'): 52.30508474576271, (0, 'sex'): 0.8304668304668305, (1, 'sex'): 0.559322033898305, (0, 'cp'): 0.4643734643734644, (1, 'cp'): 1.3510895883777239, (0, 'trestbps'): 134.06879606879608, (1, 'trestbps'): 129.43099273607749, (0, 'chol'): 249.80835380835381, (1, 'chol'): 241.04600484261502, (0, 'fbs'): 0.16216216216216217, (1, 'fbs'): 0.12832929782082325, (0, 'restecg'): 0.4692874692874693, (1, 'restecg'): 0.6004842615012107, (0, 'thalach'): 137.85257985257985, (1, 'thalach'): 158.76513317191282, (0, 'exang'): 0.5700245700245701, (1, 'exang'): 0.12832929782082325, (0, 'oldpeak'): 1.6950859950859953, (1, 'oldpeak'): 0.5832929782082324, (0, 'slope'): 1.144963144963145, (1, 'slope'): 1.5569007263922519, (0, 'ca'): 1.1793611793611793, (1, 'ca'): 0.3704600484261501, (0, 'thal'): 2.542997542997543}\n",
            "{(0, 'age'): 8.021226273225174, (1, 'age'): 9.911202757588203, (0, 'sex'): 0.37568397820945076, (1, 'sex'): 0.49707056933279015, (0, 'cp'): 0.8867294965671908, (1, 'cp'): 0.9503346493935371, (0, 'trestbps'): 17.87505029171152, (1, 'trestbps'): 16.189209166279827, (0, 'chol'): 49.387456066713, (1, 'chol'): 54.35004590676937, (0, 'fbs'): 0.36905316642526653, (1, 'fbs'): 0.33486175678049207, (0, 'restecg'): 0.5556828962612348, (1, 'restecg'): 0.5050230773053066, (0, 'thalach'): 22.552355877895295, (1, 'thalach'): 19.33093362840539, (0, 'exang'): 0.49568159709660964, (1, 'exang'): 0.334861756780492, (0, 'oldpeak'): 1.3163149899188844, (1, 'oldpeak'): 0.7904077870192523, (0, 'slope'): 0.5624698666196346, (1, 'slope'): 0.6112076874583703, (0, 'ca'): 1.0550215764919835, (1, 'ca'): 0.8872336364824221, (0, 'thal'): 0.6822838043286098}\n",
            "=====\n",
            "{(0, 'age'): 56.71990171990172, (1, 'age'): 52.30508474576271, (0, 'sex'): 0.8304668304668305, (1, 'sex'): 0.559322033898305, (0, 'cp'): 0.4643734643734644, (1, 'cp'): 1.3510895883777239, (0, 'trestbps'): 134.06879606879608, (1, 'trestbps'): 129.43099273607749, (0, 'chol'): 249.80835380835381, (1, 'chol'): 241.04600484261502, (0, 'fbs'): 0.16216216216216217, (1, 'fbs'): 0.12832929782082325, (0, 'restecg'): 0.4692874692874693, (1, 'restecg'): 0.6004842615012107, (0, 'thalach'): 137.85257985257985, (1, 'thalach'): 158.76513317191282, (0, 'exang'): 0.5700245700245701, (1, 'exang'): 0.12832929782082325, (0, 'oldpeak'): 1.6950859950859953, (1, 'oldpeak'): 0.5832929782082324, (0, 'slope'): 1.144963144963145, (1, 'slope'): 1.5569007263922519, (0, 'ca'): 1.1793611793611793, (1, 'ca'): 0.3704600484261501, (0, 'thal'): 2.542997542997543, (1, 'thal'): 2.12590799031477}\n",
            "{(0, 'age'): 8.021226273225174, (1, 'age'): 9.911202757588203, (0, 'sex'): 0.37568397820945076, (1, 'sex'): 0.49707056933279015, (0, 'cp'): 0.8867294965671908, (1, 'cp'): 0.9503346493935371, (0, 'trestbps'): 17.87505029171152, (1, 'trestbps'): 16.189209166279827, (0, 'chol'): 49.387456066713, (1, 'chol'): 54.35004590676937, (0, 'fbs'): 0.36905316642526653, (1, 'fbs'): 0.33486175678049207, (0, 'restecg'): 0.5556828962612348, (1, 'restecg'): 0.5050230773053066, (0, 'thalach'): 22.552355877895295, (1, 'thalach'): 19.33093362840539, (0, 'exang'): 0.49568159709660964, (1, 'exang'): 0.334861756780492, (0, 'oldpeak'): 1.3163149899188844, (1, 'oldpeak'): 0.7904077870192523, (0, 'slope'): 0.5624698666196346, (1, 'slope'): 0.6112076874583703, (0, 'ca'): 1.0550215764919835, (1, 'ca'): 0.8872336364824221, (0, 'thal'): 0.6822838043286098, (1, 'thal'): 0.450061442686753}\n",
            "=====\n"
          ]
        }
      ]
    },
    {
      "cell_type": "code",
      "source": [
        "data_latih.loc[data_latih['target']==1]['age']"
      ],
      "metadata": {
        "colab": {
          "base_uri": "https://localhost:8080/"
        },
        "id": "6lzDDzeIurcG",
        "outputId": "005c72e2-a3d7-41bf-ca35-5d40fe62fc72"
      },
      "execution_count": null,
      "outputs": [
        {
          "output_type": "execute_result",
          "data": {
            "text/plain": [
              "527    62\n",
              "769    71\n",
              "223    39\n",
              "754    51\n",
              "119    42\n",
              "       ..\n",
              "724    74\n",
              "18     50\n",
              "858    68\n",
              "752    48\n",
              "15     34\n",
              "Name: age, Length: 413, dtype: int64"
            ]
          },
          "metadata": {},
          "execution_count": 23
        }
      ]
    },
    {
      "cell_type": "code",
      "source": [
        "data_latih.loc[data_latih['target']==1]['age'].mean()"
      ],
      "metadata": {
        "colab": {
          "base_uri": "https://localhost:8080/"
        },
        "id": "ZNNglanQvdY8",
        "outputId": "ac4aab6d-af97-46d1-f42e-e9c56d2ff8a6"
      },
      "execution_count": null,
      "outputs": [
        {
          "output_type": "execute_result",
          "data": {
            "text/plain": [
              "52.30508474576271"
            ]
          },
          "metadata": {},
          "execution_count": 21
        }
      ]
    },
    {
      "cell_type": "code",
      "source": [
        "data_latih.loc[data_latih['target']==1]['age'].std()"
      ],
      "metadata": {
        "colab": {
          "base_uri": "https://localhost:8080/"
        },
        "id": "x47Jpzxqvjue",
        "outputId": "7653b065-e849-478c-b101-8996b1d10377"
      },
      "execution_count": null,
      "outputs": [
        {
          "output_type": "execute_result",
          "data": {
            "text/plain": [
              "9.911202757588203"
            ]
          },
          "metadata": {},
          "execution_count": 22
        }
      ]
    },
    {
      "cell_type": "code",
      "source": [
        "import math\n",
        "def hitung_likelihood_gaussian(data,rata2,std):\n",
        "  hasil = (1/math.sqrt(2*math.pi*(std**2)))*math.exp((-1*((data-rata2)**2))/(2*(std**2)))\n",
        "  return hasil"
      ],
      "metadata": {
        "id": "bLrNwcemwna0"
      },
      "execution_count": null,
      "outputs": []
    },
    {
      "cell_type": "markdown",
      "source": [
        "#Proses training"
      ],
      "metadata": {
        "id": "ErbsgFMKwo8Q"
      }
    },
    {
      "cell_type": "code",
      "source": [
        "def training_naive_bayes_gaussian(data_latih):\n",
        "  # simpan daftar kelas\n",
        "  class_column_name = data_latih.columns[-1]\n",
        "  # Hitung probility prior\n",
        "  prior = hitung_prior(data_latih[class_column_name])\n",
        "  # Hitung mean dan standard deviation\n",
        "  (rata2,std) = hitung_rata2_std_kelas(data_latih)\n",
        "  list_class = set(data_latih[class_column_name])\n",
        "  list_columns = data_latih.columns[:-1]\n",
        "  model = {}\n",
        "  model['prior'] = prior\n",
        "  model['rata2'] = rata2\n",
        "  model['std'] = std\n",
        "  model['list_class'] = list_class\n",
        "  model['list_columns'] = list_columns\n",
        "  return model"
      ],
      "metadata": {
        "id": "TPzJKUp3t2sj"
      },
      "execution_count": null,
      "outputs": []
    },
    {
      "cell_type": "code",
      "source": [
        "model = training_naive_bayes_gaussian(data_latih)"
      ],
      "metadata": {
        "colab": {
          "base_uri": "https://localhost:8080/"
        },
        "id": "VvEVhJklwz5j",
        "outputId": "7e910537-8c85-4fa4-809d-e38e28132ad4"
      },
      "execution_count": null,
      "outputs": [
        {
          "output_type": "stream",
          "name": "stdout",
          "text": [
            "{(0, 'age'): 56.71990171990172, (1, 'age'): 52.30508474576271, (0, 'sex'): 0.8304668304668305, (1, 'sex'): 0.559322033898305, (0, 'cp'): 0.4643734643734644, (1, 'cp'): 1.3510895883777239, (0, 'trestbps'): 134.06879606879608, (1, 'trestbps'): 129.43099273607749, (0, 'chol'): 249.80835380835381, (1, 'chol'): 241.04600484261502, (0, 'fbs'): 0.16216216216216217, (1, 'fbs'): 0.12832929782082325, (0, 'restecg'): 0.4692874692874693, (1, 'restecg'): 0.6004842615012107, (0, 'thalach'): 137.85257985257985, (1, 'thalach'): 158.76513317191282, (0, 'exang'): 0.5700245700245701, (1, 'exang'): 0.12832929782082325, (0, 'oldpeak'): 1.6950859950859953, (1, 'oldpeak'): 0.5832929782082324, (0, 'slope'): 1.144963144963145, (1, 'slope'): 1.5569007263922519, (0, 'ca'): 1.1793611793611793, (1, 'ca'): 0.3704600484261501, (0, 'thal'): 2.542997542997543, (1, 'thal'): 2.12590799031477}\n",
            "{(0, 'age'): 8.021226273225174, (1, 'age'): 9.911202757588203, (0, 'sex'): 0.37568397820945076, (1, 'sex'): 0.49707056933279015, (0, 'cp'): 0.8867294965671908, (1, 'cp'): 0.9503346493935371, (0, 'trestbps'): 17.87505029171152, (1, 'trestbps'): 16.189209166279827, (0, 'chol'): 49.387456066713, (1, 'chol'): 54.35004590676937, (0, 'fbs'): 0.36905316642526653, (1, 'fbs'): 0.33486175678049207, (0, 'restecg'): 0.5556828962612348, (1, 'restecg'): 0.5050230773053066, (0, 'thalach'): 22.552355877895295, (1, 'thalach'): 19.33093362840539, (0, 'exang'): 0.49568159709660964, (1, 'exang'): 0.334861756780492, (0, 'oldpeak'): 1.3163149899188844, (1, 'oldpeak'): 0.7904077870192523, (0, 'slope'): 0.5624698666196346, (1, 'slope'): 0.6112076874583703, (0, 'ca'): 1.0550215764919835, (1, 'ca'): 0.8872336364824221, (0, 'thal'): 0.6822838043286098, (1, 'thal'): 0.450061442686753}\n"
          ]
        }
      ]
    },
    {
      "cell_type": "markdown",
      "source": [
        "#Proses testing"
      ],
      "metadata": {
        "id": "lJpHjg18xIkO"
      }
    },
    {
      "cell_type": "code",
      "source": [
        "def testing_naive_bayes_gaussian(model,data_uji):\n",
        "  prior = model['prior']\n",
        "  rata2 = model['rata2']\n",
        "  std = model['std']\n",
        "  list_class = model['list_class']\n",
        "  list_columns = model['list_columns']\n",
        "  posterior = dict.fromkeys(list_class,1)\n",
        "  for a_class in list_class:\n",
        "    for column in list_columns:\n",
        "      posterior[a_class] = posterior[a_class]*hitung_likelihood_gaussian(data_uji[column],rata2[(a_class,column)],std[(a_class,column)])\n",
        "    posterior[a_class] = posterior[a_class] * prior[a_class]\n",
        "  kelas_uji = max(posterior,key=posterior.get)\n",
        "  return kelas_uji"
      ],
      "metadata": {
        "id": "t3rRS33WxKYS"
      },
      "execution_count": null,
      "outputs": []
    },
    {
      "cell_type": "code",
      "source": [
        "indeks_uji = 1\n",
        "prediksi = testing_naive_bayes_gaussian(model,data_uji.iloc[indeks_uji])\n",
        "print(prediksi)\n",
        "print(label_uji.iloc[indeks_uji])"
      ],
      "metadata": {
        "colab": {
          "base_uri": "https://localhost:8080/"
        },
        "id": "2Bs18NWzxL4j",
        "outputId": "a589bdcb-6f2e-474d-9603-e56e9ecf093f"
      },
      "execution_count": null,
      "outputs": [
        {
          "output_type": "stream",
          "name": "stdout",
          "text": [
            "1\n",
            "1\n"
          ]
        }
      ]
    },
    {
      "cell_type": "code",
      "source": [
        "prediksi_total =[]\n",
        "for indeks in range(data_uji.shape[0]):\n",
        "  prediksi_total.append(testing_naive_bayes_gaussian(model,data_uji.iloc[indeks]))\n",
        "print(\"Total prediksi benar: \",sum(prediksi_total==label_uji))"
      ],
      "metadata": {
        "colab": {
          "base_uri": "https://localhost:8080/"
        },
        "id": "E3Dr0HK2xOuv",
        "outputId": "c31ceea1-614a-4fee-b6e2-3f5c447554fb"
      },
      "execution_count": null,
      "outputs": [
        {
          "output_type": "stream",
          "name": "stdout",
          "text": [
            "Total prediksi benar:  160\n"
          ]
        }
      ]
    },
    {
      "cell_type": "code",
      "source": [
        "print(\"Tingkat akurasi =\",(sum(prediksi_total==label_uji)/data_uji.shape[0])*100)"
      ],
      "metadata": {
        "colab": {
          "base_uri": "https://localhost:8080/"
        },
        "id": "FD7K31dq5iQn",
        "outputId": "56895cb0-08c0-4f1d-bc3f-b261ea6beb37"
      },
      "execution_count": null,
      "outputs": [
        {
          "output_type": "stream",
          "name": "stdout",
          "text": [
            "Tingkat akurasi = 78.04878048780488\n"
          ]
        }
      ]
    }
  ]
}