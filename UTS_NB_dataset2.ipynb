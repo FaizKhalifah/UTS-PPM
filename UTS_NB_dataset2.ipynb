{
  "nbformat": 4,
  "nbformat_minor": 0,
  "metadata": {
    "colab": {
      "provenance": [],
      "authorship_tag": "ABX9TyOXVUztOgoKAdLTQYRTywBR",
      "include_colab_link": true
    },
    "kernelspec": {
      "name": "python3",
      "display_name": "Python 3"
    },
    "language_info": {
      "name": "python"
    }
  },
  "cells": [
    {
      "cell_type": "markdown",
      "metadata": {
        "id": "view-in-github",
        "colab_type": "text"
      },
      "source": [
        "<a href=\"https://colab.research.google.com/github/FaizKhalifah/UTS-PPM/blob/dataset2/UTS_NB_dataset2.ipynb\" target=\"_parent\"><img src=\"https://colab.research.google.com/assets/colab-badge.svg\" alt=\"Open In Colab\"/></a>"
      ]
    },
    {
      "cell_type": "markdown",
      "source": [
        "# Meng-import dataset"
      ],
      "metadata": {
        "id": "YXcrCUcdsAOW"
      }
    },
    {
      "cell_type": "code",
      "execution_count": null,
      "metadata": {
        "colab": {
          "base_uri": "https://localhost:8080/",
          "height": 74
        },
        "id": "ZX2j6RJ4i3NY",
        "outputId": "e0a98ee1-d285-4ad0-ed01-90b03858fb7d"
      },
      "outputs": [
        {
          "output_type": "display_data",
          "data": {
            "text/plain": [
              "<IPython.core.display.HTML object>"
            ],
            "text/html": [
              "\n",
              "     <input type=\"file\" id=\"files-baea0c99-1f74-4493-ae49-bd264996b354\" name=\"files[]\" multiple disabled\n",
              "        style=\"border:none\" />\n",
              "     <output id=\"result-baea0c99-1f74-4493-ae49-bd264996b354\">\n",
              "      Upload widget is only available when the cell has been executed in the\n",
              "      current browser session. Please rerun this cell to enable.\n",
              "      </output>\n",
              "      <script>// Copyright 2017 Google LLC\n",
              "//\n",
              "// Licensed under the Apache License, Version 2.0 (the \"License\");\n",
              "// you may not use this file except in compliance with the License.\n",
              "// You may obtain a copy of the License at\n",
              "//\n",
              "//      http://www.apache.org/licenses/LICENSE-2.0\n",
              "//\n",
              "// Unless required by applicable law or agreed to in writing, software\n",
              "// distributed under the License is distributed on an \"AS IS\" BASIS,\n",
              "// WITHOUT WARRANTIES OR CONDITIONS OF ANY KIND, either express or implied.\n",
              "// See the License for the specific language governing permissions and\n",
              "// limitations under the License.\n",
              "\n",
              "/**\n",
              " * @fileoverview Helpers for google.colab Python module.\n",
              " */\n",
              "(function(scope) {\n",
              "function span(text, styleAttributes = {}) {\n",
              "  const element = document.createElement('span');\n",
              "  element.textContent = text;\n",
              "  for (const key of Object.keys(styleAttributes)) {\n",
              "    element.style[key] = styleAttributes[key];\n",
              "  }\n",
              "  return element;\n",
              "}\n",
              "\n",
              "// Max number of bytes which will be uploaded at a time.\n",
              "const MAX_PAYLOAD_SIZE = 100 * 1024;\n",
              "\n",
              "function _uploadFiles(inputId, outputId) {\n",
              "  const steps = uploadFilesStep(inputId, outputId);\n",
              "  const outputElement = document.getElementById(outputId);\n",
              "  // Cache steps on the outputElement to make it available for the next call\n",
              "  // to uploadFilesContinue from Python.\n",
              "  outputElement.steps = steps;\n",
              "\n",
              "  return _uploadFilesContinue(outputId);\n",
              "}\n",
              "\n",
              "// This is roughly an async generator (not supported in the browser yet),\n",
              "// where there are multiple asynchronous steps and the Python side is going\n",
              "// to poll for completion of each step.\n",
              "// This uses a Promise to block the python side on completion of each step,\n",
              "// then passes the result of the previous step as the input to the next step.\n",
              "function _uploadFilesContinue(outputId) {\n",
              "  const outputElement = document.getElementById(outputId);\n",
              "  const steps = outputElement.steps;\n",
              "\n",
              "  const next = steps.next(outputElement.lastPromiseValue);\n",
              "  return Promise.resolve(next.value.promise).then((value) => {\n",
              "    // Cache the last promise value to make it available to the next\n",
              "    // step of the generator.\n",
              "    outputElement.lastPromiseValue = value;\n",
              "    return next.value.response;\n",
              "  });\n",
              "}\n",
              "\n",
              "/**\n",
              " * Generator function which is called between each async step of the upload\n",
              " * process.\n",
              " * @param {string} inputId Element ID of the input file picker element.\n",
              " * @param {string} outputId Element ID of the output display.\n",
              " * @return {!Iterable<!Object>} Iterable of next steps.\n",
              " */\n",
              "function* uploadFilesStep(inputId, outputId) {\n",
              "  const inputElement = document.getElementById(inputId);\n",
              "  inputElement.disabled = false;\n",
              "\n",
              "  const outputElement = document.getElementById(outputId);\n",
              "  outputElement.innerHTML = '';\n",
              "\n",
              "  const pickedPromise = new Promise((resolve) => {\n",
              "    inputElement.addEventListener('change', (e) => {\n",
              "      resolve(e.target.files);\n",
              "    });\n",
              "  });\n",
              "\n",
              "  const cancel = document.createElement('button');\n",
              "  inputElement.parentElement.appendChild(cancel);\n",
              "  cancel.textContent = 'Cancel upload';\n",
              "  const cancelPromise = new Promise((resolve) => {\n",
              "    cancel.onclick = () => {\n",
              "      resolve(null);\n",
              "    };\n",
              "  });\n",
              "\n",
              "  // Wait for the user to pick the files.\n",
              "  const files = yield {\n",
              "    promise: Promise.race([pickedPromise, cancelPromise]),\n",
              "    response: {\n",
              "      action: 'starting',\n",
              "    }\n",
              "  };\n",
              "\n",
              "  cancel.remove();\n",
              "\n",
              "  // Disable the input element since further picks are not allowed.\n",
              "  inputElement.disabled = true;\n",
              "\n",
              "  if (!files) {\n",
              "    return {\n",
              "      response: {\n",
              "        action: 'complete',\n",
              "      }\n",
              "    };\n",
              "  }\n",
              "\n",
              "  for (const file of files) {\n",
              "    const li = document.createElement('li');\n",
              "    li.append(span(file.name, {fontWeight: 'bold'}));\n",
              "    li.append(span(\n",
              "        `(${file.type || 'n/a'}) - ${file.size} bytes, ` +\n",
              "        `last modified: ${\n",
              "            file.lastModifiedDate ? file.lastModifiedDate.toLocaleDateString() :\n",
              "                                    'n/a'} - `));\n",
              "    const percent = span('0% done');\n",
              "    li.appendChild(percent);\n",
              "\n",
              "    outputElement.appendChild(li);\n",
              "\n",
              "    const fileDataPromise = new Promise((resolve) => {\n",
              "      const reader = new FileReader();\n",
              "      reader.onload = (e) => {\n",
              "        resolve(e.target.result);\n",
              "      };\n",
              "      reader.readAsArrayBuffer(file);\n",
              "    });\n",
              "    // Wait for the data to be ready.\n",
              "    let fileData = yield {\n",
              "      promise: fileDataPromise,\n",
              "      response: {\n",
              "        action: 'continue',\n",
              "      }\n",
              "    };\n",
              "\n",
              "    // Use a chunked sending to avoid message size limits. See b/62115660.\n",
              "    let position = 0;\n",
              "    do {\n",
              "      const length = Math.min(fileData.byteLength - position, MAX_PAYLOAD_SIZE);\n",
              "      const chunk = new Uint8Array(fileData, position, length);\n",
              "      position += length;\n",
              "\n",
              "      const base64 = btoa(String.fromCharCode.apply(null, chunk));\n",
              "      yield {\n",
              "        response: {\n",
              "          action: 'append',\n",
              "          file: file.name,\n",
              "          data: base64,\n",
              "        },\n",
              "      };\n",
              "\n",
              "      let percentDone = fileData.byteLength === 0 ?\n",
              "          100 :\n",
              "          Math.round((position / fileData.byteLength) * 100);\n",
              "      percent.textContent = `${percentDone}% done`;\n",
              "\n",
              "    } while (position < fileData.byteLength);\n",
              "  }\n",
              "\n",
              "  // All done.\n",
              "  yield {\n",
              "    response: {\n",
              "      action: 'complete',\n",
              "    }\n",
              "  };\n",
              "}\n",
              "\n",
              "scope.google = scope.google || {};\n",
              "scope.google.colab = scope.google.colab || {};\n",
              "scope.google.colab._files = {\n",
              "  _uploadFiles,\n",
              "  _uploadFilesContinue,\n",
              "};\n",
              "})(self);\n",
              "</script> "
            ]
          },
          "metadata": {}
        },
        {
          "output_type": "stream",
          "name": "stdout",
          "text": [
            "Saving Diabetes_prediction.csv to Diabetes_prediction.csv\n"
          ]
        }
      ],
      "source": [
        "from google.colab import files\n",
        "#Diabetes_prediction.csv\n",
        "\n",
        "upload = files.upload()"
      ]
    },
    {
      "cell_type": "code",
      "source": [
        "import pandas as pd\n",
        "import numpy as np\n",
        "data = pd.read_csv('Diabetes_prediction.csv')"
      ],
      "metadata": {
        "id": "HkqdXpr2roY7"
      },
      "execution_count": null,
      "outputs": []
    },
    {
      "cell_type": "code",
      "source": [
        "data.head()"
      ],
      "metadata": {
        "colab": {
          "base_uri": "https://localhost:8080/",
          "height": 206
        },
        "id": "UwSYotuUrsPd",
        "outputId": "8938ee14-da9c-40f2-a478-1eb8c5fa597f"
      },
      "execution_count": null,
      "outputs": [
        {
          "output_type": "execute_result",
          "data": {
            "text/plain": [
              "   Pregnancies     Glucose  BloodPressure  SkinThickness     Insulin  \\\n",
              "0            2  115.863387      56.410731      24.336736   94.385783   \n",
              "1            2   92.490122      70.615520      23.443591  138.652426   \n",
              "2            1   88.141469      63.262618      23.404364  149.358082   \n",
              "3            2  108.453101      67.793632      20.751580  108.751638   \n",
              "4            1  127.849443      94.725685      22.603078   25.269987   \n",
              "\n",
              "         BMI  DiabetesPedigreeFunction        Age  Diagnosis  \n",
              "0  26.455940                  0.272682  20.100494          0  \n",
              "1  23.910167                  0.665160  44.912281          0  \n",
              "2  21.948250                  0.676022  48.247873          1  \n",
              "3  24.209304                  0.289636  42.749868          0  \n",
              "4  32.997477                  0.601315  32.797789          0  "
            ],
            "text/html": [
              "\n",
              "  <div id=\"df-c152b27b-9a65-483b-8938-d28f9daeea0c\" class=\"colab-df-container\">\n",
              "    <div>\n",
              "<style scoped>\n",
              "    .dataframe tbody tr th:only-of-type {\n",
              "        vertical-align: middle;\n",
              "    }\n",
              "\n",
              "    .dataframe tbody tr th {\n",
              "        vertical-align: top;\n",
              "    }\n",
              "\n",
              "    .dataframe thead th {\n",
              "        text-align: right;\n",
              "    }\n",
              "</style>\n",
              "<table border=\"1\" class=\"dataframe\">\n",
              "  <thead>\n",
              "    <tr style=\"text-align: right;\">\n",
              "      <th></th>\n",
              "      <th>Pregnancies</th>\n",
              "      <th>Glucose</th>\n",
              "      <th>BloodPressure</th>\n",
              "      <th>SkinThickness</th>\n",
              "      <th>Insulin</th>\n",
              "      <th>BMI</th>\n",
              "      <th>DiabetesPedigreeFunction</th>\n",
              "      <th>Age</th>\n",
              "      <th>Diagnosis</th>\n",
              "    </tr>\n",
              "  </thead>\n",
              "  <tbody>\n",
              "    <tr>\n",
              "      <th>0</th>\n",
              "      <td>2</td>\n",
              "      <td>115.863387</td>\n",
              "      <td>56.410731</td>\n",
              "      <td>24.336736</td>\n",
              "      <td>94.385783</td>\n",
              "      <td>26.455940</td>\n",
              "      <td>0.272682</td>\n",
              "      <td>20.100494</td>\n",
              "      <td>0</td>\n",
              "    </tr>\n",
              "    <tr>\n",
              "      <th>1</th>\n",
              "      <td>2</td>\n",
              "      <td>92.490122</td>\n",
              "      <td>70.615520</td>\n",
              "      <td>23.443591</td>\n",
              "      <td>138.652426</td>\n",
              "      <td>23.910167</td>\n",
              "      <td>0.665160</td>\n",
              "      <td>44.912281</td>\n",
              "      <td>0</td>\n",
              "    </tr>\n",
              "    <tr>\n",
              "      <th>2</th>\n",
              "      <td>1</td>\n",
              "      <td>88.141469</td>\n",
              "      <td>63.262618</td>\n",
              "      <td>23.404364</td>\n",
              "      <td>149.358082</td>\n",
              "      <td>21.948250</td>\n",
              "      <td>0.676022</td>\n",
              "      <td>48.247873</td>\n",
              "      <td>1</td>\n",
              "    </tr>\n",
              "    <tr>\n",
              "      <th>3</th>\n",
              "      <td>2</td>\n",
              "      <td>108.453101</td>\n",
              "      <td>67.793632</td>\n",
              "      <td>20.751580</td>\n",
              "      <td>108.751638</td>\n",
              "      <td>24.209304</td>\n",
              "      <td>0.289636</td>\n",
              "      <td>42.749868</td>\n",
              "      <td>0</td>\n",
              "    </tr>\n",
              "    <tr>\n",
              "      <th>4</th>\n",
              "      <td>1</td>\n",
              "      <td>127.849443</td>\n",
              "      <td>94.725685</td>\n",
              "      <td>22.603078</td>\n",
              "      <td>25.269987</td>\n",
              "      <td>32.997477</td>\n",
              "      <td>0.601315</td>\n",
              "      <td>32.797789</td>\n",
              "      <td>0</td>\n",
              "    </tr>\n",
              "  </tbody>\n",
              "</table>\n",
              "</div>\n",
              "    <div class=\"colab-df-buttons\">\n",
              "\n",
              "  <div class=\"colab-df-container\">\n",
              "    <button class=\"colab-df-convert\" onclick=\"convertToInteractive('df-c152b27b-9a65-483b-8938-d28f9daeea0c')\"\n",
              "            title=\"Convert this dataframe to an interactive table.\"\n",
              "            style=\"display:none;\">\n",
              "\n",
              "  <svg xmlns=\"http://www.w3.org/2000/svg\" height=\"24px\" viewBox=\"0 -960 960 960\">\n",
              "    <path d=\"M120-120v-720h720v720H120Zm60-500h600v-160H180v160Zm220 220h160v-160H400v160Zm0 220h160v-160H400v160ZM180-400h160v-160H180v160Zm440 0h160v-160H620v160ZM180-180h160v-160H180v160Zm440 0h160v-160H620v160Z\"/>\n",
              "  </svg>\n",
              "    </button>\n",
              "\n",
              "  <style>\n",
              "    .colab-df-container {\n",
              "      display:flex;\n",
              "      gap: 12px;\n",
              "    }\n",
              "\n",
              "    .colab-df-convert {\n",
              "      background-color: #E8F0FE;\n",
              "      border: none;\n",
              "      border-radius: 50%;\n",
              "      cursor: pointer;\n",
              "      display: none;\n",
              "      fill: #1967D2;\n",
              "      height: 32px;\n",
              "      padding: 0 0 0 0;\n",
              "      width: 32px;\n",
              "    }\n",
              "\n",
              "    .colab-df-convert:hover {\n",
              "      background-color: #E2EBFA;\n",
              "      box-shadow: 0px 1px 2px rgba(60, 64, 67, 0.3), 0px 1px 3px 1px rgba(60, 64, 67, 0.15);\n",
              "      fill: #174EA6;\n",
              "    }\n",
              "\n",
              "    .colab-df-buttons div {\n",
              "      margin-bottom: 4px;\n",
              "    }\n",
              "\n",
              "    [theme=dark] .colab-df-convert {\n",
              "      background-color: #3B4455;\n",
              "      fill: #D2E3FC;\n",
              "    }\n",
              "\n",
              "    [theme=dark] .colab-df-convert:hover {\n",
              "      background-color: #434B5C;\n",
              "      box-shadow: 0px 1px 3px 1px rgba(0, 0, 0, 0.15);\n",
              "      filter: drop-shadow(0px 1px 2px rgba(0, 0, 0, 0.3));\n",
              "      fill: #FFFFFF;\n",
              "    }\n",
              "  </style>\n",
              "\n",
              "    <script>\n",
              "      const buttonEl =\n",
              "        document.querySelector('#df-c152b27b-9a65-483b-8938-d28f9daeea0c button.colab-df-convert');\n",
              "      buttonEl.style.display =\n",
              "        google.colab.kernel.accessAllowed ? 'block' : 'none';\n",
              "\n",
              "      async function convertToInteractive(key) {\n",
              "        const element = document.querySelector('#df-c152b27b-9a65-483b-8938-d28f9daeea0c');\n",
              "        const dataTable =\n",
              "          await google.colab.kernel.invokeFunction('convertToInteractive',\n",
              "                                                    [key], {});\n",
              "        if (!dataTable) return;\n",
              "\n",
              "        const docLinkHtml = 'Like what you see? Visit the ' +\n",
              "          '<a target=\"_blank\" href=https://colab.research.google.com/notebooks/data_table.ipynb>data table notebook</a>'\n",
              "          + ' to learn more about interactive tables.';\n",
              "        element.innerHTML = '';\n",
              "        dataTable['output_type'] = 'display_data';\n",
              "        await google.colab.output.renderOutput(dataTable, element);\n",
              "        const docLink = document.createElement('div');\n",
              "        docLink.innerHTML = docLinkHtml;\n",
              "        element.appendChild(docLink);\n",
              "      }\n",
              "    </script>\n",
              "  </div>\n",
              "\n",
              "\n",
              "<div id=\"df-c7a504d8-b3f3-46ef-ac25-039a017a257d\">\n",
              "  <button class=\"colab-df-quickchart\" onclick=\"quickchart('df-c7a504d8-b3f3-46ef-ac25-039a017a257d')\"\n",
              "            title=\"Suggest charts\"\n",
              "            style=\"display:none;\">\n",
              "\n",
              "<svg xmlns=\"http://www.w3.org/2000/svg\" height=\"24px\"viewBox=\"0 0 24 24\"\n",
              "     width=\"24px\">\n",
              "    <g>\n",
              "        <path d=\"M19 3H5c-1.1 0-2 .9-2 2v14c0 1.1.9 2 2 2h14c1.1 0 2-.9 2-2V5c0-1.1-.9-2-2-2zM9 17H7v-7h2v7zm4 0h-2V7h2v10zm4 0h-2v-4h2v4z\"/>\n",
              "    </g>\n",
              "</svg>\n",
              "  </button>\n",
              "\n",
              "<style>\n",
              "  .colab-df-quickchart {\n",
              "      --bg-color: #E8F0FE;\n",
              "      --fill-color: #1967D2;\n",
              "      --hover-bg-color: #E2EBFA;\n",
              "      --hover-fill-color: #174EA6;\n",
              "      --disabled-fill-color: #AAA;\n",
              "      --disabled-bg-color: #DDD;\n",
              "  }\n",
              "\n",
              "  [theme=dark] .colab-df-quickchart {\n",
              "      --bg-color: #3B4455;\n",
              "      --fill-color: #D2E3FC;\n",
              "      --hover-bg-color: #434B5C;\n",
              "      --hover-fill-color: #FFFFFF;\n",
              "      --disabled-bg-color: #3B4455;\n",
              "      --disabled-fill-color: #666;\n",
              "  }\n",
              "\n",
              "  .colab-df-quickchart {\n",
              "    background-color: var(--bg-color);\n",
              "    border: none;\n",
              "    border-radius: 50%;\n",
              "    cursor: pointer;\n",
              "    display: none;\n",
              "    fill: var(--fill-color);\n",
              "    height: 32px;\n",
              "    padding: 0;\n",
              "    width: 32px;\n",
              "  }\n",
              "\n",
              "  .colab-df-quickchart:hover {\n",
              "    background-color: var(--hover-bg-color);\n",
              "    box-shadow: 0 1px 2px rgba(60, 64, 67, 0.3), 0 1px 3px 1px rgba(60, 64, 67, 0.15);\n",
              "    fill: var(--button-hover-fill-color);\n",
              "  }\n",
              "\n",
              "  .colab-df-quickchart-complete:disabled,\n",
              "  .colab-df-quickchart-complete:disabled:hover {\n",
              "    background-color: var(--disabled-bg-color);\n",
              "    fill: var(--disabled-fill-color);\n",
              "    box-shadow: none;\n",
              "  }\n",
              "\n",
              "  .colab-df-spinner {\n",
              "    border: 2px solid var(--fill-color);\n",
              "    border-color: transparent;\n",
              "    border-bottom-color: var(--fill-color);\n",
              "    animation:\n",
              "      spin 1s steps(1) infinite;\n",
              "  }\n",
              "\n",
              "  @keyframes spin {\n",
              "    0% {\n",
              "      border-color: transparent;\n",
              "      border-bottom-color: var(--fill-color);\n",
              "      border-left-color: var(--fill-color);\n",
              "    }\n",
              "    20% {\n",
              "      border-color: transparent;\n",
              "      border-left-color: var(--fill-color);\n",
              "      border-top-color: var(--fill-color);\n",
              "    }\n",
              "    30% {\n",
              "      border-color: transparent;\n",
              "      border-left-color: var(--fill-color);\n",
              "      border-top-color: var(--fill-color);\n",
              "      border-right-color: var(--fill-color);\n",
              "    }\n",
              "    40% {\n",
              "      border-color: transparent;\n",
              "      border-right-color: var(--fill-color);\n",
              "      border-top-color: var(--fill-color);\n",
              "    }\n",
              "    60% {\n",
              "      border-color: transparent;\n",
              "      border-right-color: var(--fill-color);\n",
              "    }\n",
              "    80% {\n",
              "      border-color: transparent;\n",
              "      border-right-color: var(--fill-color);\n",
              "      border-bottom-color: var(--fill-color);\n",
              "    }\n",
              "    90% {\n",
              "      border-color: transparent;\n",
              "      border-bottom-color: var(--fill-color);\n",
              "    }\n",
              "  }\n",
              "</style>\n",
              "\n",
              "  <script>\n",
              "    async function quickchart(key) {\n",
              "      const quickchartButtonEl =\n",
              "        document.querySelector('#' + key + ' button');\n",
              "      quickchartButtonEl.disabled = true;  // To prevent multiple clicks.\n",
              "      quickchartButtonEl.classList.add('colab-df-spinner');\n",
              "      try {\n",
              "        const charts = await google.colab.kernel.invokeFunction(\n",
              "            'suggestCharts', [key], {});\n",
              "      } catch (error) {\n",
              "        console.error('Error during call to suggestCharts:', error);\n",
              "      }\n",
              "      quickchartButtonEl.classList.remove('colab-df-spinner');\n",
              "      quickchartButtonEl.classList.add('colab-df-quickchart-complete');\n",
              "    }\n",
              "    (() => {\n",
              "      let quickchartButtonEl =\n",
              "        document.querySelector('#df-c7a504d8-b3f3-46ef-ac25-039a017a257d button');\n",
              "      quickchartButtonEl.style.display =\n",
              "        google.colab.kernel.accessAllowed ? 'block' : 'none';\n",
              "    })();\n",
              "  </script>\n",
              "</div>\n",
              "    </div>\n",
              "  </div>\n"
            ],
            "application/vnd.google.colaboratory.intrinsic+json": {
              "type": "dataframe",
              "variable_name": "data",
              "summary": "{\n  \"name\": \"data\",\n  \"rows\": 1000,\n  \"fields\": [\n    {\n      \"column\": \"Pregnancies\",\n      \"properties\": {\n        \"dtype\": \"number\",\n        \"std\": 1,\n        \"min\": 0,\n        \"max\": 8,\n        \"num_unique_values\": 8,\n        \"samples\": [\n          1,\n          5,\n          2\n        ],\n        \"semantic_type\": \"\",\n        \"description\": \"\"\n      }\n    },\n    {\n      \"column\": \"Glucose\",\n      \"properties\": {\n        \"dtype\": \"number\",\n        \"std\": 19.47073016206889,\n        \"min\": 30.571402161232346,\n        \"max\": 161.23893930812437,\n        \"num_unique_values\": 1000,\n        \"samples\": [\n          96.60663682437556,\n          106.72142335851338,\n          96.86515848435448\n        ],\n        \"semantic_type\": \"\",\n        \"description\": \"\"\n      }\n    },\n    {\n      \"column\": \"BloodPressure\",\n      \"properties\": {\n        \"dtype\": \"number\",\n        \"std\": 13.882017449176828,\n        \"min\": 31.40148707615002,\n        \"max\": 110.72371460214974,\n        \"num_unique_values\": 1000,\n        \"samples\": [\n          76.46315367622508,\n          64.70790868788801,\n          61.79850706275893\n        ],\n        \"semantic_type\": \"\",\n        \"description\": \"\"\n      }\n    },\n    {\n      \"column\": \"SkinThickness\",\n      \"properties\": {\n        \"dtype\": \"number\",\n        \"std\": 1.1738067350468842,\n        \"min\": 19.369987239303853,\n        \"max\": 26.917654051162653,\n        \"num_unique_values\": 1000,\n        \"samples\": [\n          25.019103341870355,\n          24.91318184958465,\n          25.637893190161734\n        ],\n        \"semantic_type\": \"\",\n        \"description\": \"\"\n      }\n    },\n    {\n      \"column\": \"Insulin\",\n      \"properties\": {\n        \"dtype\": \"number\",\n        \"std\": 74.87273276449727,\n        \"min\": -165.3100326101158,\n        \"max\": 317.701851723486,\n        \"num_unique_values\": 1000,\n        \"samples\": [\n          149.55308374851455,\n          144.28304811266074,\n          116.48511037821226\n        ],\n        \"semantic_type\": \"\",\n        \"description\": \"\"\n      }\n    },\n    {\n      \"column\": \"BMI\",\n      \"properties\": {\n        \"dtype\": \"number\",\n        \"std\": 3.690223424365158,\n        \"min\": 13.548817852644664,\n        \"max\": 36.324597869685,\n        \"num_unique_values\": 1000,\n        \"samples\": [\n          24.218736681725392,\n          23.801312548795064,\n          22.9110603038601\n        ],\n        \"semantic_type\": \"\",\n        \"description\": \"\"\n      }\n    },\n    {\n      \"column\": \"DiabetesPedigreeFunction\",\n      \"properties\": {\n        \"dtype\": \"number\",\n        \"std\": 0.19933443406994794,\n        \"min\": 0.1000369788526077,\n        \"max\": 0.7996536327959616,\n        \"num_unique_values\": 1000,\n        \"samples\": [\n          0.7326370829793747,\n          0.2484194953515602,\n          0.3541928131816235\n        ],\n        \"semantic_type\": \"\",\n        \"description\": \"\"\n      }\n    },\n    {\n      \"column\": \"Age\",\n      \"properties\": {\n        \"dtype\": \"number\",\n        \"std\": 14.465398004198562,\n        \"min\": -0.979803578151646,\n        \"max\": 90.5737824472806,\n        \"num_unique_values\": 1000,\n        \"samples\": [\n          17.028898711185644,\n          20.705238388105126,\n          45.54948444880257\n        ],\n        \"semantic_type\": \"\",\n        \"description\": \"\"\n      }\n    },\n    {\n      \"column\": \"Diagnosis\",\n      \"properties\": {\n        \"dtype\": \"number\",\n        \"std\": 0,\n        \"min\": 0,\n        \"max\": 1,\n        \"num_unique_values\": 2,\n        \"samples\": [\n          1,\n          0\n        ],\n        \"semantic_type\": \"\",\n        \"description\": \"\"\n      }\n    }\n  ]\n}"
            }
          },
          "metadata": {},
          "execution_count": 3
        }
      ]
    },
    {
      "cell_type": "markdown",
      "source": [
        "# Membagi dataset menjadi data latih dan data uji"
      ],
      "metadata": {
        "id": "oYCA36V3sF7-"
      }
    },
    {
      "cell_type": "code",
      "source": [
        "from sklearn.model_selection import train_test_split\n",
        "data_latih,data_uji = train_test_split(data,test_size=0.2)"
      ],
      "metadata": {
        "id": "YhjZ0iWVrynK"
      },
      "execution_count": null,
      "outputs": []
    },
    {
      "cell_type": "code",
      "source": [
        "print(data_uji.shape[0])\n",
        "print(data_latih.shape[0])"
      ],
      "metadata": {
        "colab": {
          "base_uri": "https://localhost:8080/"
        },
        "id": "jbd9wZpMsJmv",
        "outputId": "aa4e14b4-5d2e-4f37-b9f0-374ec4bc430b"
      },
      "execution_count": null,
      "outputs": [
        {
          "output_type": "stream",
          "name": "stdout",
          "text": [
            "200\n",
            "800\n"
          ]
        }
      ]
    },
    {
      "cell_type": "code",
      "source": [
        "label_uji = data_uji.pop('Diagnosis')\n",
        "label_uji"
      ],
      "metadata": {
        "colab": {
          "base_uri": "https://localhost:8080/"
        },
        "id": "ZVP0XtR0sRgH",
        "outputId": "f08dfb20-5f89-4e32-af25-f9362a341076"
      },
      "execution_count": null,
      "outputs": [
        {
          "output_type": "execute_result",
          "data": {
            "text/plain": [
              "332    0\n",
              "782    0\n",
              "397    0\n",
              "362    0\n",
              "988    1\n",
              "      ..\n",
              "846    0\n",
              "810    0\n",
              "335    1\n",
              "278    0\n",
              "665    0\n",
              "Name: Diagnosis, Length: 200, dtype: int64"
            ]
          },
          "metadata": {},
          "execution_count": 6
        }
      ]
    },
    {
      "cell_type": "code",
      "source": [
        "data_uji.head()"
      ],
      "metadata": {
        "colab": {
          "base_uri": "https://localhost:8080/",
          "height": 206
        },
        "id": "4ir4nbxosWPu",
        "outputId": "39557294-3db3-418b-b4b9-134e513a068d"
      },
      "execution_count": null,
      "outputs": [
        {
          "output_type": "execute_result",
          "data": {
            "text/plain": [
              "     Pregnancies     Glucose  BloodPressure  SkinThickness     Insulin  \\\n",
              "332            2   65.050938      88.834688      22.650189   51.175315   \n",
              "782            2   96.733584      66.937760      23.733440  -50.338820   \n",
              "397            4  140.400982      74.622138      23.625004  124.312973   \n",
              "362            2   86.082772      85.752473      23.310969   60.291494   \n",
              "988            3  115.022617      86.061273      22.249132  122.720737   \n",
              "\n",
              "           BMI  DiabetesPedigreeFunction        Age  \n",
              "332  23.194232                  0.484189  43.541832  \n",
              "782  23.943457                  0.202212  29.289531  \n",
              "397  21.598581                  0.348935  62.298863  \n",
              "362  26.689459                  0.788061  49.667539  \n",
              "988  29.088546                  0.424573  26.687196  "
            ],
            "text/html": [
              "\n",
              "  <div id=\"df-10333771-14b3-4bcb-a981-1938764cc907\" class=\"colab-df-container\">\n",
              "    <div>\n",
              "<style scoped>\n",
              "    .dataframe tbody tr th:only-of-type {\n",
              "        vertical-align: middle;\n",
              "    }\n",
              "\n",
              "    .dataframe tbody tr th {\n",
              "        vertical-align: top;\n",
              "    }\n",
              "\n",
              "    .dataframe thead th {\n",
              "        text-align: right;\n",
              "    }\n",
              "</style>\n",
              "<table border=\"1\" class=\"dataframe\">\n",
              "  <thead>\n",
              "    <tr style=\"text-align: right;\">\n",
              "      <th></th>\n",
              "      <th>Pregnancies</th>\n",
              "      <th>Glucose</th>\n",
              "      <th>BloodPressure</th>\n",
              "      <th>SkinThickness</th>\n",
              "      <th>Insulin</th>\n",
              "      <th>BMI</th>\n",
              "      <th>DiabetesPedigreeFunction</th>\n",
              "      <th>Age</th>\n",
              "    </tr>\n",
              "  </thead>\n",
              "  <tbody>\n",
              "    <tr>\n",
              "      <th>332</th>\n",
              "      <td>2</td>\n",
              "      <td>65.050938</td>\n",
              "      <td>88.834688</td>\n",
              "      <td>22.650189</td>\n",
              "      <td>51.175315</td>\n",
              "      <td>23.194232</td>\n",
              "      <td>0.484189</td>\n",
              "      <td>43.541832</td>\n",
              "    </tr>\n",
              "    <tr>\n",
              "      <th>782</th>\n",
              "      <td>2</td>\n",
              "      <td>96.733584</td>\n",
              "      <td>66.937760</td>\n",
              "      <td>23.733440</td>\n",
              "      <td>-50.338820</td>\n",
              "      <td>23.943457</td>\n",
              "      <td>0.202212</td>\n",
              "      <td>29.289531</td>\n",
              "    </tr>\n",
              "    <tr>\n",
              "      <th>397</th>\n",
              "      <td>4</td>\n",
              "      <td>140.400982</td>\n",
              "      <td>74.622138</td>\n",
              "      <td>23.625004</td>\n",
              "      <td>124.312973</td>\n",
              "      <td>21.598581</td>\n",
              "      <td>0.348935</td>\n",
              "      <td>62.298863</td>\n",
              "    </tr>\n",
              "    <tr>\n",
              "      <th>362</th>\n",
              "      <td>2</td>\n",
              "      <td>86.082772</td>\n",
              "      <td>85.752473</td>\n",
              "      <td>23.310969</td>\n",
              "      <td>60.291494</td>\n",
              "      <td>26.689459</td>\n",
              "      <td>0.788061</td>\n",
              "      <td>49.667539</td>\n",
              "    </tr>\n",
              "    <tr>\n",
              "      <th>988</th>\n",
              "      <td>3</td>\n",
              "      <td>115.022617</td>\n",
              "      <td>86.061273</td>\n",
              "      <td>22.249132</td>\n",
              "      <td>122.720737</td>\n",
              "      <td>29.088546</td>\n",
              "      <td>0.424573</td>\n",
              "      <td>26.687196</td>\n",
              "    </tr>\n",
              "  </tbody>\n",
              "</table>\n",
              "</div>\n",
              "    <div class=\"colab-df-buttons\">\n",
              "\n",
              "  <div class=\"colab-df-container\">\n",
              "    <button class=\"colab-df-convert\" onclick=\"convertToInteractive('df-10333771-14b3-4bcb-a981-1938764cc907')\"\n",
              "            title=\"Convert this dataframe to an interactive table.\"\n",
              "            style=\"display:none;\">\n",
              "\n",
              "  <svg xmlns=\"http://www.w3.org/2000/svg\" height=\"24px\" viewBox=\"0 -960 960 960\">\n",
              "    <path d=\"M120-120v-720h720v720H120Zm60-500h600v-160H180v160Zm220 220h160v-160H400v160Zm0 220h160v-160H400v160ZM180-400h160v-160H180v160Zm440 0h160v-160H620v160ZM180-180h160v-160H180v160Zm440 0h160v-160H620v160Z\"/>\n",
              "  </svg>\n",
              "    </button>\n",
              "\n",
              "  <style>\n",
              "    .colab-df-container {\n",
              "      display:flex;\n",
              "      gap: 12px;\n",
              "    }\n",
              "\n",
              "    .colab-df-convert {\n",
              "      background-color: #E8F0FE;\n",
              "      border: none;\n",
              "      border-radius: 50%;\n",
              "      cursor: pointer;\n",
              "      display: none;\n",
              "      fill: #1967D2;\n",
              "      height: 32px;\n",
              "      padding: 0 0 0 0;\n",
              "      width: 32px;\n",
              "    }\n",
              "\n",
              "    .colab-df-convert:hover {\n",
              "      background-color: #E2EBFA;\n",
              "      box-shadow: 0px 1px 2px rgba(60, 64, 67, 0.3), 0px 1px 3px 1px rgba(60, 64, 67, 0.15);\n",
              "      fill: #174EA6;\n",
              "    }\n",
              "\n",
              "    .colab-df-buttons div {\n",
              "      margin-bottom: 4px;\n",
              "    }\n",
              "\n",
              "    [theme=dark] .colab-df-convert {\n",
              "      background-color: #3B4455;\n",
              "      fill: #D2E3FC;\n",
              "    }\n",
              "\n",
              "    [theme=dark] .colab-df-convert:hover {\n",
              "      background-color: #434B5C;\n",
              "      box-shadow: 0px 1px 3px 1px rgba(0, 0, 0, 0.15);\n",
              "      filter: drop-shadow(0px 1px 2px rgba(0, 0, 0, 0.3));\n",
              "      fill: #FFFFFF;\n",
              "    }\n",
              "  </style>\n",
              "\n",
              "    <script>\n",
              "      const buttonEl =\n",
              "        document.querySelector('#df-10333771-14b3-4bcb-a981-1938764cc907 button.colab-df-convert');\n",
              "      buttonEl.style.display =\n",
              "        google.colab.kernel.accessAllowed ? 'block' : 'none';\n",
              "\n",
              "      async function convertToInteractive(key) {\n",
              "        const element = document.querySelector('#df-10333771-14b3-4bcb-a981-1938764cc907');\n",
              "        const dataTable =\n",
              "          await google.colab.kernel.invokeFunction('convertToInteractive',\n",
              "                                                    [key], {});\n",
              "        if (!dataTable) return;\n",
              "\n",
              "        const docLinkHtml = 'Like what you see? Visit the ' +\n",
              "          '<a target=\"_blank\" href=https://colab.research.google.com/notebooks/data_table.ipynb>data table notebook</a>'\n",
              "          + ' to learn more about interactive tables.';\n",
              "        element.innerHTML = '';\n",
              "        dataTable['output_type'] = 'display_data';\n",
              "        await google.colab.output.renderOutput(dataTable, element);\n",
              "        const docLink = document.createElement('div');\n",
              "        docLink.innerHTML = docLinkHtml;\n",
              "        element.appendChild(docLink);\n",
              "      }\n",
              "    </script>\n",
              "  </div>\n",
              "\n",
              "\n",
              "<div id=\"df-d8950142-3ec9-4b51-b3a2-83446dc4d100\">\n",
              "  <button class=\"colab-df-quickchart\" onclick=\"quickchart('df-d8950142-3ec9-4b51-b3a2-83446dc4d100')\"\n",
              "            title=\"Suggest charts\"\n",
              "            style=\"display:none;\">\n",
              "\n",
              "<svg xmlns=\"http://www.w3.org/2000/svg\" height=\"24px\"viewBox=\"0 0 24 24\"\n",
              "     width=\"24px\">\n",
              "    <g>\n",
              "        <path d=\"M19 3H5c-1.1 0-2 .9-2 2v14c0 1.1.9 2 2 2h14c1.1 0 2-.9 2-2V5c0-1.1-.9-2-2-2zM9 17H7v-7h2v7zm4 0h-2V7h2v10zm4 0h-2v-4h2v4z\"/>\n",
              "    </g>\n",
              "</svg>\n",
              "  </button>\n",
              "\n",
              "<style>\n",
              "  .colab-df-quickchart {\n",
              "      --bg-color: #E8F0FE;\n",
              "      --fill-color: #1967D2;\n",
              "      --hover-bg-color: #E2EBFA;\n",
              "      --hover-fill-color: #174EA6;\n",
              "      --disabled-fill-color: #AAA;\n",
              "      --disabled-bg-color: #DDD;\n",
              "  }\n",
              "\n",
              "  [theme=dark] .colab-df-quickchart {\n",
              "      --bg-color: #3B4455;\n",
              "      --fill-color: #D2E3FC;\n",
              "      --hover-bg-color: #434B5C;\n",
              "      --hover-fill-color: #FFFFFF;\n",
              "      --disabled-bg-color: #3B4455;\n",
              "      --disabled-fill-color: #666;\n",
              "  }\n",
              "\n",
              "  .colab-df-quickchart {\n",
              "    background-color: var(--bg-color);\n",
              "    border: none;\n",
              "    border-radius: 50%;\n",
              "    cursor: pointer;\n",
              "    display: none;\n",
              "    fill: var(--fill-color);\n",
              "    height: 32px;\n",
              "    padding: 0;\n",
              "    width: 32px;\n",
              "  }\n",
              "\n",
              "  .colab-df-quickchart:hover {\n",
              "    background-color: var(--hover-bg-color);\n",
              "    box-shadow: 0 1px 2px rgba(60, 64, 67, 0.3), 0 1px 3px 1px rgba(60, 64, 67, 0.15);\n",
              "    fill: var(--button-hover-fill-color);\n",
              "  }\n",
              "\n",
              "  .colab-df-quickchart-complete:disabled,\n",
              "  .colab-df-quickchart-complete:disabled:hover {\n",
              "    background-color: var(--disabled-bg-color);\n",
              "    fill: var(--disabled-fill-color);\n",
              "    box-shadow: none;\n",
              "  }\n",
              "\n",
              "  .colab-df-spinner {\n",
              "    border: 2px solid var(--fill-color);\n",
              "    border-color: transparent;\n",
              "    border-bottom-color: var(--fill-color);\n",
              "    animation:\n",
              "      spin 1s steps(1) infinite;\n",
              "  }\n",
              "\n",
              "  @keyframes spin {\n",
              "    0% {\n",
              "      border-color: transparent;\n",
              "      border-bottom-color: var(--fill-color);\n",
              "      border-left-color: var(--fill-color);\n",
              "    }\n",
              "    20% {\n",
              "      border-color: transparent;\n",
              "      border-left-color: var(--fill-color);\n",
              "      border-top-color: var(--fill-color);\n",
              "    }\n",
              "    30% {\n",
              "      border-color: transparent;\n",
              "      border-left-color: var(--fill-color);\n",
              "      border-top-color: var(--fill-color);\n",
              "      border-right-color: var(--fill-color);\n",
              "    }\n",
              "    40% {\n",
              "      border-color: transparent;\n",
              "      border-right-color: var(--fill-color);\n",
              "      border-top-color: var(--fill-color);\n",
              "    }\n",
              "    60% {\n",
              "      border-color: transparent;\n",
              "      border-right-color: var(--fill-color);\n",
              "    }\n",
              "    80% {\n",
              "      border-color: transparent;\n",
              "      border-right-color: var(--fill-color);\n",
              "      border-bottom-color: var(--fill-color);\n",
              "    }\n",
              "    90% {\n",
              "      border-color: transparent;\n",
              "      border-bottom-color: var(--fill-color);\n",
              "    }\n",
              "  }\n",
              "</style>\n",
              "\n",
              "  <script>\n",
              "    async function quickchart(key) {\n",
              "      const quickchartButtonEl =\n",
              "        document.querySelector('#' + key + ' button');\n",
              "      quickchartButtonEl.disabled = true;  // To prevent multiple clicks.\n",
              "      quickchartButtonEl.classList.add('colab-df-spinner');\n",
              "      try {\n",
              "        const charts = await google.colab.kernel.invokeFunction(\n",
              "            'suggestCharts', [key], {});\n",
              "      } catch (error) {\n",
              "        console.error('Error during call to suggestCharts:', error);\n",
              "      }\n",
              "      quickchartButtonEl.classList.remove('colab-df-spinner');\n",
              "      quickchartButtonEl.classList.add('colab-df-quickchart-complete');\n",
              "    }\n",
              "    (() => {\n",
              "      let quickchartButtonEl =\n",
              "        document.querySelector('#df-d8950142-3ec9-4b51-b3a2-83446dc4d100 button');\n",
              "      quickchartButtonEl.style.display =\n",
              "        google.colab.kernel.accessAllowed ? 'block' : 'none';\n",
              "    })();\n",
              "  </script>\n",
              "</div>\n",
              "    </div>\n",
              "  </div>\n"
            ],
            "application/vnd.google.colaboratory.intrinsic+json": {
              "type": "dataframe",
              "variable_name": "data_uji",
              "summary": "{\n  \"name\": \"data_uji\",\n  \"rows\": 200,\n  \"fields\": [\n    {\n      \"column\": \"Pregnancies\",\n      \"properties\": {\n        \"dtype\": \"number\",\n        \"std\": 1,\n        \"min\": 0,\n        \"max\": 6,\n        \"num_unique_values\": 7,\n        \"samples\": [\n          2,\n          4,\n          0\n        ],\n        \"semantic_type\": \"\",\n        \"description\": \"\"\n      }\n    },\n    {\n      \"column\": \"Glucose\",\n      \"properties\": {\n        \"dtype\": \"number\",\n        \"std\": 19.24564521342509,\n        \"min\": 33.50488560177807,\n        \"max\": 140.40098213859295,\n        \"num_unique_values\": 200,\n        \"samples\": [\n          108.8700344116905,\n          102.75689009761568,\n          96.68943697293344\n        ],\n        \"semantic_type\": \"\",\n        \"description\": \"\"\n      }\n    },\n    {\n      \"column\": \"BloodPressure\",\n      \"properties\": {\n        \"dtype\": \"number\",\n        \"std\": 13.11395342447681,\n        \"min\": 34.014603121712234,\n        \"max\": 107.97869849665469,\n        \"num_unique_values\": 200,\n        \"samples\": [\n          74.33851801016897,\n          78.83067623103861,\n          58.8335559429994\n        ],\n        \"semantic_type\": \"\",\n        \"description\": \"\"\n      }\n    },\n    {\n      \"column\": \"SkinThickness\",\n      \"properties\": {\n        \"dtype\": \"number\",\n        \"std\": 1.1911524759082521,\n        \"min\": 20.606159871328728,\n        \"max\": 26.62267077155313,\n        \"num_unique_values\": 200,\n        \"samples\": [\n          25.39085130164305,\n          21.559340272101554,\n          23.578983942103243\n        ],\n        \"semantic_type\": \"\",\n        \"description\": \"\"\n      }\n    },\n    {\n      \"column\": \"Insulin\",\n      \"properties\": {\n        \"dtype\": \"number\",\n        \"std\": 72.7369065745197,\n        \"min\": -129.13748994325118,\n        \"max\": 317.701851723486,\n        \"num_unique_values\": 200,\n        \"samples\": [\n          78.70474015629594,\n          10.562409426678345,\n          63.182388701959496\n        ],\n        \"semantic_type\": \"\",\n        \"description\": \"\"\n      }\n    },\n    {\n      \"column\": \"BMI\",\n      \"properties\": {\n        \"dtype\": \"number\",\n        \"std\": 3.4380694633012587,\n        \"min\": 17.072711655332228,\n        \"max\": 33.697975303106645,\n        \"num_unique_values\": 200,\n        \"samples\": [\n          20.008180290902875,\n          18.73102741394952,\n          24.829972640880456\n        ],\n        \"semantic_type\": \"\",\n        \"description\": \"\"\n      }\n    },\n    {\n      \"column\": \"DiabetesPedigreeFunction\",\n      \"properties\": {\n        \"dtype\": \"number\",\n        \"std\": 0.20041165330598693,\n        \"min\": 0.1000369788526077,\n        \"max\": 0.7880614451341549,\n        \"num_unique_values\": 200,\n        \"samples\": [\n          0.6731165933182565,\n          0.6171635350550806,\n          0.2888572405246549\n        ],\n        \"semantic_type\": \"\",\n        \"description\": \"\"\n      }\n    },\n    {\n      \"column\": \"Age\",\n      \"properties\": {\n        \"dtype\": \"number\",\n        \"std\": 14.672669737883966,\n        \"min\": 2.0820768132019936,\n        \"max\": 80.52712420286544,\n        \"num_unique_values\": 200,\n        \"samples\": [\n          24.89376053106326,\n          77.63542292583404,\n          60.3992151488392\n        ],\n        \"semantic_type\": \"\",\n        \"description\": \"\"\n      }\n    }\n  ]\n}"
            }
          },
          "metadata": {},
          "execution_count": 7
        }
      ]
    },
    {
      "cell_type": "code",
      "source": [
        "data_latih.head()"
      ],
      "metadata": {
        "colab": {
          "base_uri": "https://localhost:8080/",
          "height": 206
        },
        "id": "wxcENxdbslph",
        "outputId": "f73881f4-df90-4ed2-b3c4-90abb03a136a"
      },
      "execution_count": null,
      "outputs": [
        {
          "output_type": "execute_result",
          "data": {
            "text/plain": [
              "     Pregnancies     Glucose  BloodPressure  SkinThickness     Insulin  \\\n",
              "907            4  105.380481      63.893365      23.170406   66.998259   \n",
              "603            1  134.100283      63.704866      23.414883  -14.833046   \n",
              "527            1   77.346619      58.274296      24.052346  132.520427   \n",
              "765            3  127.745148      60.234518      22.812509   39.453949   \n",
              "938            3   98.677134      75.007571      22.744113  132.845596   \n",
              "\n",
              "           BMI  DiabetesPedigreeFunction        Age  Diagnosis  \n",
              "907  32.107325                  0.334315  37.805206          1  \n",
              "603  25.722433                  0.479054  33.434737          0  \n",
              "527  24.664058                  0.705991  54.576449          0  \n",
              "765  27.024648                  0.465319  36.081178          0  \n",
              "938  21.425366                  0.445456  42.408372          0  "
            ],
            "text/html": [
              "\n",
              "  <div id=\"df-bfbdc9b3-604f-4677-8dfa-2936ea25a375\" class=\"colab-df-container\">\n",
              "    <div>\n",
              "<style scoped>\n",
              "    .dataframe tbody tr th:only-of-type {\n",
              "        vertical-align: middle;\n",
              "    }\n",
              "\n",
              "    .dataframe tbody tr th {\n",
              "        vertical-align: top;\n",
              "    }\n",
              "\n",
              "    .dataframe thead th {\n",
              "        text-align: right;\n",
              "    }\n",
              "</style>\n",
              "<table border=\"1\" class=\"dataframe\">\n",
              "  <thead>\n",
              "    <tr style=\"text-align: right;\">\n",
              "      <th></th>\n",
              "      <th>Pregnancies</th>\n",
              "      <th>Glucose</th>\n",
              "      <th>BloodPressure</th>\n",
              "      <th>SkinThickness</th>\n",
              "      <th>Insulin</th>\n",
              "      <th>BMI</th>\n",
              "      <th>DiabetesPedigreeFunction</th>\n",
              "      <th>Age</th>\n",
              "      <th>Diagnosis</th>\n",
              "    </tr>\n",
              "  </thead>\n",
              "  <tbody>\n",
              "    <tr>\n",
              "      <th>907</th>\n",
              "      <td>4</td>\n",
              "      <td>105.380481</td>\n",
              "      <td>63.893365</td>\n",
              "      <td>23.170406</td>\n",
              "      <td>66.998259</td>\n",
              "      <td>32.107325</td>\n",
              "      <td>0.334315</td>\n",
              "      <td>37.805206</td>\n",
              "      <td>1</td>\n",
              "    </tr>\n",
              "    <tr>\n",
              "      <th>603</th>\n",
              "      <td>1</td>\n",
              "      <td>134.100283</td>\n",
              "      <td>63.704866</td>\n",
              "      <td>23.414883</td>\n",
              "      <td>-14.833046</td>\n",
              "      <td>25.722433</td>\n",
              "      <td>0.479054</td>\n",
              "      <td>33.434737</td>\n",
              "      <td>0</td>\n",
              "    </tr>\n",
              "    <tr>\n",
              "      <th>527</th>\n",
              "      <td>1</td>\n",
              "      <td>77.346619</td>\n",
              "      <td>58.274296</td>\n",
              "      <td>24.052346</td>\n",
              "      <td>132.520427</td>\n",
              "      <td>24.664058</td>\n",
              "      <td>0.705991</td>\n",
              "      <td>54.576449</td>\n",
              "      <td>0</td>\n",
              "    </tr>\n",
              "    <tr>\n",
              "      <th>765</th>\n",
              "      <td>3</td>\n",
              "      <td>127.745148</td>\n",
              "      <td>60.234518</td>\n",
              "      <td>22.812509</td>\n",
              "      <td>39.453949</td>\n",
              "      <td>27.024648</td>\n",
              "      <td>0.465319</td>\n",
              "      <td>36.081178</td>\n",
              "      <td>0</td>\n",
              "    </tr>\n",
              "    <tr>\n",
              "      <th>938</th>\n",
              "      <td>3</td>\n",
              "      <td>98.677134</td>\n",
              "      <td>75.007571</td>\n",
              "      <td>22.744113</td>\n",
              "      <td>132.845596</td>\n",
              "      <td>21.425366</td>\n",
              "      <td>0.445456</td>\n",
              "      <td>42.408372</td>\n",
              "      <td>0</td>\n",
              "    </tr>\n",
              "  </tbody>\n",
              "</table>\n",
              "</div>\n",
              "    <div class=\"colab-df-buttons\">\n",
              "\n",
              "  <div class=\"colab-df-container\">\n",
              "    <button class=\"colab-df-convert\" onclick=\"convertToInteractive('df-bfbdc9b3-604f-4677-8dfa-2936ea25a375')\"\n",
              "            title=\"Convert this dataframe to an interactive table.\"\n",
              "            style=\"display:none;\">\n",
              "\n",
              "  <svg xmlns=\"http://www.w3.org/2000/svg\" height=\"24px\" viewBox=\"0 -960 960 960\">\n",
              "    <path d=\"M120-120v-720h720v720H120Zm60-500h600v-160H180v160Zm220 220h160v-160H400v160Zm0 220h160v-160H400v160ZM180-400h160v-160H180v160Zm440 0h160v-160H620v160ZM180-180h160v-160H180v160Zm440 0h160v-160H620v160Z\"/>\n",
              "  </svg>\n",
              "    </button>\n",
              "\n",
              "  <style>\n",
              "    .colab-df-container {\n",
              "      display:flex;\n",
              "      gap: 12px;\n",
              "    }\n",
              "\n",
              "    .colab-df-convert {\n",
              "      background-color: #E8F0FE;\n",
              "      border: none;\n",
              "      border-radius: 50%;\n",
              "      cursor: pointer;\n",
              "      display: none;\n",
              "      fill: #1967D2;\n",
              "      height: 32px;\n",
              "      padding: 0 0 0 0;\n",
              "      width: 32px;\n",
              "    }\n",
              "\n",
              "    .colab-df-convert:hover {\n",
              "      background-color: #E2EBFA;\n",
              "      box-shadow: 0px 1px 2px rgba(60, 64, 67, 0.3), 0px 1px 3px 1px rgba(60, 64, 67, 0.15);\n",
              "      fill: #174EA6;\n",
              "    }\n",
              "\n",
              "    .colab-df-buttons div {\n",
              "      margin-bottom: 4px;\n",
              "    }\n",
              "\n",
              "    [theme=dark] .colab-df-convert {\n",
              "      background-color: #3B4455;\n",
              "      fill: #D2E3FC;\n",
              "    }\n",
              "\n",
              "    [theme=dark] .colab-df-convert:hover {\n",
              "      background-color: #434B5C;\n",
              "      box-shadow: 0px 1px 3px 1px rgba(0, 0, 0, 0.15);\n",
              "      filter: drop-shadow(0px 1px 2px rgba(0, 0, 0, 0.3));\n",
              "      fill: #FFFFFF;\n",
              "    }\n",
              "  </style>\n",
              "\n",
              "    <script>\n",
              "      const buttonEl =\n",
              "        document.querySelector('#df-bfbdc9b3-604f-4677-8dfa-2936ea25a375 button.colab-df-convert');\n",
              "      buttonEl.style.display =\n",
              "        google.colab.kernel.accessAllowed ? 'block' : 'none';\n",
              "\n",
              "      async function convertToInteractive(key) {\n",
              "        const element = document.querySelector('#df-bfbdc9b3-604f-4677-8dfa-2936ea25a375');\n",
              "        const dataTable =\n",
              "          await google.colab.kernel.invokeFunction('convertToInteractive',\n",
              "                                                    [key], {});\n",
              "        if (!dataTable) return;\n",
              "\n",
              "        const docLinkHtml = 'Like what you see? Visit the ' +\n",
              "          '<a target=\"_blank\" href=https://colab.research.google.com/notebooks/data_table.ipynb>data table notebook</a>'\n",
              "          + ' to learn more about interactive tables.';\n",
              "        element.innerHTML = '';\n",
              "        dataTable['output_type'] = 'display_data';\n",
              "        await google.colab.output.renderOutput(dataTable, element);\n",
              "        const docLink = document.createElement('div');\n",
              "        docLink.innerHTML = docLinkHtml;\n",
              "        element.appendChild(docLink);\n",
              "      }\n",
              "    </script>\n",
              "  </div>\n",
              "\n",
              "\n",
              "<div id=\"df-710d82e0-0721-4405-9e50-83b270c750db\">\n",
              "  <button class=\"colab-df-quickchart\" onclick=\"quickchart('df-710d82e0-0721-4405-9e50-83b270c750db')\"\n",
              "            title=\"Suggest charts\"\n",
              "            style=\"display:none;\">\n",
              "\n",
              "<svg xmlns=\"http://www.w3.org/2000/svg\" height=\"24px\"viewBox=\"0 0 24 24\"\n",
              "     width=\"24px\">\n",
              "    <g>\n",
              "        <path d=\"M19 3H5c-1.1 0-2 .9-2 2v14c0 1.1.9 2 2 2h14c1.1 0 2-.9 2-2V5c0-1.1-.9-2-2-2zM9 17H7v-7h2v7zm4 0h-2V7h2v10zm4 0h-2v-4h2v4z\"/>\n",
              "    </g>\n",
              "</svg>\n",
              "  </button>\n",
              "\n",
              "<style>\n",
              "  .colab-df-quickchart {\n",
              "      --bg-color: #E8F0FE;\n",
              "      --fill-color: #1967D2;\n",
              "      --hover-bg-color: #E2EBFA;\n",
              "      --hover-fill-color: #174EA6;\n",
              "      --disabled-fill-color: #AAA;\n",
              "      --disabled-bg-color: #DDD;\n",
              "  }\n",
              "\n",
              "  [theme=dark] .colab-df-quickchart {\n",
              "      --bg-color: #3B4455;\n",
              "      --fill-color: #D2E3FC;\n",
              "      --hover-bg-color: #434B5C;\n",
              "      --hover-fill-color: #FFFFFF;\n",
              "      --disabled-bg-color: #3B4455;\n",
              "      --disabled-fill-color: #666;\n",
              "  }\n",
              "\n",
              "  .colab-df-quickchart {\n",
              "    background-color: var(--bg-color);\n",
              "    border: none;\n",
              "    border-radius: 50%;\n",
              "    cursor: pointer;\n",
              "    display: none;\n",
              "    fill: var(--fill-color);\n",
              "    height: 32px;\n",
              "    padding: 0;\n",
              "    width: 32px;\n",
              "  }\n",
              "\n",
              "  .colab-df-quickchart:hover {\n",
              "    background-color: var(--hover-bg-color);\n",
              "    box-shadow: 0 1px 2px rgba(60, 64, 67, 0.3), 0 1px 3px 1px rgba(60, 64, 67, 0.15);\n",
              "    fill: var(--button-hover-fill-color);\n",
              "  }\n",
              "\n",
              "  .colab-df-quickchart-complete:disabled,\n",
              "  .colab-df-quickchart-complete:disabled:hover {\n",
              "    background-color: var(--disabled-bg-color);\n",
              "    fill: var(--disabled-fill-color);\n",
              "    box-shadow: none;\n",
              "  }\n",
              "\n",
              "  .colab-df-spinner {\n",
              "    border: 2px solid var(--fill-color);\n",
              "    border-color: transparent;\n",
              "    border-bottom-color: var(--fill-color);\n",
              "    animation:\n",
              "      spin 1s steps(1) infinite;\n",
              "  }\n",
              "\n",
              "  @keyframes spin {\n",
              "    0% {\n",
              "      border-color: transparent;\n",
              "      border-bottom-color: var(--fill-color);\n",
              "      border-left-color: var(--fill-color);\n",
              "    }\n",
              "    20% {\n",
              "      border-color: transparent;\n",
              "      border-left-color: var(--fill-color);\n",
              "      border-top-color: var(--fill-color);\n",
              "    }\n",
              "    30% {\n",
              "      border-color: transparent;\n",
              "      border-left-color: var(--fill-color);\n",
              "      border-top-color: var(--fill-color);\n",
              "      border-right-color: var(--fill-color);\n",
              "    }\n",
              "    40% {\n",
              "      border-color: transparent;\n",
              "      border-right-color: var(--fill-color);\n",
              "      border-top-color: var(--fill-color);\n",
              "    }\n",
              "    60% {\n",
              "      border-color: transparent;\n",
              "      border-right-color: var(--fill-color);\n",
              "    }\n",
              "    80% {\n",
              "      border-color: transparent;\n",
              "      border-right-color: var(--fill-color);\n",
              "      border-bottom-color: var(--fill-color);\n",
              "    }\n",
              "    90% {\n",
              "      border-color: transparent;\n",
              "      border-bottom-color: var(--fill-color);\n",
              "    }\n",
              "  }\n",
              "</style>\n",
              "\n",
              "  <script>\n",
              "    async function quickchart(key) {\n",
              "      const quickchartButtonEl =\n",
              "        document.querySelector('#' + key + ' button');\n",
              "      quickchartButtonEl.disabled = true;  // To prevent multiple clicks.\n",
              "      quickchartButtonEl.classList.add('colab-df-spinner');\n",
              "      try {\n",
              "        const charts = await google.colab.kernel.invokeFunction(\n",
              "            'suggestCharts', [key], {});\n",
              "      } catch (error) {\n",
              "        console.error('Error during call to suggestCharts:', error);\n",
              "      }\n",
              "      quickchartButtonEl.classList.remove('colab-df-spinner');\n",
              "      quickchartButtonEl.classList.add('colab-df-quickchart-complete');\n",
              "    }\n",
              "    (() => {\n",
              "      let quickchartButtonEl =\n",
              "        document.querySelector('#df-710d82e0-0721-4405-9e50-83b270c750db button');\n",
              "      quickchartButtonEl.style.display =\n",
              "        google.colab.kernel.accessAllowed ? 'block' : 'none';\n",
              "    })();\n",
              "  </script>\n",
              "</div>\n",
              "    </div>\n",
              "  </div>\n"
            ],
            "application/vnd.google.colaboratory.intrinsic+json": {
              "type": "dataframe",
              "variable_name": "data_latih",
              "summary": "{\n  \"name\": \"data_latih\",\n  \"rows\": 800,\n  \"fields\": [\n    {\n      \"column\": \"Pregnancies\",\n      \"properties\": {\n        \"dtype\": \"number\",\n        \"std\": 1,\n        \"min\": 0,\n        \"max\": 8,\n        \"num_unique_values\": 8,\n        \"samples\": [\n          1,\n          5,\n          4\n        ],\n        \"semantic_type\": \"\",\n        \"description\": \"\"\n      }\n    },\n    {\n      \"column\": \"Glucose\",\n      \"properties\": {\n        \"dtype\": \"number\",\n        \"std\": 19.536540061938535,\n        \"min\": 30.571402161232346,\n        \"max\": 161.23893930812437,\n        \"num_unique_values\": 800,\n        \"samples\": [\n          124.67634464178587,\n          88.37707909099967,\n          109.74827853809688\n        ],\n        \"semantic_type\": \"\",\n        \"description\": \"\"\n      }\n    },\n    {\n      \"column\": \"BloodPressure\",\n      \"properties\": {\n        \"dtype\": \"number\",\n        \"std\": 14.075361066413462,\n        \"min\": 31.40148707615002,\n        \"max\": 110.72371460214974,\n        \"num_unique_values\": 800,\n        \"samples\": [\n          61.354145202640765,\n          61.86054855118324,\n          85.93295711468357\n        ],\n        \"semantic_type\": \"\",\n        \"description\": \"\"\n      }\n    },\n    {\n      \"column\": \"SkinThickness\",\n      \"properties\": {\n        \"dtype\": \"number\",\n        \"std\": 1.1700194026966688,\n        \"min\": 19.369987239303853,\n        \"max\": 26.917654051162653,\n        \"num_unique_values\": 800,\n        \"samples\": [\n          23.67518118944879,\n          21.414106305584987,\n          23.22486101766449\n        ],\n        \"semantic_type\": \"\",\n        \"description\": \"\"\n      }\n    },\n    {\n      \"column\": \"Insulin\",\n      \"properties\": {\n        \"dtype\": \"number\",\n        \"std\": 75.32292478040883,\n        \"min\": -165.3100326101158,\n        \"max\": 307.064184224196,\n        \"num_unique_values\": 800,\n        \"samples\": [\n          -13.323198852168517,\n          100.9781936271694,\n          -46.59739603352621\n        ],\n        \"semantic_type\": \"\",\n        \"description\": \"\"\n      }\n    },\n    {\n      \"column\": \"BMI\",\n      \"properties\": {\n        \"dtype\": \"number\",\n        \"std\": 3.751865602177813,\n        \"min\": 13.548817852644664,\n        \"max\": 36.324597869685,\n        \"num_unique_values\": 800,\n        \"samples\": [\n          32.58051772287273,\n          24.24237565470359,\n          26.100194114934457\n        ],\n        \"semantic_type\": \"\",\n        \"description\": \"\"\n      }\n    },\n    {\n      \"column\": \"DiabetesPedigreeFunction\",\n      \"properties\": {\n        \"dtype\": \"number\",\n        \"std\": 0.19904634983009017,\n        \"min\": 0.1001686121625065,\n        \"max\": 0.7996536327959616,\n        \"num_unique_values\": 800,\n        \"samples\": [\n          0.1001686121625065,\n          0.3022559116603078,\n          0.2592137778453597\n        ],\n        \"semantic_type\": \"\",\n        \"description\": \"\"\n      }\n    },\n    {\n      \"column\": \"Age\",\n      \"properties\": {\n        \"dtype\": \"number\",\n        \"std\": 14.421222559409395,\n        \"min\": -0.979803578151646,\n        \"max\": 90.5737824472806,\n        \"num_unique_values\": 800,\n        \"samples\": [\n          52.18215450804748,\n          18.356324991879877,\n          43.775757583800726\n        ],\n        \"semantic_type\": \"\",\n        \"description\": \"\"\n      }\n    },\n    {\n      \"column\": \"Diagnosis\",\n      \"properties\": {\n        \"dtype\": \"number\",\n        \"std\": 0,\n        \"min\": 0,\n        \"max\": 1,\n        \"num_unique_values\": 2,\n        \"samples\": [\n          0,\n          1\n        ],\n        \"semantic_type\": \"\",\n        \"description\": \"\"\n      }\n    }\n  ]\n}"
            }
          },
          "metadata": {},
          "execution_count": 8
        }
      ]
    },
    {
      "cell_type": "markdown",
      "source": [
        "#Menghitung prior"
      ],
      "metadata": {
        "id": "gpN_ULiXs7OX"
      }
    },
    {
      "cell_type": "code",
      "source": [
        "from collections import Counter\n",
        "def hitung_prior(list_kelas):\n",
        "  n_data = len(list_kelas)\n",
        "  prior = Counter(list_kelas)\n",
        "  for key in prior.keys():\n",
        "    prior[key]=prior[key]/n_data\n",
        "  return prior"
      ],
      "metadata": {
        "id": "J0YSyA81s8xQ"
      },
      "execution_count": null,
      "outputs": []
    },
    {
      "cell_type": "code",
      "source": [
        "n_data=len(data_latih)\n",
        "n_data"
      ],
      "metadata": {
        "colab": {
          "base_uri": "https://localhost:8080/"
        },
        "id": "Ogyq2NpttLjG",
        "outputId": "11a926db-1dc3-4c15-9e5f-65884e088d18"
      },
      "execution_count": null,
      "outputs": [
        {
          "output_type": "execute_result",
          "data": {
            "text/plain": [
              "800"
            ]
          },
          "metadata": {},
          "execution_count": 10
        }
      ]
    },
    {
      "cell_type": "code",
      "source": [
        "test=Counter(data_latih['Diagnosis'])\n",
        "test"
      ],
      "metadata": {
        "colab": {
          "base_uri": "https://localhost:8080/"
        },
        "id": "8RCOPH1vtL9M",
        "outputId": "6e875f1d-b90f-48aa-fd7a-37aea114a08b"
      },
      "execution_count": null,
      "outputs": [
        {
          "output_type": "execute_result",
          "data": {
            "text/plain": [
              "Counter({1: 239, 0: 561})"
            ]
          },
          "metadata": {},
          "execution_count": 12
        }
      ]
    },
    {
      "cell_type": "code",
      "source": [
        "prior = hitung_prior(data_latih['Diagnosis'])\n",
        "print(prior)"
      ],
      "metadata": {
        "colab": {
          "base_uri": "https://localhost:8080/"
        },
        "id": "wDHbUVsUtZuJ",
        "outputId": "eaea3d17-7852-48aa-f3e9-bc66d1448ff8"
      },
      "execution_count": null,
      "outputs": [
        {
          "output_type": "stream",
          "name": "stdout",
          "text": [
            "Counter({0: 0.70125, 1: 0.29875})\n"
          ]
        }
      ]
    },
    {
      "cell_type": "markdown",
      "source": [
        "#Menghitung likelihood"
      ],
      "metadata": {
        "id": "Ss90DAmkt0mI"
      }
    },
    {
      "cell_type": "code",
      "source": [
        "def hitung_rata2_std_kelas(input_data):\n",
        "  # Simpan list kolom\n",
        "  list_columns = input_data.columns[:-1]\n",
        "  # Simpan nama kolom kelas\n",
        "  class_column_name = input_data.columns[-1]\n",
        "  # Simpan list kelas\n",
        "  list_class = set(input_data[class_column_name])\n",
        "  rata2 = {}\n",
        "  std = {}\n",
        "  for column in list_columns:\n",
        "    for a_class in list_class:\n",
        "        rata2[(a_class,column)] = input_data.loc[input_data[class_column_name] == a_class][column].mean()\n",
        "        std[(a_class,column)] = input_data.loc[input_data[class_column_name]==a_class][column].std()\n",
        "  print(rata2)\n",
        "  print(std)\n",
        "  return(rata2,std)"
      ],
      "metadata": {
        "id": "y3Xfygm6uKJe"
      },
      "execution_count": null,
      "outputs": []
    },
    {
      "cell_type": "code",
      "source": [
        "list_columns = data_latih.columns[:-1]\n",
        "print(list_columns)"
      ],
      "metadata": {
        "colab": {
          "base_uri": "https://localhost:8080/"
        },
        "id": "evlgzlETuW7g",
        "outputId": "555a7875-6454-4d61-d035-04090d441869"
      },
      "execution_count": null,
      "outputs": [
        {
          "output_type": "stream",
          "name": "stdout",
          "text": [
            "Index(['Pregnancies', 'Glucose', 'BloodPressure', 'SkinThickness', 'Insulin',\n",
            "       'BMI', 'DiabetesPedigreeFunction', 'Age'],\n",
            "      dtype='object')\n"
          ]
        }
      ]
    },
    {
      "cell_type": "code",
      "source": [
        "class_column_name = data_latih.columns[-1]\n",
        "print(class_column_name)"
      ],
      "metadata": {
        "colab": {
          "base_uri": "https://localhost:8080/"
        },
        "id": "zKgIrSfRuXhY",
        "outputId": "6c57e0f5-2812-41c9-8829-b0cff7256583"
      },
      "execution_count": null,
      "outputs": [
        {
          "output_type": "stream",
          "name": "stdout",
          "text": [
            "Diagnosis\n"
          ]
        }
      ]
    },
    {
      "cell_type": "code",
      "source": [
        "list_class = set(data_latih[class_column_name])\n",
        "print(list_class)"
      ],
      "metadata": {
        "colab": {
          "base_uri": "https://localhost:8080/"
        },
        "id": "VHQNrkWsuY-Z",
        "outputId": "587892e6-6276-4eaa-ec3f-38ff4aa62ade"
      },
      "execution_count": null,
      "outputs": [
        {
          "output_type": "stream",
          "name": "stdout",
          "text": [
            "{0, 1}\n"
          ]
        }
      ]
    },
    {
      "cell_type": "code",
      "source": [
        "rata2 = {}\n",
        "std = {}\n",
        "for column in list_columns:\n",
        "  for a_class in list_class:\n",
        "      rata2[(a_class,column)] = data_latih.loc[data_latih[class_column_name] == a_class][column].mean()\n",
        "      print(rata2)\n",
        "      std[(a_class,column)] = data_latih.loc[data_latih[class_column_name]==a_class][column].std()\n",
        "      print(std)\n",
        "      print(\"=====\")"
      ],
      "metadata": {
        "colab": {
          "base_uri": "https://localhost:8080/"
        },
        "id": "C7mnr0_4uaYk",
        "outputId": "bd7041ef-be8b-4411-c00c-e187a7d9f2b6"
      },
      "execution_count": null,
      "outputs": [
        {
          "output_type": "stream",
          "name": "stdout",
          "text": [
            "{(0, 'Pregnancies'): 1.7005347593582887}\n",
            "{(0, 'Pregnancies'): 1.3199633650031142}\n",
            "=====\n",
            "{(0, 'Pregnancies'): 1.7005347593582887, (1, 'Pregnancies'): 1.7740585774058577}\n",
            "{(0, 'Pregnancies'): 1.3199633650031142, (1, 'Pregnancies'): 1.353177342747069}\n",
            "=====\n",
            "{(0, 'Pregnancies'): 1.7005347593582887, (1, 'Pregnancies'): 1.7740585774058577, (0, 'Glucose'): 99.59558740005171}\n",
            "{(0, 'Pregnancies'): 1.3199633650031142, (1, 'Pregnancies'): 1.353177342747069, (0, 'Glucose'): 19.623092461994762}\n",
            "=====\n",
            "{(0, 'Pregnancies'): 1.7005347593582887, (1, 'Pregnancies'): 1.7740585774058577, (0, 'Glucose'): 99.59558740005171, (1, 'Glucose'): 99.49424730538045}\n",
            "{(0, 'Pregnancies'): 1.3199633650031142, (1, 'Pregnancies'): 1.353177342747069, (0, 'Glucose'): 19.623092461994762, (1, 'Glucose'): 19.372606506033662}\n",
            "=====\n",
            "{(0, 'Pregnancies'): 1.7005347593582887, (1, 'Pregnancies'): 1.7740585774058577, (0, 'Glucose'): 99.59558740005171, (1, 'Glucose'): 99.49424730538045, (0, 'BloodPressure'): 72.22029360618411}\n",
            "{(0, 'Pregnancies'): 1.3199633650031142, (1, 'Pregnancies'): 1.353177342747069, (0, 'Glucose'): 19.623092461994762, (1, 'Glucose'): 19.372606506033662, (0, 'BloodPressure'): 14.039340218902902}\n",
            "=====\n",
            "{(0, 'Pregnancies'): 1.7005347593582887, (1, 'Pregnancies'): 1.7740585774058577, (0, 'Glucose'): 99.59558740005171, (1, 'Glucose'): 99.49424730538045, (0, 'BloodPressure'): 72.22029360618411, (1, 'BloodPressure'): 72.08178195240627}\n",
            "{(0, 'Pregnancies'): 1.3199633650031142, (1, 'Pregnancies'): 1.353177342747069, (0, 'Glucose'): 19.623092461994762, (1, 'Glucose'): 19.372606506033662, (0, 'BloodPressure'): 14.039340218902902, (1, 'BloodPressure'): 14.1886418580408}\n",
            "=====\n",
            "{(0, 'Pregnancies'): 1.7005347593582887, (1, 'Pregnancies'): 1.7740585774058577, (0, 'Glucose'): 99.59558740005171, (1, 'Glucose'): 99.49424730538045, (0, 'BloodPressure'): 72.22029360618411, (1, 'BloodPressure'): 72.08178195240627, (0, 'SkinThickness'): 23.258213279281826}\n",
            "{(0, 'Pregnancies'): 1.3199633650031142, (1, 'Pregnancies'): 1.353177342747069, (0, 'Glucose'): 19.623092461994762, (1, 'Glucose'): 19.372606506033662, (0, 'BloodPressure'): 14.039340218902902, (1, 'BloodPressure'): 14.1886418580408, (0, 'SkinThickness'): 1.2054321775607932}\n",
            "=====\n",
            "{(0, 'Pregnancies'): 1.7005347593582887, (1, 'Pregnancies'): 1.7740585774058577, (0, 'Glucose'): 99.59558740005171, (1, 'Glucose'): 99.49424730538045, (0, 'BloodPressure'): 72.22029360618411, (1, 'BloodPressure'): 72.08178195240627, (0, 'SkinThickness'): 23.258213279281826, (1, 'SkinThickness'): 23.296176133667206}\n",
            "{(0, 'Pregnancies'): 1.3199633650031142, (1, 'Pregnancies'): 1.353177342747069, (0, 'Glucose'): 19.623092461994762, (1, 'Glucose'): 19.372606506033662, (0, 'BloodPressure'): 14.039340218902902, (1, 'BloodPressure'): 14.1886418580408, (0, 'SkinThickness'): 1.2054321775607932, (1, 'SkinThickness'): 1.084319996861747}\n",
            "=====\n",
            "{(0, 'Pregnancies'): 1.7005347593582887, (1, 'Pregnancies'): 1.7740585774058577, (0, 'Glucose'): 99.59558740005171, (1, 'Glucose'): 99.49424730538045, (0, 'BloodPressure'): 72.22029360618411, (1, 'BloodPressure'): 72.08178195240627, (0, 'SkinThickness'): 23.258213279281826, (1, 'SkinThickness'): 23.296176133667206, (0, 'Insulin'): 80.78810252466387}\n",
            "{(0, 'Pregnancies'): 1.3199633650031142, (1, 'Pregnancies'): 1.353177342747069, (0, 'Glucose'): 19.623092461994762, (1, 'Glucose'): 19.372606506033662, (0, 'BloodPressure'): 14.039340218902902, (1, 'BloodPressure'): 14.1886418580408, (0, 'SkinThickness'): 1.2054321775607932, (1, 'SkinThickness'): 1.084319996861747, (0, 'Insulin'): 75.1051105244095}\n",
            "=====\n",
            "{(0, 'Pregnancies'): 1.7005347593582887, (1, 'Pregnancies'): 1.7740585774058577, (0, 'Glucose'): 99.59558740005171, (1, 'Glucose'): 99.49424730538045, (0, 'BloodPressure'): 72.22029360618411, (1, 'BloodPressure'): 72.08178195240627, (0, 'SkinThickness'): 23.258213279281826, (1, 'SkinThickness'): 23.296176133667206, (0, 'Insulin'): 80.78810252466387, (1, 'Insulin'): 87.15659910305864}\n",
            "{(0, 'Pregnancies'): 1.3199633650031142, (1, 'Pregnancies'): 1.353177342747069, (0, 'Glucose'): 19.623092461994762, (1, 'Glucose'): 19.372606506033662, (0, 'BloodPressure'): 14.039340218902902, (1, 'BloodPressure'): 14.1886418580408, (0, 'SkinThickness'): 1.2054321775607932, (1, 'SkinThickness'): 1.084319996861747, (0, 'Insulin'): 75.1051105244095, (1, 'Insulin'): 75.8018191159949}\n",
            "=====\n",
            "{(0, 'Pregnancies'): 1.7005347593582887, (1, 'Pregnancies'): 1.7740585774058577, (0, 'Glucose'): 99.59558740005171, (1, 'Glucose'): 99.49424730538045, (0, 'BloodPressure'): 72.22029360618411, (1, 'BloodPressure'): 72.08178195240627, (0, 'SkinThickness'): 23.258213279281826, (1, 'SkinThickness'): 23.296176133667206, (0, 'Insulin'): 80.78810252466387, (1, 'Insulin'): 87.15659910305864, (0, 'BMI'): 25.53060915141738}\n",
            "{(0, 'Pregnancies'): 1.3199633650031142, (1, 'Pregnancies'): 1.353177342747069, (0, 'Glucose'): 19.623092461994762, (1, 'Glucose'): 19.372606506033662, (0, 'BloodPressure'): 14.039340218902902, (1, 'BloodPressure'): 14.1886418580408, (0, 'SkinThickness'): 1.2054321775607932, (1, 'SkinThickness'): 1.084319996861747, (0, 'Insulin'): 75.1051105244095, (1, 'Insulin'): 75.8018191159949, (0, 'BMI'): 3.6659268709336987}\n",
            "=====\n",
            "{(0, 'Pregnancies'): 1.7005347593582887, (1, 'Pregnancies'): 1.7740585774058577, (0, 'Glucose'): 99.59558740005171, (1, 'Glucose'): 99.49424730538045, (0, 'BloodPressure'): 72.22029360618411, (1, 'BloodPressure'): 72.08178195240627, (0, 'SkinThickness'): 23.258213279281826, (1, 'SkinThickness'): 23.296176133667206, (0, 'Insulin'): 80.78810252466387, (1, 'Insulin'): 87.15659910305864, (0, 'BMI'): 25.53060915141738, (1, 'BMI'): 25.321448302858716}\n",
            "{(0, 'Pregnancies'): 1.3199633650031142, (1, 'Pregnancies'): 1.353177342747069, (0, 'Glucose'): 19.623092461994762, (1, 'Glucose'): 19.372606506033662, (0, 'BloodPressure'): 14.039340218902902, (1, 'BloodPressure'): 14.1886418580408, (0, 'SkinThickness'): 1.2054321775607932, (1, 'SkinThickness'): 1.084319996861747, (0, 'Insulin'): 75.1051105244095, (1, 'Insulin'): 75.8018191159949, (0, 'BMI'): 3.6659268709336987, (1, 'BMI'): 3.950288069094805}\n",
            "=====\n",
            "{(0, 'Pregnancies'): 1.7005347593582887, (1, 'Pregnancies'): 1.7740585774058577, (0, 'Glucose'): 99.59558740005171, (1, 'Glucose'): 99.49424730538045, (0, 'BloodPressure'): 72.22029360618411, (1, 'BloodPressure'): 72.08178195240627, (0, 'SkinThickness'): 23.258213279281826, (1, 'SkinThickness'): 23.296176133667206, (0, 'Insulin'): 80.78810252466387, (1, 'Insulin'): 87.15659910305864, (0, 'BMI'): 25.53060915141738, (1, 'BMI'): 25.321448302858716, (0, 'DiabetesPedigreeFunction'): 0.439619633795289}\n",
            "{(0, 'Pregnancies'): 1.3199633650031142, (1, 'Pregnancies'): 1.353177342747069, (0, 'Glucose'): 19.623092461994762, (1, 'Glucose'): 19.372606506033662, (0, 'BloodPressure'): 14.039340218902902, (1, 'BloodPressure'): 14.1886418580408, (0, 'SkinThickness'): 1.2054321775607932, (1, 'SkinThickness'): 1.084319996861747, (0, 'Insulin'): 75.1051105244095, (1, 'Insulin'): 75.8018191159949, (0, 'BMI'): 3.6659268709336987, (1, 'BMI'): 3.950288069094805, (0, 'DiabetesPedigreeFunction'): 0.19998709772785503}\n",
            "=====\n",
            "{(0, 'Pregnancies'): 1.7005347593582887, (1, 'Pregnancies'): 1.7740585774058577, (0, 'Glucose'): 99.59558740005171, (1, 'Glucose'): 99.49424730538045, (0, 'BloodPressure'): 72.22029360618411, (1, 'BloodPressure'): 72.08178195240627, (0, 'SkinThickness'): 23.258213279281826, (1, 'SkinThickness'): 23.296176133667206, (0, 'Insulin'): 80.78810252466387, (1, 'Insulin'): 87.15659910305864, (0, 'BMI'): 25.53060915141738, (1, 'BMI'): 25.321448302858716, (0, 'DiabetesPedigreeFunction'): 0.439619633795289, (1, 'DiabetesPedigreeFunction'): 0.4609805809819534}\n",
            "{(0, 'Pregnancies'): 1.3199633650031142, (1, 'Pregnancies'): 1.353177342747069, (0, 'Glucose'): 19.623092461994762, (1, 'Glucose'): 19.372606506033662, (0, 'BloodPressure'): 14.039340218902902, (1, 'BloodPressure'): 14.1886418580408, (0, 'SkinThickness'): 1.2054321775607932, (1, 'SkinThickness'): 1.084319996861747, (0, 'Insulin'): 75.1051105244095, (1, 'Insulin'): 75.8018191159949, (0, 'BMI'): 3.6659268709336987, (1, 'BMI'): 3.950288069094805, (0, 'DiabetesPedigreeFunction'): 0.19998709772785503, (1, 'DiabetesPedigreeFunction'): 0.19642130618335385}\n",
            "=====\n",
            "{(0, 'Pregnancies'): 1.7005347593582887, (1, 'Pregnancies'): 1.7740585774058577, (0, 'Glucose'): 99.59558740005171, (1, 'Glucose'): 99.49424730538045, (0, 'BloodPressure'): 72.22029360618411, (1, 'BloodPressure'): 72.08178195240627, (0, 'SkinThickness'): 23.258213279281826, (1, 'SkinThickness'): 23.296176133667206, (0, 'Insulin'): 80.78810252466387, (1, 'Insulin'): 87.15659910305864, (0, 'BMI'): 25.53060915141738, (1, 'BMI'): 25.321448302858716, (0, 'DiabetesPedigreeFunction'): 0.439619633795289, (1, 'DiabetesPedigreeFunction'): 0.4609805809819534, (0, 'Age'): 43.802895202291495}\n",
            "{(0, 'Pregnancies'): 1.3199633650031142, (1, 'Pregnancies'): 1.353177342747069, (0, 'Glucose'): 19.623092461994762, (1, 'Glucose'): 19.372606506033662, (0, 'BloodPressure'): 14.039340218902902, (1, 'BloodPressure'): 14.1886418580408, (0, 'SkinThickness'): 1.2054321775607932, (1, 'SkinThickness'): 1.084319996861747, (0, 'Insulin'): 75.1051105244095, (1, 'Insulin'): 75.8018191159949, (0, 'BMI'): 3.6659268709336987, (1, 'BMI'): 3.950288069094805, (0, 'DiabetesPedigreeFunction'): 0.19998709772785503, (1, 'DiabetesPedigreeFunction'): 0.19642130618335385, (0, 'Age'): 14.232275192508371}\n",
            "=====\n",
            "{(0, 'Pregnancies'): 1.7005347593582887, (1, 'Pregnancies'): 1.7740585774058577, (0, 'Glucose'): 99.59558740005171, (1, 'Glucose'): 99.49424730538045, (0, 'BloodPressure'): 72.22029360618411, (1, 'BloodPressure'): 72.08178195240627, (0, 'SkinThickness'): 23.258213279281826, (1, 'SkinThickness'): 23.296176133667206, (0, 'Insulin'): 80.78810252466387, (1, 'Insulin'): 87.15659910305864, (0, 'BMI'): 25.53060915141738, (1, 'BMI'): 25.321448302858716, (0, 'DiabetesPedigreeFunction'): 0.439619633795289, (1, 'DiabetesPedigreeFunction'): 0.4609805809819534, (0, 'Age'): 43.802895202291495, (1, 'Age'): 42.33351616763438}\n",
            "{(0, 'Pregnancies'): 1.3199633650031142, (1, 'Pregnancies'): 1.353177342747069, (0, 'Glucose'): 19.623092461994762, (1, 'Glucose'): 19.372606506033662, (0, 'BloodPressure'): 14.039340218902902, (1, 'BloodPressure'): 14.1886418580408, (0, 'SkinThickness'): 1.2054321775607932, (1, 'SkinThickness'): 1.084319996861747, (0, 'Insulin'): 75.1051105244095, (1, 'Insulin'): 75.8018191159949, (0, 'BMI'): 3.6659268709336987, (1, 'BMI'): 3.950288069094805, (0, 'DiabetesPedigreeFunction'): 0.19998709772785503, (1, 'DiabetesPedigreeFunction'): 0.19642130618335385, (0, 'Age'): 14.232275192508371, (1, 'Age'): 14.834551168251867}\n",
            "=====\n"
          ]
        }
      ]
    },
    {
      "cell_type": "code",
      "source": [
        "data_latih.loc[data_latih['Diagnosis']==1]['Age']"
      ],
      "metadata": {
        "colab": {
          "base_uri": "https://localhost:8080/"
        },
        "id": "6lzDDzeIurcG",
        "outputId": "25444ac8-1aee-4e2c-f667-77c86e74a101"
      },
      "execution_count": null,
      "outputs": [
        {
          "output_type": "execute_result",
          "data": {
            "text/plain": [
              "907    37.805206\n",
              "567    54.045582\n",
              "633    50.288384\n",
              "157    60.132137\n",
              "256    39.155908\n",
              "         ...    \n",
              "820    67.553553\n",
              "144    45.846953\n",
              "461    48.637023\n",
              "279    18.702753\n",
              "172    72.669365\n",
              "Name: Age, Length: 239, dtype: float64"
            ]
          },
          "metadata": {},
          "execution_count": 20
        }
      ]
    },
    {
      "cell_type": "code",
      "source": [
        "data_latih.loc[data_latih['Diagnosis']==1]['Age'].mean()"
      ],
      "metadata": {
        "colab": {
          "base_uri": "https://localhost:8080/"
        },
        "id": "ZNNglanQvdY8",
        "outputId": "2e15263f-6396-4dde-a7e2-3592d0cafa05"
      },
      "execution_count": null,
      "outputs": [
        {
          "output_type": "execute_result",
          "data": {
            "text/plain": [
              "42.33351616763438"
            ]
          },
          "metadata": {},
          "execution_count": 22
        }
      ]
    },
    {
      "cell_type": "code",
      "source": [
        "data_latih.loc[data_latih['Diagnosis']==1]['Age'].std()"
      ],
      "metadata": {
        "colab": {
          "base_uri": "https://localhost:8080/"
        },
        "id": "x47Jpzxqvjue",
        "outputId": "1c8d7201-78bf-4219-a1de-573df3bc1c9b"
      },
      "execution_count": null,
      "outputs": [
        {
          "output_type": "execute_result",
          "data": {
            "text/plain": [
              "14.834551168251867"
            ]
          },
          "metadata": {},
          "execution_count": 23
        }
      ]
    },
    {
      "cell_type": "code",
      "source": [
        "import math\n",
        "def hitung_likelihood_gaussian(data,rata2,std):\n",
        "  hasil = (1/math.sqrt(2*math.pi*(std**2)))*math.exp((-1*((data-rata2)**2))/(2*(std**2)))\n",
        "  return hasil"
      ],
      "metadata": {
        "id": "bLrNwcemwna0"
      },
      "execution_count": null,
      "outputs": []
    },
    {
      "cell_type": "markdown",
      "source": [
        "#Proses training"
      ],
      "metadata": {
        "id": "ErbsgFMKwo8Q"
      }
    },
    {
      "cell_type": "code",
      "source": [
        "def training_naive_bayes_gaussian(data_latih):\n",
        "  # simpan daftar kelas\n",
        "  class_column_name = data_latih.columns[-1]\n",
        "  # Hitung probility prior\n",
        "  prior = hitung_prior(data_latih[class_column_name])\n",
        "  # Hitung mean dan standard deviation\n",
        "  (rata2,std) = hitung_rata2_std_kelas(data_latih)\n",
        "  list_class = set(data_latih[class_column_name])\n",
        "  list_columns = data_latih.columns[:-1]\n",
        "  model = {}\n",
        "  model['prior'] = prior\n",
        "  model['rata2'] = rata2\n",
        "  model['std'] = std\n",
        "  model['list_class'] = list_class\n",
        "  model['list_columns'] = list_columns\n",
        "  return model"
      ],
      "metadata": {
        "id": "TPzJKUp3t2sj"
      },
      "execution_count": null,
      "outputs": []
    },
    {
      "cell_type": "code",
      "source": [
        "model = training_naive_bayes_gaussian(data_latih)"
      ],
      "metadata": {
        "colab": {
          "base_uri": "https://localhost:8080/"
        },
        "id": "VvEVhJklwz5j",
        "outputId": "569c2d33-0fea-46d2-ef30-c74da5ca4152"
      },
      "execution_count": null,
      "outputs": [
        {
          "output_type": "stream",
          "name": "stdout",
          "text": [
            "{(0, 'Pregnancies'): 1.7005347593582887, (1, 'Pregnancies'): 1.7740585774058577, (0, 'Glucose'): 99.59558740005171, (1, 'Glucose'): 99.49424730538045, (0, 'BloodPressure'): 72.22029360618411, (1, 'BloodPressure'): 72.08178195240627, (0, 'SkinThickness'): 23.258213279281826, (1, 'SkinThickness'): 23.296176133667206, (0, 'Insulin'): 80.78810252466387, (1, 'Insulin'): 87.15659910305864, (0, 'BMI'): 25.53060915141738, (1, 'BMI'): 25.321448302858716, (0, 'DiabetesPedigreeFunction'): 0.439619633795289, (1, 'DiabetesPedigreeFunction'): 0.4609805809819534, (0, 'Age'): 43.802895202291495, (1, 'Age'): 42.33351616763438}\n",
            "{(0, 'Pregnancies'): 1.3199633650031142, (1, 'Pregnancies'): 1.353177342747069, (0, 'Glucose'): 19.623092461994762, (1, 'Glucose'): 19.372606506033662, (0, 'BloodPressure'): 14.039340218902902, (1, 'BloodPressure'): 14.1886418580408, (0, 'SkinThickness'): 1.2054321775607932, (1, 'SkinThickness'): 1.084319996861747, (0, 'Insulin'): 75.1051105244095, (1, 'Insulin'): 75.8018191159949, (0, 'BMI'): 3.6659268709336987, (1, 'BMI'): 3.950288069094805, (0, 'DiabetesPedigreeFunction'): 0.19998709772785503, (1, 'DiabetesPedigreeFunction'): 0.19642130618335385, (0, 'Age'): 14.232275192508371, (1, 'Age'): 14.834551168251867}\n"
          ]
        }
      ]
    },
    {
      "cell_type": "markdown",
      "source": [
        "#Proses testing"
      ],
      "metadata": {
        "id": "lJpHjg18xIkO"
      }
    },
    {
      "cell_type": "code",
      "source": [
        "def testing_naive_bayes_gaussian(model,data_uji):\n",
        "  prior = model['prior']\n",
        "  rata2 = model['rata2']\n",
        "  std = model['std']\n",
        "  list_class = model['list_class']\n",
        "  list_columns = model['list_columns']\n",
        "  posterior = dict.fromkeys(list_class,1)\n",
        "  for a_class in list_class:\n",
        "    for column in list_columns:\n",
        "      posterior[a_class] = posterior[a_class]*hitung_likelihood_gaussian(data_uji[column],rata2[(a_class,column)],std[(a_class,column)])\n",
        "    posterior[a_class] = posterior[a_class] * prior[a_class]\n",
        "  kelas_uji = max(posterior,key=posterior.get)\n",
        "  return kelas_uji"
      ],
      "metadata": {
        "id": "t3rRS33WxKYS"
      },
      "execution_count": null,
      "outputs": []
    },
    {
      "cell_type": "code",
      "source": [
        "indeks_uji = 1\n",
        "prediksi = testing_naive_bayes_gaussian(model,data_uji.iloc[indeks_uji])\n",
        "print(prediksi)\n",
        "print(label_uji.iloc[indeks_uji])"
      ],
      "metadata": {
        "colab": {
          "base_uri": "https://localhost:8080/"
        },
        "id": "2Bs18NWzxL4j",
        "outputId": "7d8c52d6-2b56-4be8-b199-8caf3ce5db6d"
      },
      "execution_count": null,
      "outputs": [
        {
          "output_type": "stream",
          "name": "stdout",
          "text": [
            "0\n",
            "0\n"
          ]
        }
      ]
    },
    {
      "cell_type": "code",
      "source": [
        "prediksi_total =[]\n",
        "for indeks in range(data_uji.shape[0]):\n",
        "  prediksi_total.append(testing_naive_bayes_gaussian(model,data_uji.iloc[indeks]))\n",
        "print(\"Total prediksi benar: \",sum(prediksi_total==label_uji))"
      ],
      "metadata": {
        "colab": {
          "base_uri": "https://localhost:8080/"
        },
        "id": "E3Dr0HK2xOuv",
        "outputId": "d7110b71-98d8-440f-df69-b8d1b1142288"
      },
      "execution_count": null,
      "outputs": [
        {
          "output_type": "stream",
          "name": "stdout",
          "text": [
            "Total prediksi benar:  132\n"
          ]
        }
      ]
    },
    {
      "cell_type": "code",
      "source": [
        "print(\"Tingkat akurasi =\",(sum(prediksi_total==label_uji)/data_uji.shape[0])*100)"
      ],
      "metadata": {
        "colab": {
          "base_uri": "https://localhost:8080/"
        },
        "id": "FD7K31dq5iQn",
        "outputId": "22348caf-ca02-4352-f846-19e448ab1802"
      },
      "execution_count": null,
      "outputs": [
        {
          "output_type": "stream",
          "name": "stdout",
          "text": [
            "Tingkat akurasi = 66.0\n"
          ]
        }
      ]
    }
  ]
}