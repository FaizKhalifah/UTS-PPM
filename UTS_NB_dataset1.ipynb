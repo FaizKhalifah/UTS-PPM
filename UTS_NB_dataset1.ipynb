{
  "nbformat": 4,
  "nbformat_minor": 0,
  "metadata": {
    "colab": {
      "provenance": [],
      "authorship_tag": "ABX9TyON2IFVQ0kJ8MS8XsCSpCY5",
      "include_colab_link": true
    },
    "kernelspec": {
      "name": "python3",
      "display_name": "Python 3"
    },
    "language_info": {
      "name": "python"
    }
  },
  "cells": [
    {
      "cell_type": "markdown",
      "metadata": {
        "id": "view-in-github",
        "colab_type": "text"
      },
      "source": [
        "<a href=\"https://colab.research.google.com/github/FaizKhalifah/UTS-PPM/blob/dataset1/UTS_NB_dataset1.ipynb\" target=\"_parent\"><img src=\"https://colab.research.google.com/assets/colab-badge.svg\" alt=\"Open In Colab\"/></a>"
      ]
    },
    {
      "cell_type": "markdown",
      "source": [
        "# Meng-import dataset"
      ],
      "metadata": {
        "id": "YXcrCUcdsAOW"
      }
    },
    {
      "cell_type": "code",
      "execution_count": 45,
      "metadata": {
        "colab": {
          "base_uri": "https://localhost:8080/",
          "height": 74
        },
        "id": "ZX2j6RJ4i3NY",
        "outputId": "66040db2-187c-4b6d-9425-60370fe73899"
      },
      "outputs": [
        {
          "output_type": "display_data",
          "data": {
            "text/plain": [
              "<IPython.core.display.HTML object>"
            ],
            "text/html": [
              "\n",
              "     <input type=\"file\" id=\"files-a0a5aca0-a011-4fa6-b3fe-4983670a8301\" name=\"files[]\" multiple disabled\n",
              "        style=\"border:none\" />\n",
              "     <output id=\"result-a0a5aca0-a011-4fa6-b3fe-4983670a8301\">\n",
              "      Upload widget is only available when the cell has been executed in the\n",
              "      current browser session. Please rerun this cell to enable.\n",
              "      </output>\n",
              "      <script>// Copyright 2017 Google LLC\n",
              "//\n",
              "// Licensed under the Apache License, Version 2.0 (the \"License\");\n",
              "// you may not use this file except in compliance with the License.\n",
              "// You may obtain a copy of the License at\n",
              "//\n",
              "//      http://www.apache.org/licenses/LICENSE-2.0\n",
              "//\n",
              "// Unless required by applicable law or agreed to in writing, software\n",
              "// distributed under the License is distributed on an \"AS IS\" BASIS,\n",
              "// WITHOUT WARRANTIES OR CONDITIONS OF ANY KIND, either express or implied.\n",
              "// See the License for the specific language governing permissions and\n",
              "// limitations under the License.\n",
              "\n",
              "/**\n",
              " * @fileoverview Helpers for google.colab Python module.\n",
              " */\n",
              "(function(scope) {\n",
              "function span(text, styleAttributes = {}) {\n",
              "  const element = document.createElement('span');\n",
              "  element.textContent = text;\n",
              "  for (const key of Object.keys(styleAttributes)) {\n",
              "    element.style[key] = styleAttributes[key];\n",
              "  }\n",
              "  return element;\n",
              "}\n",
              "\n",
              "// Max number of bytes which will be uploaded at a time.\n",
              "const MAX_PAYLOAD_SIZE = 100 * 1024;\n",
              "\n",
              "function _uploadFiles(inputId, outputId) {\n",
              "  const steps = uploadFilesStep(inputId, outputId);\n",
              "  const outputElement = document.getElementById(outputId);\n",
              "  // Cache steps on the outputElement to make it available for the next call\n",
              "  // to uploadFilesContinue from Python.\n",
              "  outputElement.steps = steps;\n",
              "\n",
              "  return _uploadFilesContinue(outputId);\n",
              "}\n",
              "\n",
              "// This is roughly an async generator (not supported in the browser yet),\n",
              "// where there are multiple asynchronous steps and the Python side is going\n",
              "// to poll for completion of each step.\n",
              "// This uses a Promise to block the python side on completion of each step,\n",
              "// then passes the result of the previous step as the input to the next step.\n",
              "function _uploadFilesContinue(outputId) {\n",
              "  const outputElement = document.getElementById(outputId);\n",
              "  const steps = outputElement.steps;\n",
              "\n",
              "  const next = steps.next(outputElement.lastPromiseValue);\n",
              "  return Promise.resolve(next.value.promise).then((value) => {\n",
              "    // Cache the last promise value to make it available to the next\n",
              "    // step of the generator.\n",
              "    outputElement.lastPromiseValue = value;\n",
              "    return next.value.response;\n",
              "  });\n",
              "}\n",
              "\n",
              "/**\n",
              " * Generator function which is called between each async step of the upload\n",
              " * process.\n",
              " * @param {string} inputId Element ID of the input file picker element.\n",
              " * @param {string} outputId Element ID of the output display.\n",
              " * @return {!Iterable<!Object>} Iterable of next steps.\n",
              " */\n",
              "function* uploadFilesStep(inputId, outputId) {\n",
              "  const inputElement = document.getElementById(inputId);\n",
              "  inputElement.disabled = false;\n",
              "\n",
              "  const outputElement = document.getElementById(outputId);\n",
              "  outputElement.innerHTML = '';\n",
              "\n",
              "  const pickedPromise = new Promise((resolve) => {\n",
              "    inputElement.addEventListener('change', (e) => {\n",
              "      resolve(e.target.files);\n",
              "    });\n",
              "  });\n",
              "\n",
              "  const cancel = document.createElement('button');\n",
              "  inputElement.parentElement.appendChild(cancel);\n",
              "  cancel.textContent = 'Cancel upload';\n",
              "  const cancelPromise = new Promise((resolve) => {\n",
              "    cancel.onclick = () => {\n",
              "      resolve(null);\n",
              "    };\n",
              "  });\n",
              "\n",
              "  // Wait for the user to pick the files.\n",
              "  const files = yield {\n",
              "    promise: Promise.race([pickedPromise, cancelPromise]),\n",
              "    response: {\n",
              "      action: 'starting',\n",
              "    }\n",
              "  };\n",
              "\n",
              "  cancel.remove();\n",
              "\n",
              "  // Disable the input element since further picks are not allowed.\n",
              "  inputElement.disabled = true;\n",
              "\n",
              "  if (!files) {\n",
              "    return {\n",
              "      response: {\n",
              "        action: 'complete',\n",
              "      }\n",
              "    };\n",
              "  }\n",
              "\n",
              "  for (const file of files) {\n",
              "    const li = document.createElement('li');\n",
              "    li.append(span(file.name, {fontWeight: 'bold'}));\n",
              "    li.append(span(\n",
              "        `(${file.type || 'n/a'}) - ${file.size} bytes, ` +\n",
              "        `last modified: ${\n",
              "            file.lastModifiedDate ? file.lastModifiedDate.toLocaleDateString() :\n",
              "                                    'n/a'} - `));\n",
              "    const percent = span('0% done');\n",
              "    li.appendChild(percent);\n",
              "\n",
              "    outputElement.appendChild(li);\n",
              "\n",
              "    const fileDataPromise = new Promise((resolve) => {\n",
              "      const reader = new FileReader();\n",
              "      reader.onload = (e) => {\n",
              "        resolve(e.target.result);\n",
              "      };\n",
              "      reader.readAsArrayBuffer(file);\n",
              "    });\n",
              "    // Wait for the data to be ready.\n",
              "    let fileData = yield {\n",
              "      promise: fileDataPromise,\n",
              "      response: {\n",
              "        action: 'continue',\n",
              "      }\n",
              "    };\n",
              "\n",
              "    // Use a chunked sending to avoid message size limits. See b/62115660.\n",
              "    let position = 0;\n",
              "    do {\n",
              "      const length = Math.min(fileData.byteLength - position, MAX_PAYLOAD_SIZE);\n",
              "      const chunk = new Uint8Array(fileData, position, length);\n",
              "      position += length;\n",
              "\n",
              "      const base64 = btoa(String.fromCharCode.apply(null, chunk));\n",
              "      yield {\n",
              "        response: {\n",
              "          action: 'append',\n",
              "          file: file.name,\n",
              "          data: base64,\n",
              "        },\n",
              "      };\n",
              "\n",
              "      let percentDone = fileData.byteLength === 0 ?\n",
              "          100 :\n",
              "          Math.round((position / fileData.byteLength) * 100);\n",
              "      percent.textContent = `${percentDone}% done`;\n",
              "\n",
              "    } while (position < fileData.byteLength);\n",
              "  }\n",
              "\n",
              "  // All done.\n",
              "  yield {\n",
              "    response: {\n",
              "      action: 'complete',\n",
              "    }\n",
              "  };\n",
              "}\n",
              "\n",
              "scope.google = scope.google || {};\n",
              "scope.google.colab = scope.google.colab || {};\n",
              "scope.google.colab._files = {\n",
              "  _uploadFiles,\n",
              "  _uploadFilesContinue,\n",
              "};\n",
              "})(self);\n",
              "</script> "
            ]
          },
          "metadata": {}
        },
        {
          "output_type": "stream",
          "name": "stdout",
          "text": [
            "Saving heart.csv to heart (1).csv\n"
          ]
        }
      ],
      "source": [
        "from google.colab import files\n",
        "#heart.csv\n",
        "\n",
        "upload = files.upload()"
      ]
    },
    {
      "cell_type": "code",
      "source": [
        "import pandas as pd\n",
        "import numpy as np\n",
        "data = pd.read_csv('heart.csv')"
      ],
      "metadata": {
        "id": "HkqdXpr2roY7"
      },
      "execution_count": 46,
      "outputs": []
    },
    {
      "cell_type": "code",
      "source": [
        "data.head()"
      ],
      "metadata": {
        "colab": {
          "base_uri": "https://localhost:8080/",
          "height": 206
        },
        "id": "UwSYotuUrsPd",
        "outputId": "b21dd68d-4bc8-4aba-94f3-96a8ee266e86"
      },
      "execution_count": 47,
      "outputs": [
        {
          "output_type": "execute_result",
          "data": {
            "text/plain": [
              "   age  sex  cp  trestbps  chol  fbs  restecg  thalach  exang  oldpeak  slope  \\\n",
              "0   63    1   3       145   233    1        0      150      0      2.3      0   \n",
              "1   37    1   2       130   250    0        1      187      0      3.5      0   \n",
              "2   41    0   1       130   204    0        0      172      0      1.4      2   \n",
              "3   56    1   1       120   236    0        1      178      0      0.8      2   \n",
              "4   57    0   0       120   354    0        1      163      1      0.6      2   \n",
              "\n",
              "   ca  thal  target  \n",
              "0   0     1       1  \n",
              "1   0     2       1  \n",
              "2   0     2       1  \n",
              "3   0     2       1  \n",
              "4   0     2       1  "
            ],
            "text/html": [
              "\n",
              "  <div id=\"df-7b9bb60e-393c-4058-808a-d7a7bac1400f\" class=\"colab-df-container\">\n",
              "    <div>\n",
              "<style scoped>\n",
              "    .dataframe tbody tr th:only-of-type {\n",
              "        vertical-align: middle;\n",
              "    }\n",
              "\n",
              "    .dataframe tbody tr th {\n",
              "        vertical-align: top;\n",
              "    }\n",
              "\n",
              "    .dataframe thead th {\n",
              "        text-align: right;\n",
              "    }\n",
              "</style>\n",
              "<table border=\"1\" class=\"dataframe\">\n",
              "  <thead>\n",
              "    <tr style=\"text-align: right;\">\n",
              "      <th></th>\n",
              "      <th>age</th>\n",
              "      <th>sex</th>\n",
              "      <th>cp</th>\n",
              "      <th>trestbps</th>\n",
              "      <th>chol</th>\n",
              "      <th>fbs</th>\n",
              "      <th>restecg</th>\n",
              "      <th>thalach</th>\n",
              "      <th>exang</th>\n",
              "      <th>oldpeak</th>\n",
              "      <th>slope</th>\n",
              "      <th>ca</th>\n",
              "      <th>thal</th>\n",
              "      <th>target</th>\n",
              "    </tr>\n",
              "  </thead>\n",
              "  <tbody>\n",
              "    <tr>\n",
              "      <th>0</th>\n",
              "      <td>63</td>\n",
              "      <td>1</td>\n",
              "      <td>3</td>\n",
              "      <td>145</td>\n",
              "      <td>233</td>\n",
              "      <td>1</td>\n",
              "      <td>0</td>\n",
              "      <td>150</td>\n",
              "      <td>0</td>\n",
              "      <td>2.3</td>\n",
              "      <td>0</td>\n",
              "      <td>0</td>\n",
              "      <td>1</td>\n",
              "      <td>1</td>\n",
              "    </tr>\n",
              "    <tr>\n",
              "      <th>1</th>\n",
              "      <td>37</td>\n",
              "      <td>1</td>\n",
              "      <td>2</td>\n",
              "      <td>130</td>\n",
              "      <td>250</td>\n",
              "      <td>0</td>\n",
              "      <td>1</td>\n",
              "      <td>187</td>\n",
              "      <td>0</td>\n",
              "      <td>3.5</td>\n",
              "      <td>0</td>\n",
              "      <td>0</td>\n",
              "      <td>2</td>\n",
              "      <td>1</td>\n",
              "    </tr>\n",
              "    <tr>\n",
              "      <th>2</th>\n",
              "      <td>41</td>\n",
              "      <td>0</td>\n",
              "      <td>1</td>\n",
              "      <td>130</td>\n",
              "      <td>204</td>\n",
              "      <td>0</td>\n",
              "      <td>0</td>\n",
              "      <td>172</td>\n",
              "      <td>0</td>\n",
              "      <td>1.4</td>\n",
              "      <td>2</td>\n",
              "      <td>0</td>\n",
              "      <td>2</td>\n",
              "      <td>1</td>\n",
              "    </tr>\n",
              "    <tr>\n",
              "      <th>3</th>\n",
              "      <td>56</td>\n",
              "      <td>1</td>\n",
              "      <td>1</td>\n",
              "      <td>120</td>\n",
              "      <td>236</td>\n",
              "      <td>0</td>\n",
              "      <td>1</td>\n",
              "      <td>178</td>\n",
              "      <td>0</td>\n",
              "      <td>0.8</td>\n",
              "      <td>2</td>\n",
              "      <td>0</td>\n",
              "      <td>2</td>\n",
              "      <td>1</td>\n",
              "    </tr>\n",
              "    <tr>\n",
              "      <th>4</th>\n",
              "      <td>57</td>\n",
              "      <td>0</td>\n",
              "      <td>0</td>\n",
              "      <td>120</td>\n",
              "      <td>354</td>\n",
              "      <td>0</td>\n",
              "      <td>1</td>\n",
              "      <td>163</td>\n",
              "      <td>1</td>\n",
              "      <td>0.6</td>\n",
              "      <td>2</td>\n",
              "      <td>0</td>\n",
              "      <td>2</td>\n",
              "      <td>1</td>\n",
              "    </tr>\n",
              "  </tbody>\n",
              "</table>\n",
              "</div>\n",
              "    <div class=\"colab-df-buttons\">\n",
              "\n",
              "  <div class=\"colab-df-container\">\n",
              "    <button class=\"colab-df-convert\" onclick=\"convertToInteractive('df-7b9bb60e-393c-4058-808a-d7a7bac1400f')\"\n",
              "            title=\"Convert this dataframe to an interactive table.\"\n",
              "            style=\"display:none;\">\n",
              "\n",
              "  <svg xmlns=\"http://www.w3.org/2000/svg\" height=\"24px\" viewBox=\"0 -960 960 960\">\n",
              "    <path d=\"M120-120v-720h720v720H120Zm60-500h600v-160H180v160Zm220 220h160v-160H400v160Zm0 220h160v-160H400v160ZM180-400h160v-160H180v160Zm440 0h160v-160H620v160ZM180-180h160v-160H180v160Zm440 0h160v-160H620v160Z\"/>\n",
              "  </svg>\n",
              "    </button>\n",
              "\n",
              "  <style>\n",
              "    .colab-df-container {\n",
              "      display:flex;\n",
              "      gap: 12px;\n",
              "    }\n",
              "\n",
              "    .colab-df-convert {\n",
              "      background-color: #E8F0FE;\n",
              "      border: none;\n",
              "      border-radius: 50%;\n",
              "      cursor: pointer;\n",
              "      display: none;\n",
              "      fill: #1967D2;\n",
              "      height: 32px;\n",
              "      padding: 0 0 0 0;\n",
              "      width: 32px;\n",
              "    }\n",
              "\n",
              "    .colab-df-convert:hover {\n",
              "      background-color: #E2EBFA;\n",
              "      box-shadow: 0px 1px 2px rgba(60, 64, 67, 0.3), 0px 1px 3px 1px rgba(60, 64, 67, 0.15);\n",
              "      fill: #174EA6;\n",
              "    }\n",
              "\n",
              "    .colab-df-buttons div {\n",
              "      margin-bottom: 4px;\n",
              "    }\n",
              "\n",
              "    [theme=dark] .colab-df-convert {\n",
              "      background-color: #3B4455;\n",
              "      fill: #D2E3FC;\n",
              "    }\n",
              "\n",
              "    [theme=dark] .colab-df-convert:hover {\n",
              "      background-color: #434B5C;\n",
              "      box-shadow: 0px 1px 3px 1px rgba(0, 0, 0, 0.15);\n",
              "      filter: drop-shadow(0px 1px 2px rgba(0, 0, 0, 0.3));\n",
              "      fill: #FFFFFF;\n",
              "    }\n",
              "  </style>\n",
              "\n",
              "    <script>\n",
              "      const buttonEl =\n",
              "        document.querySelector('#df-7b9bb60e-393c-4058-808a-d7a7bac1400f button.colab-df-convert');\n",
              "      buttonEl.style.display =\n",
              "        google.colab.kernel.accessAllowed ? 'block' : 'none';\n",
              "\n",
              "      async function convertToInteractive(key) {\n",
              "        const element = document.querySelector('#df-7b9bb60e-393c-4058-808a-d7a7bac1400f');\n",
              "        const dataTable =\n",
              "          await google.colab.kernel.invokeFunction('convertToInteractive',\n",
              "                                                    [key], {});\n",
              "        if (!dataTable) return;\n",
              "\n",
              "        const docLinkHtml = 'Like what you see? Visit the ' +\n",
              "          '<a target=\"_blank\" href=https://colab.research.google.com/notebooks/data_table.ipynb>data table notebook</a>'\n",
              "          + ' to learn more about interactive tables.';\n",
              "        element.innerHTML = '';\n",
              "        dataTable['output_type'] = 'display_data';\n",
              "        await google.colab.output.renderOutput(dataTable, element);\n",
              "        const docLink = document.createElement('div');\n",
              "        docLink.innerHTML = docLinkHtml;\n",
              "        element.appendChild(docLink);\n",
              "      }\n",
              "    </script>\n",
              "  </div>\n",
              "\n",
              "\n",
              "<div id=\"df-70303781-62c7-4f96-8c64-05d2898feab3\">\n",
              "  <button class=\"colab-df-quickchart\" onclick=\"quickchart('df-70303781-62c7-4f96-8c64-05d2898feab3')\"\n",
              "            title=\"Suggest charts\"\n",
              "            style=\"display:none;\">\n",
              "\n",
              "<svg xmlns=\"http://www.w3.org/2000/svg\" height=\"24px\"viewBox=\"0 0 24 24\"\n",
              "     width=\"24px\">\n",
              "    <g>\n",
              "        <path d=\"M19 3H5c-1.1 0-2 .9-2 2v14c0 1.1.9 2 2 2h14c1.1 0 2-.9 2-2V5c0-1.1-.9-2-2-2zM9 17H7v-7h2v7zm4 0h-2V7h2v10zm4 0h-2v-4h2v4z\"/>\n",
              "    </g>\n",
              "</svg>\n",
              "  </button>\n",
              "\n",
              "<style>\n",
              "  .colab-df-quickchart {\n",
              "      --bg-color: #E8F0FE;\n",
              "      --fill-color: #1967D2;\n",
              "      --hover-bg-color: #E2EBFA;\n",
              "      --hover-fill-color: #174EA6;\n",
              "      --disabled-fill-color: #AAA;\n",
              "      --disabled-bg-color: #DDD;\n",
              "  }\n",
              "\n",
              "  [theme=dark] .colab-df-quickchart {\n",
              "      --bg-color: #3B4455;\n",
              "      --fill-color: #D2E3FC;\n",
              "      --hover-bg-color: #434B5C;\n",
              "      --hover-fill-color: #FFFFFF;\n",
              "      --disabled-bg-color: #3B4455;\n",
              "      --disabled-fill-color: #666;\n",
              "  }\n",
              "\n",
              "  .colab-df-quickchart {\n",
              "    background-color: var(--bg-color);\n",
              "    border: none;\n",
              "    border-radius: 50%;\n",
              "    cursor: pointer;\n",
              "    display: none;\n",
              "    fill: var(--fill-color);\n",
              "    height: 32px;\n",
              "    padding: 0;\n",
              "    width: 32px;\n",
              "  }\n",
              "\n",
              "  .colab-df-quickchart:hover {\n",
              "    background-color: var(--hover-bg-color);\n",
              "    box-shadow: 0 1px 2px rgba(60, 64, 67, 0.3), 0 1px 3px 1px rgba(60, 64, 67, 0.15);\n",
              "    fill: var(--button-hover-fill-color);\n",
              "  }\n",
              "\n",
              "  .colab-df-quickchart-complete:disabled,\n",
              "  .colab-df-quickchart-complete:disabled:hover {\n",
              "    background-color: var(--disabled-bg-color);\n",
              "    fill: var(--disabled-fill-color);\n",
              "    box-shadow: none;\n",
              "  }\n",
              "\n",
              "  .colab-df-spinner {\n",
              "    border: 2px solid var(--fill-color);\n",
              "    border-color: transparent;\n",
              "    border-bottom-color: var(--fill-color);\n",
              "    animation:\n",
              "      spin 1s steps(1) infinite;\n",
              "  }\n",
              "\n",
              "  @keyframes spin {\n",
              "    0% {\n",
              "      border-color: transparent;\n",
              "      border-bottom-color: var(--fill-color);\n",
              "      border-left-color: var(--fill-color);\n",
              "    }\n",
              "    20% {\n",
              "      border-color: transparent;\n",
              "      border-left-color: var(--fill-color);\n",
              "      border-top-color: var(--fill-color);\n",
              "    }\n",
              "    30% {\n",
              "      border-color: transparent;\n",
              "      border-left-color: var(--fill-color);\n",
              "      border-top-color: var(--fill-color);\n",
              "      border-right-color: var(--fill-color);\n",
              "    }\n",
              "    40% {\n",
              "      border-color: transparent;\n",
              "      border-right-color: var(--fill-color);\n",
              "      border-top-color: var(--fill-color);\n",
              "    }\n",
              "    60% {\n",
              "      border-color: transparent;\n",
              "      border-right-color: var(--fill-color);\n",
              "    }\n",
              "    80% {\n",
              "      border-color: transparent;\n",
              "      border-right-color: var(--fill-color);\n",
              "      border-bottom-color: var(--fill-color);\n",
              "    }\n",
              "    90% {\n",
              "      border-color: transparent;\n",
              "      border-bottom-color: var(--fill-color);\n",
              "    }\n",
              "  }\n",
              "</style>\n",
              "\n",
              "  <script>\n",
              "    async function quickchart(key) {\n",
              "      const quickchartButtonEl =\n",
              "        document.querySelector('#' + key + ' button');\n",
              "      quickchartButtonEl.disabled = true;  // To prevent multiple clicks.\n",
              "      quickchartButtonEl.classList.add('colab-df-spinner');\n",
              "      try {\n",
              "        const charts = await google.colab.kernel.invokeFunction(\n",
              "            'suggestCharts', [key], {});\n",
              "      } catch (error) {\n",
              "        console.error('Error during call to suggestCharts:', error);\n",
              "      }\n",
              "      quickchartButtonEl.classList.remove('colab-df-spinner');\n",
              "      quickchartButtonEl.classList.add('colab-df-quickchart-complete');\n",
              "    }\n",
              "    (() => {\n",
              "      let quickchartButtonEl =\n",
              "        document.querySelector('#df-70303781-62c7-4f96-8c64-05d2898feab3 button');\n",
              "      quickchartButtonEl.style.display =\n",
              "        google.colab.kernel.accessAllowed ? 'block' : 'none';\n",
              "    })();\n",
              "  </script>\n",
              "</div>\n",
              "    </div>\n",
              "  </div>\n"
            ],
            "application/vnd.google.colaboratory.intrinsic+json": {
              "type": "dataframe",
              "variable_name": "data",
              "summary": "{\n  \"name\": \"data\",\n  \"rows\": 303,\n  \"fields\": [\n    {\n      \"column\": \"age\",\n      \"properties\": {\n        \"dtype\": \"number\",\n        \"std\": 9,\n        \"min\": 29,\n        \"max\": 77,\n        \"num_unique_values\": 41,\n        \"samples\": [\n          46,\n          66,\n          48\n        ],\n        \"semantic_type\": \"\",\n        \"description\": \"\"\n      }\n    },\n    {\n      \"column\": \"sex\",\n      \"properties\": {\n        \"dtype\": \"number\",\n        \"std\": 0,\n        \"min\": 0,\n        \"max\": 1,\n        \"num_unique_values\": 2,\n        \"samples\": [\n          0,\n          1\n        ],\n        \"semantic_type\": \"\",\n        \"description\": \"\"\n      }\n    },\n    {\n      \"column\": \"cp\",\n      \"properties\": {\n        \"dtype\": \"number\",\n        \"std\": 1,\n        \"min\": 0,\n        \"max\": 3,\n        \"num_unique_values\": 4,\n        \"samples\": [\n          2,\n          0\n        ],\n        \"semantic_type\": \"\",\n        \"description\": \"\"\n      }\n    },\n    {\n      \"column\": \"trestbps\",\n      \"properties\": {\n        \"dtype\": \"number\",\n        \"std\": 17,\n        \"min\": 94,\n        \"max\": 200,\n        \"num_unique_values\": 49,\n        \"samples\": [\n          104,\n          123\n        ],\n        \"semantic_type\": \"\",\n        \"description\": \"\"\n      }\n    },\n    {\n      \"column\": \"chol\",\n      \"properties\": {\n        \"dtype\": \"number\",\n        \"std\": 51,\n        \"min\": 126,\n        \"max\": 564,\n        \"num_unique_values\": 152,\n        \"samples\": [\n          277,\n          169\n        ],\n        \"semantic_type\": \"\",\n        \"description\": \"\"\n      }\n    },\n    {\n      \"column\": \"fbs\",\n      \"properties\": {\n        \"dtype\": \"number\",\n        \"std\": 0,\n        \"min\": 0,\n        \"max\": 1,\n        \"num_unique_values\": 2,\n        \"samples\": [\n          0,\n          1\n        ],\n        \"semantic_type\": \"\",\n        \"description\": \"\"\n      }\n    },\n    {\n      \"column\": \"restecg\",\n      \"properties\": {\n        \"dtype\": \"number\",\n        \"std\": 0,\n        \"min\": 0,\n        \"max\": 2,\n        \"num_unique_values\": 3,\n        \"samples\": [\n          0,\n          1\n        ],\n        \"semantic_type\": \"\",\n        \"description\": \"\"\n      }\n    },\n    {\n      \"column\": \"thalach\",\n      \"properties\": {\n        \"dtype\": \"number\",\n        \"std\": 22,\n        \"min\": 71,\n        \"max\": 202,\n        \"num_unique_values\": 91,\n        \"samples\": [\n          159,\n          152\n        ],\n        \"semantic_type\": \"\",\n        \"description\": \"\"\n      }\n    },\n    {\n      \"column\": \"exang\",\n      \"properties\": {\n        \"dtype\": \"number\",\n        \"std\": 0,\n        \"min\": 0,\n        \"max\": 1,\n        \"num_unique_values\": 2,\n        \"samples\": [\n          1,\n          0\n        ],\n        \"semantic_type\": \"\",\n        \"description\": \"\"\n      }\n    },\n    {\n      \"column\": \"oldpeak\",\n      \"properties\": {\n        \"dtype\": \"number\",\n        \"std\": 1.1610750220686348,\n        \"min\": 0.0,\n        \"max\": 6.2,\n        \"num_unique_values\": 40,\n        \"samples\": [\n          1.9,\n          3.0\n        ],\n        \"semantic_type\": \"\",\n        \"description\": \"\"\n      }\n    },\n    {\n      \"column\": \"slope\",\n      \"properties\": {\n        \"dtype\": \"number\",\n        \"std\": 0,\n        \"min\": 0,\n        \"max\": 2,\n        \"num_unique_values\": 3,\n        \"samples\": [\n          0,\n          2\n        ],\n        \"semantic_type\": \"\",\n        \"description\": \"\"\n      }\n    },\n    {\n      \"column\": \"ca\",\n      \"properties\": {\n        \"dtype\": \"number\",\n        \"std\": 1,\n        \"min\": 0,\n        \"max\": 4,\n        \"num_unique_values\": 5,\n        \"samples\": [\n          2,\n          4\n        ],\n        \"semantic_type\": \"\",\n        \"description\": \"\"\n      }\n    },\n    {\n      \"column\": \"thal\",\n      \"properties\": {\n        \"dtype\": \"number\",\n        \"std\": 0,\n        \"min\": 0,\n        \"max\": 3,\n        \"num_unique_values\": 4,\n        \"samples\": [\n          2,\n          0\n        ],\n        \"semantic_type\": \"\",\n        \"description\": \"\"\n      }\n    },\n    {\n      \"column\": \"target\",\n      \"properties\": {\n        \"dtype\": \"number\",\n        \"std\": 0,\n        \"min\": 0,\n        \"max\": 1,\n        \"num_unique_values\": 2,\n        \"samples\": [\n          0,\n          1\n        ],\n        \"semantic_type\": \"\",\n        \"description\": \"\"\n      }\n    }\n  ]\n}"
            }
          },
          "metadata": {},
          "execution_count": 47
        }
      ]
    },
    {
      "cell_type": "markdown",
      "source": [
        "# Membagi dataset menjadi data latih dan data uji"
      ],
      "metadata": {
        "id": "oYCA36V3sF7-"
      }
    },
    {
      "cell_type": "code",
      "source": [
        "from sklearn.model_selection import train_test_split\n",
        "data_latih,data_uji = train_test_split(data,test_size=0.2)"
      ],
      "metadata": {
        "id": "YhjZ0iWVrynK"
      },
      "execution_count": 48,
      "outputs": []
    },
    {
      "cell_type": "code",
      "source": [
        "print(data_uji.shape[0])\n",
        "print(data_latih.shape[0])"
      ],
      "metadata": {
        "colab": {
          "base_uri": "https://localhost:8080/"
        },
        "id": "jbd9wZpMsJmv",
        "outputId": "e30c869f-7d95-4919-aa20-0918e6f7ca99"
      },
      "execution_count": 49,
      "outputs": [
        {
          "output_type": "stream",
          "name": "stdout",
          "text": [
            "61\n",
            "242\n"
          ]
        }
      ]
    },
    {
      "cell_type": "code",
      "source": [
        "label_uji = data_uji.pop('target')\n",
        "label_uji"
      ],
      "metadata": {
        "colab": {
          "base_uri": "https://localhost:8080/"
        },
        "id": "ZVP0XtR0sRgH",
        "outputId": "2b468643-dc35-4158-9e3e-96d20d7f6169"
      },
      "execution_count": 50,
      "outputs": [
        {
          "output_type": "execute_result",
          "data": {
            "text/plain": [
              "209    0\n",
              "94     1\n",
              "237    0\n",
              "220    0\n",
              "56     1\n",
              "      ..\n",
              "248    0\n",
              "123    1\n",
              "10     1\n",
              "13     1\n",
              "200    0\n",
              "Name: target, Length: 61, dtype: int64"
            ]
          },
          "metadata": {},
          "execution_count": 50
        }
      ]
    },
    {
      "cell_type": "code",
      "source": [
        "data_uji.head()"
      ],
      "metadata": {
        "colab": {
          "base_uri": "https://localhost:8080/",
          "height": 206
        },
        "id": "4ir4nbxosWPu",
        "outputId": "a101f2ce-03c9-4364-ad5b-c7593b535e5b"
      },
      "execution_count": 51,
      "outputs": [
        {
          "output_type": "execute_result",
          "data": {
            "text/plain": [
              "     age  sex  cp  trestbps  chol  fbs  restecg  thalach  exang  oldpeak  \\\n",
              "209   59    1   0       140   177    0        1      162      1      0.0   \n",
              "94    45    0   1       112   160    0        1      138      0      0.0   \n",
              "237   60    1   0       140   293    0        0      170      0      1.2   \n",
              "220   63    0   0       150   407    0        0      154      0      4.0   \n",
              "56    48    1   0       122   222    0        0      186      0      0.0   \n",
              "\n",
              "     slope  ca  thal  \n",
              "209      2   1     3  \n",
              "94       1   0     2  \n",
              "237      1   2     3  \n",
              "220      1   3     3  \n",
              "56       2   0     2  "
            ],
            "text/html": [
              "\n",
              "  <div id=\"df-31bb9ea0-73b0-4dc1-aa45-afcb3c9abf38\" class=\"colab-df-container\">\n",
              "    <div>\n",
              "<style scoped>\n",
              "    .dataframe tbody tr th:only-of-type {\n",
              "        vertical-align: middle;\n",
              "    }\n",
              "\n",
              "    .dataframe tbody tr th {\n",
              "        vertical-align: top;\n",
              "    }\n",
              "\n",
              "    .dataframe thead th {\n",
              "        text-align: right;\n",
              "    }\n",
              "</style>\n",
              "<table border=\"1\" class=\"dataframe\">\n",
              "  <thead>\n",
              "    <tr style=\"text-align: right;\">\n",
              "      <th></th>\n",
              "      <th>age</th>\n",
              "      <th>sex</th>\n",
              "      <th>cp</th>\n",
              "      <th>trestbps</th>\n",
              "      <th>chol</th>\n",
              "      <th>fbs</th>\n",
              "      <th>restecg</th>\n",
              "      <th>thalach</th>\n",
              "      <th>exang</th>\n",
              "      <th>oldpeak</th>\n",
              "      <th>slope</th>\n",
              "      <th>ca</th>\n",
              "      <th>thal</th>\n",
              "    </tr>\n",
              "  </thead>\n",
              "  <tbody>\n",
              "    <tr>\n",
              "      <th>209</th>\n",
              "      <td>59</td>\n",
              "      <td>1</td>\n",
              "      <td>0</td>\n",
              "      <td>140</td>\n",
              "      <td>177</td>\n",
              "      <td>0</td>\n",
              "      <td>1</td>\n",
              "      <td>162</td>\n",
              "      <td>1</td>\n",
              "      <td>0.0</td>\n",
              "      <td>2</td>\n",
              "      <td>1</td>\n",
              "      <td>3</td>\n",
              "    </tr>\n",
              "    <tr>\n",
              "      <th>94</th>\n",
              "      <td>45</td>\n",
              "      <td>0</td>\n",
              "      <td>1</td>\n",
              "      <td>112</td>\n",
              "      <td>160</td>\n",
              "      <td>0</td>\n",
              "      <td>1</td>\n",
              "      <td>138</td>\n",
              "      <td>0</td>\n",
              "      <td>0.0</td>\n",
              "      <td>1</td>\n",
              "      <td>0</td>\n",
              "      <td>2</td>\n",
              "    </tr>\n",
              "    <tr>\n",
              "      <th>237</th>\n",
              "      <td>60</td>\n",
              "      <td>1</td>\n",
              "      <td>0</td>\n",
              "      <td>140</td>\n",
              "      <td>293</td>\n",
              "      <td>0</td>\n",
              "      <td>0</td>\n",
              "      <td>170</td>\n",
              "      <td>0</td>\n",
              "      <td>1.2</td>\n",
              "      <td>1</td>\n",
              "      <td>2</td>\n",
              "      <td>3</td>\n",
              "    </tr>\n",
              "    <tr>\n",
              "      <th>220</th>\n",
              "      <td>63</td>\n",
              "      <td>0</td>\n",
              "      <td>0</td>\n",
              "      <td>150</td>\n",
              "      <td>407</td>\n",
              "      <td>0</td>\n",
              "      <td>0</td>\n",
              "      <td>154</td>\n",
              "      <td>0</td>\n",
              "      <td>4.0</td>\n",
              "      <td>1</td>\n",
              "      <td>3</td>\n",
              "      <td>3</td>\n",
              "    </tr>\n",
              "    <tr>\n",
              "      <th>56</th>\n",
              "      <td>48</td>\n",
              "      <td>1</td>\n",
              "      <td>0</td>\n",
              "      <td>122</td>\n",
              "      <td>222</td>\n",
              "      <td>0</td>\n",
              "      <td>0</td>\n",
              "      <td>186</td>\n",
              "      <td>0</td>\n",
              "      <td>0.0</td>\n",
              "      <td>2</td>\n",
              "      <td>0</td>\n",
              "      <td>2</td>\n",
              "    </tr>\n",
              "  </tbody>\n",
              "</table>\n",
              "</div>\n",
              "    <div class=\"colab-df-buttons\">\n",
              "\n",
              "  <div class=\"colab-df-container\">\n",
              "    <button class=\"colab-df-convert\" onclick=\"convertToInteractive('df-31bb9ea0-73b0-4dc1-aa45-afcb3c9abf38')\"\n",
              "            title=\"Convert this dataframe to an interactive table.\"\n",
              "            style=\"display:none;\">\n",
              "\n",
              "  <svg xmlns=\"http://www.w3.org/2000/svg\" height=\"24px\" viewBox=\"0 -960 960 960\">\n",
              "    <path d=\"M120-120v-720h720v720H120Zm60-500h600v-160H180v160Zm220 220h160v-160H400v160Zm0 220h160v-160H400v160ZM180-400h160v-160H180v160Zm440 0h160v-160H620v160ZM180-180h160v-160H180v160Zm440 0h160v-160H620v160Z\"/>\n",
              "  </svg>\n",
              "    </button>\n",
              "\n",
              "  <style>\n",
              "    .colab-df-container {\n",
              "      display:flex;\n",
              "      gap: 12px;\n",
              "    }\n",
              "\n",
              "    .colab-df-convert {\n",
              "      background-color: #E8F0FE;\n",
              "      border: none;\n",
              "      border-radius: 50%;\n",
              "      cursor: pointer;\n",
              "      display: none;\n",
              "      fill: #1967D2;\n",
              "      height: 32px;\n",
              "      padding: 0 0 0 0;\n",
              "      width: 32px;\n",
              "    }\n",
              "\n",
              "    .colab-df-convert:hover {\n",
              "      background-color: #E2EBFA;\n",
              "      box-shadow: 0px 1px 2px rgba(60, 64, 67, 0.3), 0px 1px 3px 1px rgba(60, 64, 67, 0.15);\n",
              "      fill: #174EA6;\n",
              "    }\n",
              "\n",
              "    .colab-df-buttons div {\n",
              "      margin-bottom: 4px;\n",
              "    }\n",
              "\n",
              "    [theme=dark] .colab-df-convert {\n",
              "      background-color: #3B4455;\n",
              "      fill: #D2E3FC;\n",
              "    }\n",
              "\n",
              "    [theme=dark] .colab-df-convert:hover {\n",
              "      background-color: #434B5C;\n",
              "      box-shadow: 0px 1px 3px 1px rgba(0, 0, 0, 0.15);\n",
              "      filter: drop-shadow(0px 1px 2px rgba(0, 0, 0, 0.3));\n",
              "      fill: #FFFFFF;\n",
              "    }\n",
              "  </style>\n",
              "\n",
              "    <script>\n",
              "      const buttonEl =\n",
              "        document.querySelector('#df-31bb9ea0-73b0-4dc1-aa45-afcb3c9abf38 button.colab-df-convert');\n",
              "      buttonEl.style.display =\n",
              "        google.colab.kernel.accessAllowed ? 'block' : 'none';\n",
              "\n",
              "      async function convertToInteractive(key) {\n",
              "        const element = document.querySelector('#df-31bb9ea0-73b0-4dc1-aa45-afcb3c9abf38');\n",
              "        const dataTable =\n",
              "          await google.colab.kernel.invokeFunction('convertToInteractive',\n",
              "                                                    [key], {});\n",
              "        if (!dataTable) return;\n",
              "\n",
              "        const docLinkHtml = 'Like what you see? Visit the ' +\n",
              "          '<a target=\"_blank\" href=https://colab.research.google.com/notebooks/data_table.ipynb>data table notebook</a>'\n",
              "          + ' to learn more about interactive tables.';\n",
              "        element.innerHTML = '';\n",
              "        dataTable['output_type'] = 'display_data';\n",
              "        await google.colab.output.renderOutput(dataTable, element);\n",
              "        const docLink = document.createElement('div');\n",
              "        docLink.innerHTML = docLinkHtml;\n",
              "        element.appendChild(docLink);\n",
              "      }\n",
              "    </script>\n",
              "  </div>\n",
              "\n",
              "\n",
              "<div id=\"df-96ce14ab-18a9-4b1d-a697-8645e97fc7d6\">\n",
              "  <button class=\"colab-df-quickchart\" onclick=\"quickchart('df-96ce14ab-18a9-4b1d-a697-8645e97fc7d6')\"\n",
              "            title=\"Suggest charts\"\n",
              "            style=\"display:none;\">\n",
              "\n",
              "<svg xmlns=\"http://www.w3.org/2000/svg\" height=\"24px\"viewBox=\"0 0 24 24\"\n",
              "     width=\"24px\">\n",
              "    <g>\n",
              "        <path d=\"M19 3H5c-1.1 0-2 .9-2 2v14c0 1.1.9 2 2 2h14c1.1 0 2-.9 2-2V5c0-1.1-.9-2-2-2zM9 17H7v-7h2v7zm4 0h-2V7h2v10zm4 0h-2v-4h2v4z\"/>\n",
              "    </g>\n",
              "</svg>\n",
              "  </button>\n",
              "\n",
              "<style>\n",
              "  .colab-df-quickchart {\n",
              "      --bg-color: #E8F0FE;\n",
              "      --fill-color: #1967D2;\n",
              "      --hover-bg-color: #E2EBFA;\n",
              "      --hover-fill-color: #174EA6;\n",
              "      --disabled-fill-color: #AAA;\n",
              "      --disabled-bg-color: #DDD;\n",
              "  }\n",
              "\n",
              "  [theme=dark] .colab-df-quickchart {\n",
              "      --bg-color: #3B4455;\n",
              "      --fill-color: #D2E3FC;\n",
              "      --hover-bg-color: #434B5C;\n",
              "      --hover-fill-color: #FFFFFF;\n",
              "      --disabled-bg-color: #3B4455;\n",
              "      --disabled-fill-color: #666;\n",
              "  }\n",
              "\n",
              "  .colab-df-quickchart {\n",
              "    background-color: var(--bg-color);\n",
              "    border: none;\n",
              "    border-radius: 50%;\n",
              "    cursor: pointer;\n",
              "    display: none;\n",
              "    fill: var(--fill-color);\n",
              "    height: 32px;\n",
              "    padding: 0;\n",
              "    width: 32px;\n",
              "  }\n",
              "\n",
              "  .colab-df-quickchart:hover {\n",
              "    background-color: var(--hover-bg-color);\n",
              "    box-shadow: 0 1px 2px rgba(60, 64, 67, 0.3), 0 1px 3px 1px rgba(60, 64, 67, 0.15);\n",
              "    fill: var(--button-hover-fill-color);\n",
              "  }\n",
              "\n",
              "  .colab-df-quickchart-complete:disabled,\n",
              "  .colab-df-quickchart-complete:disabled:hover {\n",
              "    background-color: var(--disabled-bg-color);\n",
              "    fill: var(--disabled-fill-color);\n",
              "    box-shadow: none;\n",
              "  }\n",
              "\n",
              "  .colab-df-spinner {\n",
              "    border: 2px solid var(--fill-color);\n",
              "    border-color: transparent;\n",
              "    border-bottom-color: var(--fill-color);\n",
              "    animation:\n",
              "      spin 1s steps(1) infinite;\n",
              "  }\n",
              "\n",
              "  @keyframes spin {\n",
              "    0% {\n",
              "      border-color: transparent;\n",
              "      border-bottom-color: var(--fill-color);\n",
              "      border-left-color: var(--fill-color);\n",
              "    }\n",
              "    20% {\n",
              "      border-color: transparent;\n",
              "      border-left-color: var(--fill-color);\n",
              "      border-top-color: var(--fill-color);\n",
              "    }\n",
              "    30% {\n",
              "      border-color: transparent;\n",
              "      border-left-color: var(--fill-color);\n",
              "      border-top-color: var(--fill-color);\n",
              "      border-right-color: var(--fill-color);\n",
              "    }\n",
              "    40% {\n",
              "      border-color: transparent;\n",
              "      border-right-color: var(--fill-color);\n",
              "      border-top-color: var(--fill-color);\n",
              "    }\n",
              "    60% {\n",
              "      border-color: transparent;\n",
              "      border-right-color: var(--fill-color);\n",
              "    }\n",
              "    80% {\n",
              "      border-color: transparent;\n",
              "      border-right-color: var(--fill-color);\n",
              "      border-bottom-color: var(--fill-color);\n",
              "    }\n",
              "    90% {\n",
              "      border-color: transparent;\n",
              "      border-bottom-color: var(--fill-color);\n",
              "    }\n",
              "  }\n",
              "</style>\n",
              "\n",
              "  <script>\n",
              "    async function quickchart(key) {\n",
              "      const quickchartButtonEl =\n",
              "        document.querySelector('#' + key + ' button');\n",
              "      quickchartButtonEl.disabled = true;  // To prevent multiple clicks.\n",
              "      quickchartButtonEl.classList.add('colab-df-spinner');\n",
              "      try {\n",
              "        const charts = await google.colab.kernel.invokeFunction(\n",
              "            'suggestCharts', [key], {});\n",
              "      } catch (error) {\n",
              "        console.error('Error during call to suggestCharts:', error);\n",
              "      }\n",
              "      quickchartButtonEl.classList.remove('colab-df-spinner');\n",
              "      quickchartButtonEl.classList.add('colab-df-quickchart-complete');\n",
              "    }\n",
              "    (() => {\n",
              "      let quickchartButtonEl =\n",
              "        document.querySelector('#df-96ce14ab-18a9-4b1d-a697-8645e97fc7d6 button');\n",
              "      quickchartButtonEl.style.display =\n",
              "        google.colab.kernel.accessAllowed ? 'block' : 'none';\n",
              "    })();\n",
              "  </script>\n",
              "</div>\n",
              "    </div>\n",
              "  </div>\n"
            ],
            "application/vnd.google.colaboratory.intrinsic+json": {
              "type": "dataframe",
              "variable_name": "data_uji",
              "summary": "{\n  \"name\": \"data_uji\",\n  \"rows\": 61,\n  \"fields\": [\n    {\n      \"column\": \"age\",\n      \"properties\": {\n        \"dtype\": \"number\",\n        \"std\": 9,\n        \"min\": 29,\n        \"max\": 69,\n        \"num_unique_values\": 30,\n        \"samples\": [\n          65,\n          52,\n          58\n        ],\n        \"semantic_type\": \"\",\n        \"description\": \"\"\n      }\n    },\n    {\n      \"column\": \"sex\",\n      \"properties\": {\n        \"dtype\": \"number\",\n        \"std\": 0,\n        \"min\": 0,\n        \"max\": 1,\n        \"num_unique_values\": 2,\n        \"samples\": [\n          0,\n          1\n        ],\n        \"semantic_type\": \"\",\n        \"description\": \"\"\n      }\n    },\n    {\n      \"column\": \"cp\",\n      \"properties\": {\n        \"dtype\": \"number\",\n        \"std\": 1,\n        \"min\": 0,\n        \"max\": 3,\n        \"num_unique_values\": 4,\n        \"samples\": [\n          1,\n          3\n        ],\n        \"semantic_type\": \"\",\n        \"description\": \"\"\n      }\n    },\n    {\n      \"column\": \"trestbps\",\n      \"properties\": {\n        \"dtype\": \"number\",\n        \"std\": 19,\n        \"min\": 100,\n        \"max\": 192,\n        \"num_unique_values\": 23,\n        \"samples\": [\n          180,\n          138\n        ],\n        \"semantic_type\": \"\",\n        \"description\": \"\"\n      }\n    },\n    {\n      \"column\": \"chol\",\n      \"properties\": {\n        \"dtype\": \"number\",\n        \"std\": 56,\n        \"min\": 141,\n        \"max\": 417,\n        \"num_unique_values\": 53,\n        \"samples\": [\n          186,\n          248\n        ],\n        \"semantic_type\": \"\",\n        \"description\": \"\"\n      }\n    },\n    {\n      \"column\": \"fbs\",\n      \"properties\": {\n        \"dtype\": \"number\",\n        \"std\": 0,\n        \"min\": 0,\n        \"max\": 1,\n        \"num_unique_values\": 2,\n        \"samples\": [\n          1,\n          0\n        ],\n        \"semantic_type\": \"\",\n        \"description\": \"\"\n      }\n    },\n    {\n      \"column\": \"restecg\",\n      \"properties\": {\n        \"dtype\": \"number\",\n        \"std\": 0,\n        \"min\": 0,\n        \"max\": 1,\n        \"num_unique_values\": 2,\n        \"samples\": [\n          0,\n          1\n        ],\n        \"semantic_type\": \"\",\n        \"description\": \"\"\n      }\n    },\n    {\n      \"column\": \"thalach\",\n      \"properties\": {\n        \"dtype\": \"number\",\n        \"std\": 27,\n        \"min\": 71,\n        \"max\": 202,\n        \"num_unique_values\": 48,\n        \"samples\": [\n          184,\n          163\n        ],\n        \"semantic_type\": \"\",\n        \"description\": \"\"\n      }\n    },\n    {\n      \"column\": \"exang\",\n      \"properties\": {\n        \"dtype\": \"number\",\n        \"std\": 0,\n        \"min\": 0,\n        \"max\": 1,\n        \"num_unique_values\": 2,\n        \"samples\": [\n          0,\n          1\n        ],\n        \"semantic_type\": \"\",\n        \"description\": \"\"\n      }\n    },\n    {\n      \"column\": \"oldpeak\",\n      \"properties\": {\n        \"dtype\": \"number\",\n        \"std\": 1.1905708783577076,\n        \"min\": 0.0,\n        \"max\": 4.2,\n        \"num_unique_values\": 22,\n        \"samples\": [\n          0.0,\n          1.1\n        ],\n        \"semantic_type\": \"\",\n        \"description\": \"\"\n      }\n    },\n    {\n      \"column\": \"slope\",\n      \"properties\": {\n        \"dtype\": \"number\",\n        \"std\": 0,\n        \"min\": 0,\n        \"max\": 2,\n        \"num_unique_values\": 3,\n        \"samples\": [\n          2,\n          1\n        ],\n        \"semantic_type\": \"\",\n        \"description\": \"\"\n      }\n    },\n    {\n      \"column\": \"ca\",\n      \"properties\": {\n        \"dtype\": \"number\",\n        \"std\": 1,\n        \"min\": 0,\n        \"max\": 4,\n        \"num_unique_values\": 5,\n        \"samples\": [\n          0,\n          4\n        ],\n        \"semantic_type\": \"\",\n        \"description\": \"\"\n      }\n    },\n    {\n      \"column\": \"thal\",\n      \"properties\": {\n        \"dtype\": \"number\",\n        \"std\": 0,\n        \"min\": 1,\n        \"max\": 3,\n        \"num_unique_values\": 3,\n        \"samples\": [\n          3,\n          2\n        ],\n        \"semantic_type\": \"\",\n        \"description\": \"\"\n      }\n    }\n  ]\n}"
            }
          },
          "metadata": {},
          "execution_count": 51
        }
      ]
    },
    {
      "cell_type": "code",
      "source": [
        "data_latih.head()"
      ],
      "metadata": {
        "colab": {
          "base_uri": "https://localhost:8080/",
          "height": 206
        },
        "id": "wxcENxdbslph",
        "outputId": "269a8d63-289e-4e3b-e24f-6e54d243e7bc"
      },
      "execution_count": 52,
      "outputs": [
        {
          "output_type": "execute_result",
          "data": {
            "text/plain": [
              "     age  sex  cp  trestbps  chol  fbs  restecg  thalach  exang  oldpeak  \\\n",
              "260   66    0   0       178   228    1        1      165      1      1.0   \n",
              "7     44    1   1       120   263    0        1      173      0      0.0   \n",
              "80    41    1   2       112   250    0        1      179      0      0.0   \n",
              "29    53    1   2       130   197    1        0      152      0      1.2   \n",
              "189   41    1   0       110   172    0        0      158      0      0.0   \n",
              "\n",
              "     slope  ca  thal  target  \n",
              "260      1   2     3       0  \n",
              "7        2   0     3       1  \n",
              "80       2   0     2       1  \n",
              "29       0   0     2       1  \n",
              "189      2   0     3       0  "
            ],
            "text/html": [
              "\n",
              "  <div id=\"df-64102a2e-9162-4aab-8835-f8c5cc215fff\" class=\"colab-df-container\">\n",
              "    <div>\n",
              "<style scoped>\n",
              "    .dataframe tbody tr th:only-of-type {\n",
              "        vertical-align: middle;\n",
              "    }\n",
              "\n",
              "    .dataframe tbody tr th {\n",
              "        vertical-align: top;\n",
              "    }\n",
              "\n",
              "    .dataframe thead th {\n",
              "        text-align: right;\n",
              "    }\n",
              "</style>\n",
              "<table border=\"1\" class=\"dataframe\">\n",
              "  <thead>\n",
              "    <tr style=\"text-align: right;\">\n",
              "      <th></th>\n",
              "      <th>age</th>\n",
              "      <th>sex</th>\n",
              "      <th>cp</th>\n",
              "      <th>trestbps</th>\n",
              "      <th>chol</th>\n",
              "      <th>fbs</th>\n",
              "      <th>restecg</th>\n",
              "      <th>thalach</th>\n",
              "      <th>exang</th>\n",
              "      <th>oldpeak</th>\n",
              "      <th>slope</th>\n",
              "      <th>ca</th>\n",
              "      <th>thal</th>\n",
              "      <th>target</th>\n",
              "    </tr>\n",
              "  </thead>\n",
              "  <tbody>\n",
              "    <tr>\n",
              "      <th>260</th>\n",
              "      <td>66</td>\n",
              "      <td>0</td>\n",
              "      <td>0</td>\n",
              "      <td>178</td>\n",
              "      <td>228</td>\n",
              "      <td>1</td>\n",
              "      <td>1</td>\n",
              "      <td>165</td>\n",
              "      <td>1</td>\n",
              "      <td>1.0</td>\n",
              "      <td>1</td>\n",
              "      <td>2</td>\n",
              "      <td>3</td>\n",
              "      <td>0</td>\n",
              "    </tr>\n",
              "    <tr>\n",
              "      <th>7</th>\n",
              "      <td>44</td>\n",
              "      <td>1</td>\n",
              "      <td>1</td>\n",
              "      <td>120</td>\n",
              "      <td>263</td>\n",
              "      <td>0</td>\n",
              "      <td>1</td>\n",
              "      <td>173</td>\n",
              "      <td>0</td>\n",
              "      <td>0.0</td>\n",
              "      <td>2</td>\n",
              "      <td>0</td>\n",
              "      <td>3</td>\n",
              "      <td>1</td>\n",
              "    </tr>\n",
              "    <tr>\n",
              "      <th>80</th>\n",
              "      <td>41</td>\n",
              "      <td>1</td>\n",
              "      <td>2</td>\n",
              "      <td>112</td>\n",
              "      <td>250</td>\n",
              "      <td>0</td>\n",
              "      <td>1</td>\n",
              "      <td>179</td>\n",
              "      <td>0</td>\n",
              "      <td>0.0</td>\n",
              "      <td>2</td>\n",
              "      <td>0</td>\n",
              "      <td>2</td>\n",
              "      <td>1</td>\n",
              "    </tr>\n",
              "    <tr>\n",
              "      <th>29</th>\n",
              "      <td>53</td>\n",
              "      <td>1</td>\n",
              "      <td>2</td>\n",
              "      <td>130</td>\n",
              "      <td>197</td>\n",
              "      <td>1</td>\n",
              "      <td>0</td>\n",
              "      <td>152</td>\n",
              "      <td>0</td>\n",
              "      <td>1.2</td>\n",
              "      <td>0</td>\n",
              "      <td>0</td>\n",
              "      <td>2</td>\n",
              "      <td>1</td>\n",
              "    </tr>\n",
              "    <tr>\n",
              "      <th>189</th>\n",
              "      <td>41</td>\n",
              "      <td>1</td>\n",
              "      <td>0</td>\n",
              "      <td>110</td>\n",
              "      <td>172</td>\n",
              "      <td>0</td>\n",
              "      <td>0</td>\n",
              "      <td>158</td>\n",
              "      <td>0</td>\n",
              "      <td>0.0</td>\n",
              "      <td>2</td>\n",
              "      <td>0</td>\n",
              "      <td>3</td>\n",
              "      <td>0</td>\n",
              "    </tr>\n",
              "  </tbody>\n",
              "</table>\n",
              "</div>\n",
              "    <div class=\"colab-df-buttons\">\n",
              "\n",
              "  <div class=\"colab-df-container\">\n",
              "    <button class=\"colab-df-convert\" onclick=\"convertToInteractive('df-64102a2e-9162-4aab-8835-f8c5cc215fff')\"\n",
              "            title=\"Convert this dataframe to an interactive table.\"\n",
              "            style=\"display:none;\">\n",
              "\n",
              "  <svg xmlns=\"http://www.w3.org/2000/svg\" height=\"24px\" viewBox=\"0 -960 960 960\">\n",
              "    <path d=\"M120-120v-720h720v720H120Zm60-500h600v-160H180v160Zm220 220h160v-160H400v160Zm0 220h160v-160H400v160ZM180-400h160v-160H180v160Zm440 0h160v-160H620v160ZM180-180h160v-160H180v160Zm440 0h160v-160H620v160Z\"/>\n",
              "  </svg>\n",
              "    </button>\n",
              "\n",
              "  <style>\n",
              "    .colab-df-container {\n",
              "      display:flex;\n",
              "      gap: 12px;\n",
              "    }\n",
              "\n",
              "    .colab-df-convert {\n",
              "      background-color: #E8F0FE;\n",
              "      border: none;\n",
              "      border-radius: 50%;\n",
              "      cursor: pointer;\n",
              "      display: none;\n",
              "      fill: #1967D2;\n",
              "      height: 32px;\n",
              "      padding: 0 0 0 0;\n",
              "      width: 32px;\n",
              "    }\n",
              "\n",
              "    .colab-df-convert:hover {\n",
              "      background-color: #E2EBFA;\n",
              "      box-shadow: 0px 1px 2px rgba(60, 64, 67, 0.3), 0px 1px 3px 1px rgba(60, 64, 67, 0.15);\n",
              "      fill: #174EA6;\n",
              "    }\n",
              "\n",
              "    .colab-df-buttons div {\n",
              "      margin-bottom: 4px;\n",
              "    }\n",
              "\n",
              "    [theme=dark] .colab-df-convert {\n",
              "      background-color: #3B4455;\n",
              "      fill: #D2E3FC;\n",
              "    }\n",
              "\n",
              "    [theme=dark] .colab-df-convert:hover {\n",
              "      background-color: #434B5C;\n",
              "      box-shadow: 0px 1px 3px 1px rgba(0, 0, 0, 0.15);\n",
              "      filter: drop-shadow(0px 1px 2px rgba(0, 0, 0, 0.3));\n",
              "      fill: #FFFFFF;\n",
              "    }\n",
              "  </style>\n",
              "\n",
              "    <script>\n",
              "      const buttonEl =\n",
              "        document.querySelector('#df-64102a2e-9162-4aab-8835-f8c5cc215fff button.colab-df-convert');\n",
              "      buttonEl.style.display =\n",
              "        google.colab.kernel.accessAllowed ? 'block' : 'none';\n",
              "\n",
              "      async function convertToInteractive(key) {\n",
              "        const element = document.querySelector('#df-64102a2e-9162-4aab-8835-f8c5cc215fff');\n",
              "        const dataTable =\n",
              "          await google.colab.kernel.invokeFunction('convertToInteractive',\n",
              "                                                    [key], {});\n",
              "        if (!dataTable) return;\n",
              "\n",
              "        const docLinkHtml = 'Like what you see? Visit the ' +\n",
              "          '<a target=\"_blank\" href=https://colab.research.google.com/notebooks/data_table.ipynb>data table notebook</a>'\n",
              "          + ' to learn more about interactive tables.';\n",
              "        element.innerHTML = '';\n",
              "        dataTable['output_type'] = 'display_data';\n",
              "        await google.colab.output.renderOutput(dataTable, element);\n",
              "        const docLink = document.createElement('div');\n",
              "        docLink.innerHTML = docLinkHtml;\n",
              "        element.appendChild(docLink);\n",
              "      }\n",
              "    </script>\n",
              "  </div>\n",
              "\n",
              "\n",
              "<div id=\"df-63273028-875a-43e2-8712-305a70b9f3c5\">\n",
              "  <button class=\"colab-df-quickchart\" onclick=\"quickchart('df-63273028-875a-43e2-8712-305a70b9f3c5')\"\n",
              "            title=\"Suggest charts\"\n",
              "            style=\"display:none;\">\n",
              "\n",
              "<svg xmlns=\"http://www.w3.org/2000/svg\" height=\"24px\"viewBox=\"0 0 24 24\"\n",
              "     width=\"24px\">\n",
              "    <g>\n",
              "        <path d=\"M19 3H5c-1.1 0-2 .9-2 2v14c0 1.1.9 2 2 2h14c1.1 0 2-.9 2-2V5c0-1.1-.9-2-2-2zM9 17H7v-7h2v7zm4 0h-2V7h2v10zm4 0h-2v-4h2v4z\"/>\n",
              "    </g>\n",
              "</svg>\n",
              "  </button>\n",
              "\n",
              "<style>\n",
              "  .colab-df-quickchart {\n",
              "      --bg-color: #E8F0FE;\n",
              "      --fill-color: #1967D2;\n",
              "      --hover-bg-color: #E2EBFA;\n",
              "      --hover-fill-color: #174EA6;\n",
              "      --disabled-fill-color: #AAA;\n",
              "      --disabled-bg-color: #DDD;\n",
              "  }\n",
              "\n",
              "  [theme=dark] .colab-df-quickchart {\n",
              "      --bg-color: #3B4455;\n",
              "      --fill-color: #D2E3FC;\n",
              "      --hover-bg-color: #434B5C;\n",
              "      --hover-fill-color: #FFFFFF;\n",
              "      --disabled-bg-color: #3B4455;\n",
              "      --disabled-fill-color: #666;\n",
              "  }\n",
              "\n",
              "  .colab-df-quickchart {\n",
              "    background-color: var(--bg-color);\n",
              "    border: none;\n",
              "    border-radius: 50%;\n",
              "    cursor: pointer;\n",
              "    display: none;\n",
              "    fill: var(--fill-color);\n",
              "    height: 32px;\n",
              "    padding: 0;\n",
              "    width: 32px;\n",
              "  }\n",
              "\n",
              "  .colab-df-quickchart:hover {\n",
              "    background-color: var(--hover-bg-color);\n",
              "    box-shadow: 0 1px 2px rgba(60, 64, 67, 0.3), 0 1px 3px 1px rgba(60, 64, 67, 0.15);\n",
              "    fill: var(--button-hover-fill-color);\n",
              "  }\n",
              "\n",
              "  .colab-df-quickchart-complete:disabled,\n",
              "  .colab-df-quickchart-complete:disabled:hover {\n",
              "    background-color: var(--disabled-bg-color);\n",
              "    fill: var(--disabled-fill-color);\n",
              "    box-shadow: none;\n",
              "  }\n",
              "\n",
              "  .colab-df-spinner {\n",
              "    border: 2px solid var(--fill-color);\n",
              "    border-color: transparent;\n",
              "    border-bottom-color: var(--fill-color);\n",
              "    animation:\n",
              "      spin 1s steps(1) infinite;\n",
              "  }\n",
              "\n",
              "  @keyframes spin {\n",
              "    0% {\n",
              "      border-color: transparent;\n",
              "      border-bottom-color: var(--fill-color);\n",
              "      border-left-color: var(--fill-color);\n",
              "    }\n",
              "    20% {\n",
              "      border-color: transparent;\n",
              "      border-left-color: var(--fill-color);\n",
              "      border-top-color: var(--fill-color);\n",
              "    }\n",
              "    30% {\n",
              "      border-color: transparent;\n",
              "      border-left-color: var(--fill-color);\n",
              "      border-top-color: var(--fill-color);\n",
              "      border-right-color: var(--fill-color);\n",
              "    }\n",
              "    40% {\n",
              "      border-color: transparent;\n",
              "      border-right-color: var(--fill-color);\n",
              "      border-top-color: var(--fill-color);\n",
              "    }\n",
              "    60% {\n",
              "      border-color: transparent;\n",
              "      border-right-color: var(--fill-color);\n",
              "    }\n",
              "    80% {\n",
              "      border-color: transparent;\n",
              "      border-right-color: var(--fill-color);\n",
              "      border-bottom-color: var(--fill-color);\n",
              "    }\n",
              "    90% {\n",
              "      border-color: transparent;\n",
              "      border-bottom-color: var(--fill-color);\n",
              "    }\n",
              "  }\n",
              "</style>\n",
              "\n",
              "  <script>\n",
              "    async function quickchart(key) {\n",
              "      const quickchartButtonEl =\n",
              "        document.querySelector('#' + key + ' button');\n",
              "      quickchartButtonEl.disabled = true;  // To prevent multiple clicks.\n",
              "      quickchartButtonEl.classList.add('colab-df-spinner');\n",
              "      try {\n",
              "        const charts = await google.colab.kernel.invokeFunction(\n",
              "            'suggestCharts', [key], {});\n",
              "      } catch (error) {\n",
              "        console.error('Error during call to suggestCharts:', error);\n",
              "      }\n",
              "      quickchartButtonEl.classList.remove('colab-df-spinner');\n",
              "      quickchartButtonEl.classList.add('colab-df-quickchart-complete');\n",
              "    }\n",
              "    (() => {\n",
              "      let quickchartButtonEl =\n",
              "        document.querySelector('#df-63273028-875a-43e2-8712-305a70b9f3c5 button');\n",
              "      quickchartButtonEl.style.display =\n",
              "        google.colab.kernel.accessAllowed ? 'block' : 'none';\n",
              "    })();\n",
              "  </script>\n",
              "</div>\n",
              "    </div>\n",
              "  </div>\n"
            ],
            "application/vnd.google.colaboratory.intrinsic+json": {
              "type": "dataframe",
              "variable_name": "data_latih",
              "summary": "{\n  \"name\": \"data_latih\",\n  \"rows\": 242,\n  \"fields\": [\n    {\n      \"column\": \"age\",\n      \"properties\": {\n        \"dtype\": \"number\",\n        \"std\": 9,\n        \"min\": 34,\n        \"max\": 77,\n        \"num_unique_values\": 40,\n        \"samples\": [\n          69,\n          70,\n          59\n        ],\n        \"semantic_type\": \"\",\n        \"description\": \"\"\n      }\n    },\n    {\n      \"column\": \"sex\",\n      \"properties\": {\n        \"dtype\": \"number\",\n        \"std\": 0,\n        \"min\": 0,\n        \"max\": 1,\n        \"num_unique_values\": 2,\n        \"samples\": [\n          1,\n          0\n        ],\n        \"semantic_type\": \"\",\n        \"description\": \"\"\n      }\n    },\n    {\n      \"column\": \"cp\",\n      \"properties\": {\n        \"dtype\": \"number\",\n        \"std\": 0,\n        \"min\": 0,\n        \"max\": 3,\n        \"num_unique_values\": 4,\n        \"samples\": [\n          1,\n          3\n        ],\n        \"semantic_type\": \"\",\n        \"description\": \"\"\n      }\n    },\n    {\n      \"column\": \"trestbps\",\n      \"properties\": {\n        \"dtype\": \"number\",\n        \"std\": 17,\n        \"min\": 94,\n        \"max\": 200,\n        \"num_unique_values\": 47,\n        \"samples\": [\n          142,\n          105\n        ],\n        \"semantic_type\": \"\",\n        \"description\": \"\"\n      }\n    },\n    {\n      \"column\": \"chol\",\n      \"properties\": {\n        \"dtype\": \"number\",\n        \"std\": 50,\n        \"min\": 126,\n        \"max\": 564,\n        \"num_unique_values\": 132,\n        \"samples\": [\n          233,\n          307\n        ],\n        \"semantic_type\": \"\",\n        \"description\": \"\"\n      }\n    },\n    {\n      \"column\": \"fbs\",\n      \"properties\": {\n        \"dtype\": \"number\",\n        \"std\": 0,\n        \"min\": 0,\n        \"max\": 1,\n        \"num_unique_values\": 2,\n        \"samples\": [\n          0,\n          1\n        ],\n        \"semantic_type\": \"\",\n        \"description\": \"\"\n      }\n    },\n    {\n      \"column\": \"restecg\",\n      \"properties\": {\n        \"dtype\": \"number\",\n        \"std\": 0,\n        \"min\": 0,\n        \"max\": 2,\n        \"num_unique_values\": 3,\n        \"samples\": [\n          1,\n          0\n        ],\n        \"semantic_type\": \"\",\n        \"description\": \"\"\n      }\n    },\n    {\n      \"column\": \"thalach\",\n      \"properties\": {\n        \"dtype\": \"number\",\n        \"std\": 21,\n        \"min\": 90,\n        \"max\": 194,\n        \"num_unique_values\": 79,\n        \"samples\": [\n          95,\n          165\n        ],\n        \"semantic_type\": \"\",\n        \"description\": \"\"\n      }\n    },\n    {\n      \"column\": \"exang\",\n      \"properties\": {\n        \"dtype\": \"number\",\n        \"std\": 0,\n        \"min\": 0,\n        \"max\": 1,\n        \"num_unique_values\": 2,\n        \"samples\": [\n          0,\n          1\n        ],\n        \"semantic_type\": \"\",\n        \"description\": \"\"\n      }\n    },\n    {\n      \"column\": \"oldpeak\",\n      \"properties\": {\n        \"dtype\": \"number\",\n        \"std\": 1.1547024192554527,\n        \"min\": 0.0,\n        \"max\": 6.2,\n        \"num_unique_values\": 38,\n        \"samples\": [\n          2.1,\n          4.0\n        ],\n        \"semantic_type\": \"\",\n        \"description\": \"\"\n      }\n    },\n    {\n      \"column\": \"slope\",\n      \"properties\": {\n        \"dtype\": \"number\",\n        \"std\": 0,\n        \"min\": 0,\n        \"max\": 2,\n        \"num_unique_values\": 3,\n        \"samples\": [\n          1,\n          2\n        ],\n        \"semantic_type\": \"\",\n        \"description\": \"\"\n      }\n    },\n    {\n      \"column\": \"ca\",\n      \"properties\": {\n        \"dtype\": \"number\",\n        \"std\": 1,\n        \"min\": 0,\n        \"max\": 4,\n        \"num_unique_values\": 5,\n        \"samples\": [\n          0,\n          4\n        ],\n        \"semantic_type\": \"\",\n        \"description\": \"\"\n      }\n    },\n    {\n      \"column\": \"thal\",\n      \"properties\": {\n        \"dtype\": \"number\",\n        \"std\": 0,\n        \"min\": 0,\n        \"max\": 3,\n        \"num_unique_values\": 4,\n        \"samples\": [\n          2,\n          0\n        ],\n        \"semantic_type\": \"\",\n        \"description\": \"\"\n      }\n    },\n    {\n      \"column\": \"target\",\n      \"properties\": {\n        \"dtype\": \"number\",\n        \"std\": 0,\n        \"min\": 0,\n        \"max\": 1,\n        \"num_unique_values\": 2,\n        \"samples\": [\n          1,\n          0\n        ],\n        \"semantic_type\": \"\",\n        \"description\": \"\"\n      }\n    }\n  ]\n}"
            }
          },
          "metadata": {},
          "execution_count": 52
        }
      ]
    },
    {
      "cell_type": "markdown",
      "source": [
        "#Menghitung prior"
      ],
      "metadata": {
        "id": "gpN_ULiXs7OX"
      }
    },
    {
      "cell_type": "code",
      "source": [
        "from collections import Counter\n",
        "def hitung_prior(list_kelas):\n",
        "  n_data = len(list_kelas)\n",
        "  prior = Counter(list_kelas)\n",
        "  for key in prior.keys():\n",
        "    prior[key]=prior[key]/n_data\n",
        "  return prior"
      ],
      "metadata": {
        "id": "J0YSyA81s8xQ"
      },
      "execution_count": 53,
      "outputs": []
    },
    {
      "cell_type": "code",
      "source": [
        "n_data=len(data_latih)\n",
        "n_data"
      ],
      "metadata": {
        "colab": {
          "base_uri": "https://localhost:8080/"
        },
        "id": "Ogyq2NpttLjG",
        "outputId": "37e6a006-b180-4afe-ed79-e9d25fd4fa6a"
      },
      "execution_count": 54,
      "outputs": [
        {
          "output_type": "execute_result",
          "data": {
            "text/plain": [
              "242"
            ]
          },
          "metadata": {},
          "execution_count": 54
        }
      ]
    },
    {
      "cell_type": "code",
      "source": [
        "test=Counter(data_latih['target'])\n",
        "test"
      ],
      "metadata": {
        "colab": {
          "base_uri": "https://localhost:8080/"
        },
        "id": "8RCOPH1vtL9M",
        "outputId": "5913db03-7c79-4b91-dcaa-db91bff8928d"
      },
      "execution_count": 55,
      "outputs": [
        {
          "output_type": "execute_result",
          "data": {
            "text/plain": [
              "Counter({0: 112, 1: 130})"
            ]
          },
          "metadata": {},
          "execution_count": 55
        }
      ]
    },
    {
      "cell_type": "code",
      "source": [
        "prior = hitung_prior(data_latih['target'])\n",
        "print(prior)"
      ],
      "metadata": {
        "colab": {
          "base_uri": "https://localhost:8080/"
        },
        "id": "wDHbUVsUtZuJ",
        "outputId": "f0de0016-53c5-4248-a13b-e68d9a1deee2"
      },
      "execution_count": 56,
      "outputs": [
        {
          "output_type": "stream",
          "name": "stdout",
          "text": [
            "Counter({1: 0.5371900826446281, 0: 0.4628099173553719})\n"
          ]
        }
      ]
    },
    {
      "cell_type": "markdown",
      "source": [
        "#Menghitung likelihood"
      ],
      "metadata": {
        "id": "Ss90DAmkt0mI"
      }
    },
    {
      "cell_type": "code",
      "source": [
        "def hitung_rata2_std_kelas(input_data):\n",
        "  # Simpan list kolom\n",
        "  list_columns = input_data.columns[:-1]\n",
        "  # Simpan nama kolom kelas\n",
        "  class_column_name = input_data.columns[-1]\n",
        "  # Simpan list kelas\n",
        "  list_class = set(input_data[class_column_name])\n",
        "  rata2 = {}\n",
        "  std = {}\n",
        "  for column in list_columns:\n",
        "    for a_class in list_class:\n",
        "        rata2[(a_class,column)] = input_data.loc[input_data[class_column_name] == a_class][column].mean()\n",
        "        std[(a_class,column)] = input_data.loc[input_data[class_column_name]==a_class][column].std()\n",
        "  print(rata2)\n",
        "  print(std)\n",
        "  return(rata2,std)"
      ],
      "metadata": {
        "id": "y3Xfygm6uKJe"
      },
      "execution_count": 57,
      "outputs": []
    },
    {
      "cell_type": "code",
      "source": [
        "list_columns = data_latih.columns[:-1]\n",
        "print(list_columns)"
      ],
      "metadata": {
        "colab": {
          "base_uri": "https://localhost:8080/"
        },
        "id": "evlgzlETuW7g",
        "outputId": "b2cac50c-bbf4-42f3-8d61-cd35692a99ca"
      },
      "execution_count": 58,
      "outputs": [
        {
          "output_type": "stream",
          "name": "stdout",
          "text": [
            "Index(['age', 'sex', 'cp', 'trestbps', 'chol', 'fbs', 'restecg', 'thalach',\n",
            "       'exang', 'oldpeak', 'slope', 'ca', 'thal'],\n",
            "      dtype='object')\n"
          ]
        }
      ]
    },
    {
      "cell_type": "code",
      "source": [
        "class_column_name = data_latih.columns[-1]\n",
        "print(class_column_name)"
      ],
      "metadata": {
        "colab": {
          "base_uri": "https://localhost:8080/"
        },
        "id": "zKgIrSfRuXhY",
        "outputId": "8986ecff-fb0d-4e31-a2bf-c8188e99d786"
      },
      "execution_count": 59,
      "outputs": [
        {
          "output_type": "stream",
          "name": "stdout",
          "text": [
            "target\n"
          ]
        }
      ]
    },
    {
      "cell_type": "code",
      "source": [
        "list_class = set(data_latih[class_column_name])\n",
        "print(list_class)"
      ],
      "metadata": {
        "colab": {
          "base_uri": "https://localhost:8080/"
        },
        "id": "VHQNrkWsuY-Z",
        "outputId": "0d9b44e4-e909-4487-ff62-d6c7fd076916"
      },
      "execution_count": 60,
      "outputs": [
        {
          "output_type": "stream",
          "name": "stdout",
          "text": [
            "{0, 1}\n"
          ]
        }
      ]
    },
    {
      "cell_type": "code",
      "source": [
        "rata2 = {}\n",
        "std = {}\n",
        "for column in list_columns:\n",
        "  for a_class in list_class:\n",
        "      rata2[(a_class,column)] = data_latih.loc[data_latih[class_column_name] == a_class][column].mean()\n",
        "      print(rata2)\n",
        "      std[(a_class,column)] = data_latih.loc[data_latih[class_column_name]==a_class][column].std()\n",
        "      print(std)\n",
        "      print(\"=====\")"
      ],
      "metadata": {
        "colab": {
          "base_uri": "https://localhost:8080/"
        },
        "id": "C7mnr0_4uaYk",
        "outputId": "4523bd97-a83a-4f43-f9ec-99cc5af50229"
      },
      "execution_count": 61,
      "outputs": [
        {
          "output_type": "stream",
          "name": "stdout",
          "text": [
            "{(0, 'age'): 56.955357142857146}\n",
            "{(0, 'age'): 7.851537283178225}\n",
            "=====\n",
            "{(0, 'age'): 56.955357142857146, (1, 'age'): 52.646153846153844}\n",
            "{(0, 'age'): 7.851537283178225, (1, 'age'): 9.484268115230307}\n",
            "=====\n",
            "{(0, 'age'): 56.955357142857146, (1, 'age'): 52.646153846153844, (0, 'sex'): 0.8214285714285714}\n",
            "{(0, 'age'): 7.851537283178225, (1, 'age'): 9.484268115230307, (0, 'sex'): 0.3847143719763378}\n",
            "=====\n",
            "{(0, 'age'): 56.955357142857146, (1, 'age'): 52.646153846153844, (0, 'sex'): 0.8214285714285714, (1, 'sex'): 0.5615384615384615}\n",
            "{(0, 'age'): 7.851537283178225, (1, 'age'): 9.484268115230307, (0, 'sex'): 0.3847143719763378, (1, 'sex'): 0.4981181042645052}\n",
            "=====\n",
            "{(0, 'age'): 56.955357142857146, (1, 'age'): 52.646153846153844, (0, 'sex'): 0.8214285714285714, (1, 'sex'): 0.5615384615384615, (0, 'cp'): 0.45535714285714285}\n",
            "{(0, 'age'): 7.851537283178225, (1, 'age'): 9.484268115230307, (0, 'sex'): 0.3847143719763378, (1, 'sex'): 0.4981181042645052, (0, 'cp'): 0.8687610817974164}\n",
            "=====\n",
            "{(0, 'age'): 56.955357142857146, (1, 'age'): 52.646153846153844, (0, 'sex'): 0.8214285714285714, (1, 'sex'): 0.5615384615384615, (0, 'cp'): 0.45535714285714285, (1, 'cp'): 1.3384615384615384}\n",
            "{(0, 'age'): 7.851537283178225, (1, 'age'): 9.484268115230307, (0, 'sex'): 0.3847143719763378, (1, 'sex'): 0.4981181042645052, (0, 'cp'): 0.8687610817974164, (1, 'cp'): 0.9196717155598053}\n",
            "=====\n",
            "{(0, 'age'): 56.955357142857146, (1, 'age'): 52.646153846153844, (0, 'sex'): 0.8214285714285714, (1, 'sex'): 0.5615384615384615, (0, 'cp'): 0.45535714285714285, (1, 'cp'): 1.3384615384615384, (0, 'trestbps'): 134.72321428571428}\n",
            "{(0, 'age'): 7.851537283178225, (1, 'age'): 9.484268115230307, (0, 'sex'): 0.3847143719763378, (1, 'sex'): 0.4981181042645052, (0, 'cp'): 0.8687610817974164, (1, 'cp'): 0.9196717155598053, (0, 'trestbps'): 18.319590174725093}\n",
            "=====\n",
            "{(0, 'age'): 56.955357142857146, (1, 'age'): 52.646153846153844, (0, 'sex'): 0.8214285714285714, (1, 'sex'): 0.5615384615384615, (0, 'cp'): 0.45535714285714285, (1, 'cp'): 1.3384615384615384, (0, 'trestbps'): 134.72321428571428, (1, 'trestbps'): 129.1153846153846}\n",
            "{(0, 'age'): 7.851537283178225, (1, 'age'): 9.484268115230307, (0, 'sex'): 0.3847143719763378, (1, 'sex'): 0.4981181042645052, (0, 'cp'): 0.8687610817974164, (1, 'cp'): 0.9196717155598053, (0, 'trestbps'): 18.319590174725093, (1, 'trestbps'): 15.747835886947836}\n",
            "=====\n",
            "{(0, 'age'): 56.955357142857146, (1, 'age'): 52.646153846153844, (0, 'sex'): 0.8214285714285714, (1, 'sex'): 0.5615384615384615, (0, 'cp'): 0.45535714285714285, (1, 'cp'): 1.3384615384615384, (0, 'trestbps'): 134.72321428571428, (1, 'trestbps'): 129.1153846153846, (0, 'chol'): 252.35714285714286}\n",
            "{(0, 'age'): 7.851537283178225, (1, 'age'): 9.484268115230307, (0, 'sex'): 0.3847143719763378, (1, 'sex'): 0.4981181042645052, (0, 'cp'): 0.8687610817974164, (1, 'cp'): 0.9196717155598053, (0, 'trestbps'): 18.319590174725093, (1, 'trestbps'): 15.747835886947836, (0, 'chol'): 47.19975895931298}\n",
            "=====\n",
            "{(0, 'age'): 56.955357142857146, (1, 'age'): 52.646153846153844, (0, 'sex'): 0.8214285714285714, (1, 'sex'): 0.5615384615384615, (0, 'cp'): 0.45535714285714285, (1, 'cp'): 1.3384615384615384, (0, 'trestbps'): 134.72321428571428, (1, 'trestbps'): 129.1153846153846, (0, 'chol'): 252.35714285714286, (1, 'chol'): 242.1}\n",
            "{(0, 'age'): 7.851537283178225, (1, 'age'): 9.484268115230307, (0, 'sex'): 0.3847143719763378, (1, 'sex'): 0.4981181042645052, (0, 'cp'): 0.8687610817974164, (1, 'cp'): 0.9196717155598053, (0, 'trestbps'): 18.319590174725093, (1, 'trestbps'): 15.747835886947836, (0, 'chol'): 47.19975895931298, (1, 'chol'): 53.26674864892644}\n",
            "=====\n",
            "{(0, 'age'): 56.955357142857146, (1, 'age'): 52.646153846153844, (0, 'sex'): 0.8214285714285714, (1, 'sex'): 0.5615384615384615, (0, 'cp'): 0.45535714285714285, (1, 'cp'): 1.3384615384615384, (0, 'trestbps'): 134.72321428571428, (1, 'trestbps'): 129.1153846153846, (0, 'chol'): 252.35714285714286, (1, 'chol'): 242.1, (0, 'fbs'): 0.17857142857142858}\n",
            "{(0, 'age'): 7.851537283178225, (1, 'age'): 9.484268115230307, (0, 'sex'): 0.3847143719763378, (1, 'sex'): 0.4981181042645052, (0, 'cp'): 0.8687610817974164, (1, 'cp'): 0.9196717155598053, (0, 'trestbps'): 18.319590174725093, (1, 'trestbps'): 15.747835886947836, (0, 'chol'): 47.19975895931298, (1, 'chol'): 53.26674864892644, (0, 'fbs'): 0.38471437197633773}\n",
            "=====\n",
            "{(0, 'age'): 56.955357142857146, (1, 'age'): 52.646153846153844, (0, 'sex'): 0.8214285714285714, (1, 'sex'): 0.5615384615384615, (0, 'cp'): 0.45535714285714285, (1, 'cp'): 1.3384615384615384, (0, 'trestbps'): 134.72321428571428, (1, 'trestbps'): 129.1153846153846, (0, 'chol'): 252.35714285714286, (1, 'chol'): 242.1, (0, 'fbs'): 0.17857142857142858, (1, 'fbs'): 0.13076923076923078}\n",
            "{(0, 'age'): 7.851537283178225, (1, 'age'): 9.484268115230307, (0, 'sex'): 0.3847143719763378, (1, 'sex'): 0.4981181042645052, (0, 'cp'): 0.8687610817974164, (1, 'cp'): 0.9196717155598053, (0, 'trestbps'): 18.319590174725093, (1, 'trestbps'): 15.747835886947836, (0, 'chol'): 47.19975895931298, (1, 'chol'): 53.26674864892644, (0, 'fbs'): 0.38471437197633773, (1, 'fbs'): 0.3384520516911921}\n",
            "=====\n",
            "{(0, 'age'): 56.955357142857146, (1, 'age'): 52.646153846153844, (0, 'sex'): 0.8214285714285714, (1, 'sex'): 0.5615384615384615, (0, 'cp'): 0.45535714285714285, (1, 'cp'): 1.3384615384615384, (0, 'trestbps'): 134.72321428571428, (1, 'trestbps'): 129.1153846153846, (0, 'chol'): 252.35714285714286, (1, 'chol'): 242.1, (0, 'fbs'): 0.17857142857142858, (1, 'fbs'): 0.13076923076923078, (0, 'restecg'): 0.45535714285714285}\n",
            "{(0, 'age'): 7.851537283178225, (1, 'age'): 9.484268115230307, (0, 'sex'): 0.3847143719763378, (1, 'sex'): 0.4981181042645052, (0, 'cp'): 0.8687610817974164, (1, 'cp'): 0.9196717155598053, (0, 'trestbps'): 18.319590174725093, (1, 'trestbps'): 15.747835886947836, (0, 'chol'): 47.19975895931298, (1, 'chol'): 53.26674864892644, (0, 'fbs'): 0.38471437197633773, (1, 'fbs'): 0.3384520516911921, (0, 'restecg'): 0.5516297370477472}\n",
            "=====\n",
            "{(0, 'age'): 56.955357142857146, (1, 'age'): 52.646153846153844, (0, 'sex'): 0.8214285714285714, (1, 'sex'): 0.5615384615384615, (0, 'cp'): 0.45535714285714285, (1, 'cp'): 1.3384615384615384, (0, 'trestbps'): 134.72321428571428, (1, 'trestbps'): 129.1153846153846, (0, 'chol'): 252.35714285714286, (1, 'chol'): 242.1, (0, 'fbs'): 0.17857142857142858, (1, 'fbs'): 0.13076923076923078, (0, 'restecg'): 0.45535714285714285, (1, 'restecg'): 0.6076923076923076}\n",
            "{(0, 'age'): 7.851537283178225, (1, 'age'): 9.484268115230307, (0, 'sex'): 0.3847143719763378, (1, 'sex'): 0.4981181042645052, (0, 'cp'): 0.8687610817974164, (1, 'cp'): 0.9196717155598053, (0, 'trestbps'): 18.319590174725093, (1, 'trestbps'): 15.747835886947836, (0, 'chol'): 47.19975895931298, (1, 'chol'): 53.26674864892644, (0, 'fbs'): 0.38471437197633773, (1, 'fbs'): 0.3384520516911921, (0, 'restecg'): 0.5516297370477472, (1, 'restecg'): 0.5057215866424762}\n",
            "=====\n",
            "{(0, 'age'): 56.955357142857146, (1, 'age'): 52.646153846153844, (0, 'sex'): 0.8214285714285714, (1, 'sex'): 0.5615384615384615, (0, 'cp'): 0.45535714285714285, (1, 'cp'): 1.3384615384615384, (0, 'trestbps'): 134.72321428571428, (1, 'trestbps'): 129.1153846153846, (0, 'chol'): 252.35714285714286, (1, 'chol'): 242.1, (0, 'fbs'): 0.17857142857142858, (1, 'fbs'): 0.13076923076923078, (0, 'restecg'): 0.45535714285714285, (1, 'restecg'): 0.6076923076923076, (0, 'thalach'): 138.95535714285714}\n",
            "{(0, 'age'): 7.851537283178225, (1, 'age'): 9.484268115230307, (0, 'sex'): 0.3847143719763378, (1, 'sex'): 0.4981181042645052, (0, 'cp'): 0.8687610817974164, (1, 'cp'): 0.9196717155598053, (0, 'trestbps'): 18.319590174725093, (1, 'trestbps'): 15.747835886947836, (0, 'chol'): 47.19975895931298, (1, 'chol'): 53.26674864892644, (0, 'fbs'): 0.38471437197633773, (1, 'fbs'): 0.3384520516911921, (0, 'restecg'): 0.5516297370477472, (1, 'restecg'): 0.5057215866424762, (0, 'thalach'): 20.6521549135678}\n",
            "=====\n",
            "{(0, 'age'): 56.955357142857146, (1, 'age'): 52.646153846153844, (0, 'sex'): 0.8214285714285714, (1, 'sex'): 0.5615384615384615, (0, 'cp'): 0.45535714285714285, (1, 'cp'): 1.3384615384615384, (0, 'trestbps'): 134.72321428571428, (1, 'trestbps'): 129.1153846153846, (0, 'chol'): 252.35714285714286, (1, 'chol'): 242.1, (0, 'fbs'): 0.17857142857142858, (1, 'fbs'): 0.13076923076923078, (0, 'restecg'): 0.45535714285714285, (1, 'restecg'): 0.6076923076923076, (0, 'thalach'): 138.95535714285714, (1, 'thalach'): 158.1846153846154}\n",
            "{(0, 'age'): 7.851537283178225, (1, 'age'): 9.484268115230307, (0, 'sex'): 0.3847143719763378, (1, 'sex'): 0.4981181042645052, (0, 'cp'): 0.8687610817974164, (1, 'cp'): 0.9196717155598053, (0, 'trestbps'): 18.319590174725093, (1, 'trestbps'): 15.747835886947836, (0, 'chol'): 47.19975895931298, (1, 'chol'): 53.26674864892644, (0, 'fbs'): 0.38471437197633773, (1, 'fbs'): 0.3384520516911921, (0, 'restecg'): 0.5516297370477472, (1, 'restecg'): 0.5057215866424762, (0, 'thalach'): 20.6521549135678, (1, 'thalach'): 18.13805140486852}\n",
            "=====\n",
            "{(0, 'age'): 56.955357142857146, (1, 'age'): 52.646153846153844, (0, 'sex'): 0.8214285714285714, (1, 'sex'): 0.5615384615384615, (0, 'cp'): 0.45535714285714285, (1, 'cp'): 1.3384615384615384, (0, 'trestbps'): 134.72321428571428, (1, 'trestbps'): 129.1153846153846, (0, 'chol'): 252.35714285714286, (1, 'chol'): 242.1, (0, 'fbs'): 0.17857142857142858, (1, 'fbs'): 0.13076923076923078, (0, 'restecg'): 0.45535714285714285, (1, 'restecg'): 0.6076923076923076, (0, 'thalach'): 138.95535714285714, (1, 'thalach'): 158.1846153846154, (0, 'exang'): 0.5625}\n",
            "{(0, 'age'): 7.851537283178225, (1, 'age'): 9.484268115230307, (0, 'sex'): 0.3847143719763378, (1, 'sex'): 0.4981181042645052, (0, 'cp'): 0.8687610817974164, (1, 'cp'): 0.9196717155598053, (0, 'trestbps'): 18.319590174725093, (1, 'trestbps'): 15.747835886947836, (0, 'chol'): 47.19975895931298, (1, 'chol'): 53.26674864892644, (0, 'fbs'): 0.38471437197633773, (1, 'fbs'): 0.3384520516911921, (0, 'restecg'): 0.5516297370477472, (1, 'restecg'): 0.5057215866424762, (0, 'thalach'): 20.6521549135678, (1, 'thalach'): 18.13805140486852, (0, 'exang'): 0.498307947770062}\n",
            "=====\n",
            "{(0, 'age'): 56.955357142857146, (1, 'age'): 52.646153846153844, (0, 'sex'): 0.8214285714285714, (1, 'sex'): 0.5615384615384615, (0, 'cp'): 0.45535714285714285, (1, 'cp'): 1.3384615384615384, (0, 'trestbps'): 134.72321428571428, (1, 'trestbps'): 129.1153846153846, (0, 'chol'): 252.35714285714286, (1, 'chol'): 242.1, (0, 'fbs'): 0.17857142857142858, (1, 'fbs'): 0.13076923076923078, (0, 'restecg'): 0.45535714285714285, (1, 'restecg'): 0.6076923076923076, (0, 'thalach'): 138.95535714285714, (1, 'thalach'): 158.1846153846154, (0, 'exang'): 0.5625, (1, 'exang'): 0.16153846153846155}\n",
            "{(0, 'age'): 7.851537283178225, (1, 'age'): 9.484268115230307, (0, 'sex'): 0.3847143719763378, (1, 'sex'): 0.4981181042645052, (0, 'cp'): 0.8687610817974164, (1, 'cp'): 0.9196717155598053, (0, 'trestbps'): 18.319590174725093, (1, 'trestbps'): 15.747835886947836, (0, 'chol'): 47.19975895931298, (1, 'chol'): 53.26674864892644, (0, 'fbs'): 0.38471437197633773, (1, 'fbs'): 0.3384520516911921, (0, 'restecg'): 0.5516297370477472, (1, 'restecg'): 0.5057215866424762, (0, 'thalach'): 20.6521549135678, (1, 'thalach'): 18.13805140486852, (0, 'exang'): 0.498307947770062, (1, 'exang'): 0.3694505904979991}\n",
            "=====\n",
            "{(0, 'age'): 56.955357142857146, (1, 'age'): 52.646153846153844, (0, 'sex'): 0.8214285714285714, (1, 'sex'): 0.5615384615384615, (0, 'cp'): 0.45535714285714285, (1, 'cp'): 1.3384615384615384, (0, 'trestbps'): 134.72321428571428, (1, 'trestbps'): 129.1153846153846, (0, 'chol'): 252.35714285714286, (1, 'chol'): 242.1, (0, 'fbs'): 0.17857142857142858, (1, 'fbs'): 0.13076923076923078, (0, 'restecg'): 0.45535714285714285, (1, 'restecg'): 0.6076923076923076, (0, 'thalach'): 138.95535714285714, (1, 'thalach'): 158.1846153846154, (0, 'exang'): 0.5625, (1, 'exang'): 0.16153846153846155, (0, 'oldpeak'): 1.6071428571428572}\n",
            "{(0, 'age'): 7.851537283178225, (1, 'age'): 9.484268115230307, (0, 'sex'): 0.3847143719763378, (1, 'sex'): 0.4981181042645052, (0, 'cp'): 0.8687610817974164, (1, 'cp'): 0.9196717155598053, (0, 'trestbps'): 18.319590174725093, (1, 'trestbps'): 15.747835886947836, (0, 'chol'): 47.19975895931298, (1, 'chol'): 53.26674864892644, (0, 'fbs'): 0.38471437197633773, (1, 'fbs'): 0.3384520516911921, (0, 'restecg'): 0.5516297370477472, (1, 'restecg'): 0.5057215866424762, (0, 'thalach'): 20.6521549135678, (1, 'thalach'): 18.13805140486852, (0, 'exang'): 0.498307947770062, (1, 'exang'): 0.3694505904979991, (0, 'oldpeak'): 1.2907651397813027}\n",
            "=====\n",
            "{(0, 'age'): 56.955357142857146, (1, 'age'): 52.646153846153844, (0, 'sex'): 0.8214285714285714, (1, 'sex'): 0.5615384615384615, (0, 'cp'): 0.45535714285714285, (1, 'cp'): 1.3384615384615384, (0, 'trestbps'): 134.72321428571428, (1, 'trestbps'): 129.1153846153846, (0, 'chol'): 252.35714285714286, (1, 'chol'): 242.1, (0, 'fbs'): 0.17857142857142858, (1, 'fbs'): 0.13076923076923078, (0, 'restecg'): 0.45535714285714285, (1, 'restecg'): 0.6076923076923076, (0, 'thalach'): 138.95535714285714, (1, 'thalach'): 158.1846153846154, (0, 'exang'): 0.5625, (1, 'exang'): 0.16153846153846155, (0, 'oldpeak'): 1.6071428571428572, (1, 'oldpeak'): 0.5969230769230769}\n",
            "{(0, 'age'): 7.851537283178225, (1, 'age'): 9.484268115230307, (0, 'sex'): 0.3847143719763378, (1, 'sex'): 0.4981181042645052, (0, 'cp'): 0.8687610817974164, (1, 'cp'): 0.9196717155598053, (0, 'trestbps'): 18.319590174725093, (1, 'trestbps'): 15.747835886947836, (0, 'chol'): 47.19975895931298, (1, 'chol'): 53.26674864892644, (0, 'fbs'): 0.38471437197633773, (1, 'fbs'): 0.3384520516911921, (0, 'restecg'): 0.5516297370477472, (1, 'restecg'): 0.5057215866424762, (0, 'thalach'): 20.6521549135678, (1, 'thalach'): 18.13805140486852, (0, 'exang'): 0.498307947770062, (1, 'exang'): 0.3694505904979991, (0, 'oldpeak'): 1.2907651397813027, (1, 'oldpeak'): 0.7624865952857527}\n",
            "=====\n",
            "{(0, 'age'): 56.955357142857146, (1, 'age'): 52.646153846153844, (0, 'sex'): 0.8214285714285714, (1, 'sex'): 0.5615384615384615, (0, 'cp'): 0.45535714285714285, (1, 'cp'): 1.3384615384615384, (0, 'trestbps'): 134.72321428571428, (1, 'trestbps'): 129.1153846153846, (0, 'chol'): 252.35714285714286, (1, 'chol'): 242.1, (0, 'fbs'): 0.17857142857142858, (1, 'fbs'): 0.13076923076923078, (0, 'restecg'): 0.45535714285714285, (1, 'restecg'): 0.6076923076923076, (0, 'thalach'): 138.95535714285714, (1, 'thalach'): 158.1846153846154, (0, 'exang'): 0.5625, (1, 'exang'): 0.16153846153846155, (0, 'oldpeak'): 1.6071428571428572, (1, 'oldpeak'): 0.5969230769230769, (0, 'slope'): 1.125}\n",
            "{(0, 'age'): 7.851537283178225, (1, 'age'): 9.484268115230307, (0, 'sex'): 0.3847143719763378, (1, 'sex'): 0.4981181042645052, (0, 'cp'): 0.8687610817974164, (1, 'cp'): 0.9196717155598053, (0, 'trestbps'): 18.319590174725093, (1, 'trestbps'): 15.747835886947836, (0, 'chol'): 47.19975895931298, (1, 'chol'): 53.26674864892644, (0, 'fbs'): 0.38471437197633773, (1, 'fbs'): 0.3384520516911921, (0, 'restecg'): 0.5516297370477472, (1, 'restecg'): 0.5057215866424762, (0, 'thalach'): 20.6521549135678, (1, 'thalach'): 18.13805140486852, (0, 'exang'): 0.498307947770062, (1, 'exang'): 0.3694505904979991, (0, 'oldpeak'): 1.2907651397813027, (1, 'oldpeak'): 0.7624865952857527, (0, 'slope'): 0.5554804754071547}\n",
            "=====\n",
            "{(0, 'age'): 56.955357142857146, (1, 'age'): 52.646153846153844, (0, 'sex'): 0.8214285714285714, (1, 'sex'): 0.5615384615384615, (0, 'cp'): 0.45535714285714285, (1, 'cp'): 1.3384615384615384, (0, 'trestbps'): 134.72321428571428, (1, 'trestbps'): 129.1153846153846, (0, 'chol'): 252.35714285714286, (1, 'chol'): 242.1, (0, 'fbs'): 0.17857142857142858, (1, 'fbs'): 0.13076923076923078, (0, 'restecg'): 0.45535714285714285, (1, 'restecg'): 0.6076923076923076, (0, 'thalach'): 138.95535714285714, (1, 'thalach'): 158.1846153846154, (0, 'exang'): 0.5625, (1, 'exang'): 0.16153846153846155, (0, 'oldpeak'): 1.6071428571428572, (1, 'oldpeak'): 0.5969230769230769, (0, 'slope'): 1.125, (1, 'slope'): 1.6}\n",
            "{(0, 'age'): 7.851537283178225, (1, 'age'): 9.484268115230307, (0, 'sex'): 0.3847143719763378, (1, 'sex'): 0.4981181042645052, (0, 'cp'): 0.8687610817974164, (1, 'cp'): 0.9196717155598053, (0, 'trestbps'): 18.319590174725093, (1, 'trestbps'): 15.747835886947836, (0, 'chol'): 47.19975895931298, (1, 'chol'): 53.26674864892644, (0, 'fbs'): 0.38471437197633773, (1, 'fbs'): 0.3384520516911921, (0, 'restecg'): 0.5516297370477472, (1, 'restecg'): 0.5057215866424762, (0, 'thalach'): 20.6521549135678, (1, 'thalach'): 18.13805140486852, (0, 'exang'): 0.498307947770062, (1, 'exang'): 0.3694505904979991, (0, 'oldpeak'): 1.2907651397813027, (1, 'oldpeak'): 0.7624865952857527, (0, 'slope'): 0.5554804754071547, (1, 'slope'): 0.5919354668367363}\n",
            "=====\n",
            "{(0, 'age'): 56.955357142857146, (1, 'age'): 52.646153846153844, (0, 'sex'): 0.8214285714285714, (1, 'sex'): 0.5615384615384615, (0, 'cp'): 0.45535714285714285, (1, 'cp'): 1.3384615384615384, (0, 'trestbps'): 134.72321428571428, (1, 'trestbps'): 129.1153846153846, (0, 'chol'): 252.35714285714286, (1, 'chol'): 242.1, (0, 'fbs'): 0.17857142857142858, (1, 'fbs'): 0.13076923076923078, (0, 'restecg'): 0.45535714285714285, (1, 'restecg'): 0.6076923076923076, (0, 'thalach'): 138.95535714285714, (1, 'thalach'): 158.1846153846154, (0, 'exang'): 0.5625, (1, 'exang'): 0.16153846153846155, (0, 'oldpeak'): 1.6071428571428572, (1, 'oldpeak'): 0.5969230769230769, (0, 'slope'): 1.125, (1, 'slope'): 1.6, (0, 'ca'): 1.1607142857142858}\n",
            "{(0, 'age'): 7.851537283178225, (1, 'age'): 9.484268115230307, (0, 'sex'): 0.3847143719763378, (1, 'sex'): 0.4981181042645052, (0, 'cp'): 0.8687610817974164, (1, 'cp'): 0.9196717155598053, (0, 'trestbps'): 18.319590174725093, (1, 'trestbps'): 15.747835886947836, (0, 'chol'): 47.19975895931298, (1, 'chol'): 53.26674864892644, (0, 'fbs'): 0.38471437197633773, (1, 'fbs'): 0.3384520516911921, (0, 'restecg'): 0.5516297370477472, (1, 'restecg'): 0.5057215866424762, (0, 'thalach'): 20.6521549135678, (1, 'thalach'): 18.13805140486852, (0, 'exang'): 0.498307947770062, (1, 'exang'): 0.3694505904979991, (0, 'oldpeak'): 1.2907651397813027, (1, 'oldpeak'): 0.7624865952857527, (0, 'slope'): 0.5554804754071547, (1, 'slope'): 0.5919354668367363, (0, 'ca'): 1.044535945315115}\n",
            "=====\n",
            "{(0, 'age'): 56.955357142857146, (1, 'age'): 52.646153846153844, (0, 'sex'): 0.8214285714285714, (1, 'sex'): 0.5615384615384615, (0, 'cp'): 0.45535714285714285, (1, 'cp'): 1.3384615384615384, (0, 'trestbps'): 134.72321428571428, (1, 'trestbps'): 129.1153846153846, (0, 'chol'): 252.35714285714286, (1, 'chol'): 242.1, (0, 'fbs'): 0.17857142857142858, (1, 'fbs'): 0.13076923076923078, (0, 'restecg'): 0.45535714285714285, (1, 'restecg'): 0.6076923076923076, (0, 'thalach'): 138.95535714285714, (1, 'thalach'): 158.1846153846154, (0, 'exang'): 0.5625, (1, 'exang'): 0.16153846153846155, (0, 'oldpeak'): 1.6071428571428572, (1, 'oldpeak'): 0.5969230769230769, (0, 'slope'): 1.125, (1, 'slope'): 1.6, (0, 'ca'): 1.1607142857142858, (1, 'ca'): 0.38461538461538464}\n",
            "{(0, 'age'): 7.851537283178225, (1, 'age'): 9.484268115230307, (0, 'sex'): 0.3847143719763378, (1, 'sex'): 0.4981181042645052, (0, 'cp'): 0.8687610817974164, (1, 'cp'): 0.9196717155598053, (0, 'trestbps'): 18.319590174725093, (1, 'trestbps'): 15.747835886947836, (0, 'chol'): 47.19975895931298, (1, 'chol'): 53.26674864892644, (0, 'fbs'): 0.38471437197633773, (1, 'fbs'): 0.3384520516911921, (0, 'restecg'): 0.5516297370477472, (1, 'restecg'): 0.5057215866424762, (0, 'thalach'): 20.6521549135678, (1, 'thalach'): 18.13805140486852, (0, 'exang'): 0.498307947770062, (1, 'exang'): 0.3694505904979991, (0, 'oldpeak'): 1.2907651397813027, (1, 'oldpeak'): 0.7624865952857527, (0, 'slope'): 0.5554804754071547, (1, 'slope'): 0.5919354668367363, (0, 'ca'): 1.044535945315115, (1, 'ca'): 0.8571144612952688}\n",
            "=====\n",
            "{(0, 'age'): 56.955357142857146, (1, 'age'): 52.646153846153844, (0, 'sex'): 0.8214285714285714, (1, 'sex'): 0.5615384615384615, (0, 'cp'): 0.45535714285714285, (1, 'cp'): 1.3384615384615384, (0, 'trestbps'): 134.72321428571428, (1, 'trestbps'): 129.1153846153846, (0, 'chol'): 252.35714285714286, (1, 'chol'): 242.1, (0, 'fbs'): 0.17857142857142858, (1, 'fbs'): 0.13076923076923078, (0, 'restecg'): 0.45535714285714285, (1, 'restecg'): 0.6076923076923076, (0, 'thalach'): 138.95535714285714, (1, 'thalach'): 158.1846153846154, (0, 'exang'): 0.5625, (1, 'exang'): 0.16153846153846155, (0, 'oldpeak'): 1.6071428571428572, (1, 'oldpeak'): 0.5969230769230769, (0, 'slope'): 1.125, (1, 'slope'): 1.6, (0, 'ca'): 1.1607142857142858, (1, 'ca'): 0.38461538461538464, (0, 'thal'): 2.544642857142857}\n",
            "{(0, 'age'): 7.851537283178225, (1, 'age'): 9.484268115230307, (0, 'sex'): 0.3847143719763378, (1, 'sex'): 0.4981181042645052, (0, 'cp'): 0.8687610817974164, (1, 'cp'): 0.9196717155598053, (0, 'trestbps'): 18.319590174725093, (1, 'trestbps'): 15.747835886947836, (0, 'chol'): 47.19975895931298, (1, 'chol'): 53.26674864892644, (0, 'fbs'): 0.38471437197633773, (1, 'fbs'): 0.3384520516911921, (0, 'restecg'): 0.5516297370477472, (1, 'restecg'): 0.5057215866424762, (0, 'thalach'): 20.6521549135678, (1, 'thalach'): 18.13805140486852, (0, 'exang'): 0.498307947770062, (1, 'exang'): 0.3694505904979991, (0, 'oldpeak'): 1.2907651397813027, (1, 'oldpeak'): 0.7624865952857527, (0, 'slope'): 0.5554804754071547, (1, 'slope'): 0.5919354668367363, (0, 'ca'): 1.044535945315115, (1, 'ca'): 0.8571144612952688, (0, 'thal'): 0.6960427766851309}\n",
            "=====\n",
            "{(0, 'age'): 56.955357142857146, (1, 'age'): 52.646153846153844, (0, 'sex'): 0.8214285714285714, (1, 'sex'): 0.5615384615384615, (0, 'cp'): 0.45535714285714285, (1, 'cp'): 1.3384615384615384, (0, 'trestbps'): 134.72321428571428, (1, 'trestbps'): 129.1153846153846, (0, 'chol'): 252.35714285714286, (1, 'chol'): 242.1, (0, 'fbs'): 0.17857142857142858, (1, 'fbs'): 0.13076923076923078, (0, 'restecg'): 0.45535714285714285, (1, 'restecg'): 0.6076923076923076, (0, 'thalach'): 138.95535714285714, (1, 'thalach'): 158.1846153846154, (0, 'exang'): 0.5625, (1, 'exang'): 0.16153846153846155, (0, 'oldpeak'): 1.6071428571428572, (1, 'oldpeak'): 0.5969230769230769, (0, 'slope'): 1.125, (1, 'slope'): 1.6, (0, 'ca'): 1.1607142857142858, (1, 'ca'): 0.38461538461538464, (0, 'thal'): 2.544642857142857, (1, 'thal'): 2.1538461538461537}\n",
            "{(0, 'age'): 7.851537283178225, (1, 'age'): 9.484268115230307, (0, 'sex'): 0.3847143719763378, (1, 'sex'): 0.4981181042645052, (0, 'cp'): 0.8687610817974164, (1, 'cp'): 0.9196717155598053, (0, 'trestbps'): 18.319590174725093, (1, 'trestbps'): 15.747835886947836, (0, 'chol'): 47.19975895931298, (1, 'chol'): 53.26674864892644, (0, 'fbs'): 0.38471437197633773, (1, 'fbs'): 0.3384520516911921, (0, 'restecg'): 0.5516297370477472, (1, 'restecg'): 0.5057215866424762, (0, 'thalach'): 20.6521549135678, (1, 'thalach'): 18.13805140486852, (0, 'exang'): 0.498307947770062, (1, 'exang'): 0.3694505904979991, (0, 'oldpeak'): 1.2907651397813027, (1, 'oldpeak'): 0.7624865952857527, (0, 'slope'): 0.5554804754071547, (1, 'slope'): 0.5919354668367363, (0, 'ca'): 1.044535945315115, (1, 'ca'): 0.8571144612952688, (0, 'thal'): 0.6960427766851309, (1, 'thal'): 0.4896057338282463}\n",
            "=====\n"
          ]
        }
      ]
    },
    {
      "cell_type": "code",
      "source": [
        "data_latih.loc[data_latih['target']==1]['sex']"
      ],
      "metadata": {
        "colab": {
          "base_uri": "https://localhost:8080/"
        },
        "id": "6lzDDzeIurcG",
        "outputId": "3230e8ec-c1e6-4d0c-98cd-2fb39f5abea0"
      },
      "execution_count": 62,
      "outputs": [
        {
          "output_type": "execute_result",
          "data": {
            "text/plain": [
              "7      1\n",
              "80     1\n",
              "29     1\n",
              "67     0\n",
              "132    1\n",
              "      ..\n",
              "11     0\n",
              "55     1\n",
              "125    0\n",
              "87     1\n",
              "105    0\n",
              "Name: sex, Length: 130, dtype: int64"
            ]
          },
          "metadata": {},
          "execution_count": 62
        }
      ]
    },
    {
      "cell_type": "code",
      "source": [
        "data_latih.loc[data_latih['target']==1]['sex'].mean()"
      ],
      "metadata": {
        "colab": {
          "base_uri": "https://localhost:8080/"
        },
        "id": "ZNNglanQvdY8",
        "outputId": "4704afdd-313e-406c-babf-b82ad4c6b131"
      },
      "execution_count": 63,
      "outputs": [
        {
          "output_type": "execute_result",
          "data": {
            "text/plain": [
              "0.5615384615384615"
            ]
          },
          "metadata": {},
          "execution_count": 63
        }
      ]
    },
    {
      "cell_type": "code",
      "source": [
        "data_latih.loc[data_latih['target']==1]['sex'].std()"
      ],
      "metadata": {
        "colab": {
          "base_uri": "https://localhost:8080/"
        },
        "id": "x47Jpzxqvjue",
        "outputId": "5051b3a0-f5f6-4a6e-932b-a279a34e5286"
      },
      "execution_count": 64,
      "outputs": [
        {
          "output_type": "execute_result",
          "data": {
            "text/plain": [
              "0.4981181042645052"
            ]
          },
          "metadata": {},
          "execution_count": 64
        }
      ]
    },
    {
      "cell_type": "code",
      "source": [
        "import math\n",
        "def hitung_likelihood_gaussian(data,rata2,std):\n",
        "  hasil = (1/math.sqrt(2*math.pi*(std**2)))*math.exp((-1*((data-rata2)**2))/(2*(std**2)))\n",
        "  return hasil"
      ],
      "metadata": {
        "id": "bLrNwcemwna0"
      },
      "execution_count": 65,
      "outputs": []
    },
    {
      "cell_type": "markdown",
      "source": [
        "#Proses training"
      ],
      "metadata": {
        "id": "ErbsgFMKwo8Q"
      }
    },
    {
      "cell_type": "code",
      "source": [
        "def training_naive_bayes_gaussian(data_latih):\n",
        "  # simpan daftar kelas\n",
        "  class_column_name = data_latih.columns[-1]\n",
        "  # Hitung probility prior\n",
        "  prior = hitung_prior(data_latih[class_column_name])\n",
        "  # Hitung mean dan standard deviation\n",
        "  (rata2,std) = hitung_rata2_std_kelas(data_latih)\n",
        "  list_class = set(data_latih[class_column_name])\n",
        "  list_columns = data_latih.columns[:-1]\n",
        "  model = {}\n",
        "  model['prior'] = prior\n",
        "  model['rata2'] = rata2\n",
        "  model['std'] = std\n",
        "  model['list_class'] = list_class\n",
        "  model['list_columns'] = list_columns\n",
        "  return model"
      ],
      "metadata": {
        "id": "TPzJKUp3t2sj"
      },
      "execution_count": 66,
      "outputs": []
    },
    {
      "cell_type": "code",
      "source": [
        "model = training_naive_bayes_gaussian(data_latih)"
      ],
      "metadata": {
        "colab": {
          "base_uri": "https://localhost:8080/"
        },
        "id": "VvEVhJklwz5j",
        "outputId": "006cc06b-f7b0-4c29-bd59-96c79cea9a7b"
      },
      "execution_count": 67,
      "outputs": [
        {
          "output_type": "stream",
          "name": "stdout",
          "text": [
            "{(0, 'age'): 56.955357142857146, (1, 'age'): 52.646153846153844, (0, 'sex'): 0.8214285714285714, (1, 'sex'): 0.5615384615384615, (0, 'cp'): 0.45535714285714285, (1, 'cp'): 1.3384615384615384, (0, 'trestbps'): 134.72321428571428, (1, 'trestbps'): 129.1153846153846, (0, 'chol'): 252.35714285714286, (1, 'chol'): 242.1, (0, 'fbs'): 0.17857142857142858, (1, 'fbs'): 0.13076923076923078, (0, 'restecg'): 0.45535714285714285, (1, 'restecg'): 0.6076923076923076, (0, 'thalach'): 138.95535714285714, (1, 'thalach'): 158.1846153846154, (0, 'exang'): 0.5625, (1, 'exang'): 0.16153846153846155, (0, 'oldpeak'): 1.6071428571428572, (1, 'oldpeak'): 0.5969230769230769, (0, 'slope'): 1.125, (1, 'slope'): 1.6, (0, 'ca'): 1.1607142857142858, (1, 'ca'): 0.38461538461538464, (0, 'thal'): 2.544642857142857, (1, 'thal'): 2.1538461538461537}\n",
            "{(0, 'age'): 7.851537283178225, (1, 'age'): 9.484268115230307, (0, 'sex'): 0.3847143719763378, (1, 'sex'): 0.4981181042645052, (0, 'cp'): 0.8687610817974164, (1, 'cp'): 0.9196717155598053, (0, 'trestbps'): 18.319590174725093, (1, 'trestbps'): 15.747835886947836, (0, 'chol'): 47.19975895931298, (1, 'chol'): 53.26674864892644, (0, 'fbs'): 0.38471437197633773, (1, 'fbs'): 0.3384520516911921, (0, 'restecg'): 0.5516297370477472, (1, 'restecg'): 0.5057215866424762, (0, 'thalach'): 20.6521549135678, (1, 'thalach'): 18.13805140486852, (0, 'exang'): 0.498307947770062, (1, 'exang'): 0.3694505904979991, (0, 'oldpeak'): 1.2907651397813027, (1, 'oldpeak'): 0.7624865952857527, (0, 'slope'): 0.5554804754071547, (1, 'slope'): 0.5919354668367363, (0, 'ca'): 1.044535945315115, (1, 'ca'): 0.8571144612952688, (0, 'thal'): 0.6960427766851309, (1, 'thal'): 0.4896057338282463}\n"
          ]
        }
      ]
    },
    {
      "cell_type": "markdown",
      "source": [
        "#Proses testing"
      ],
      "metadata": {
        "id": "lJpHjg18xIkO"
      }
    },
    {
      "cell_type": "code",
      "source": [
        "def testing_naive_bayes_gaussian(model,data_uji):\n",
        "  prior = model['prior']\n",
        "  rata2 = model['rata2']\n",
        "  std = model['std']\n",
        "  list_class = model['list_class']\n",
        "  list_columns = model['list_columns']\n",
        "  posterior = dict.fromkeys(list_class,1)\n",
        "  for a_class in list_class:\n",
        "    for column in list_columns:\n",
        "      posterior[a_class] = posterior[a_class]*hitung_likelihood_gaussian(data_uji[column],rata2[(a_class,column)],std[(a_class,column)])\n",
        "    posterior[a_class] = posterior[a_class] * prior[a_class]\n",
        "  kelas_uji = max(posterior,key=posterior.get)\n",
        "  return kelas_uji"
      ],
      "metadata": {
        "id": "t3rRS33WxKYS"
      },
      "execution_count": 68,
      "outputs": []
    },
    {
      "cell_type": "code",
      "source": [
        "indeks_uji = 1\n",
        "prediksi = testing_naive_bayes_gaussian(model,data_uji.iloc[indeks_uji])\n",
        "print(prediksi)\n",
        "print(label_uji.iloc[indeks_uji])"
      ],
      "metadata": {
        "colab": {
          "base_uri": "https://localhost:8080/"
        },
        "id": "2Bs18NWzxL4j",
        "outputId": "977bca90-b007-4a9d-d3d0-4314d775938c"
      },
      "execution_count": 69,
      "outputs": [
        {
          "output_type": "stream",
          "name": "stdout",
          "text": [
            "1\n",
            "1\n"
          ]
        }
      ]
    },
    {
      "cell_type": "code",
      "source": [
        "prediksi_total =[]\n",
        "for indeks in range(data_uji.shape[0]):\n",
        "  prediksi_total.append(testing_naive_bayes_gaussian(model,data_uji.iloc[indeks]))\n",
        "print(\"Total prediksi benar: \",sum(prediksi_total==label_uji))"
      ],
      "metadata": {
        "colab": {
          "base_uri": "https://localhost:8080/"
        },
        "id": "E3Dr0HK2xOuv",
        "outputId": "d62ee424-c799-4ce0-9b4b-eb2ec7697800"
      },
      "execution_count": 70,
      "outputs": [
        {
          "output_type": "stream",
          "name": "stdout",
          "text": [
            "Total prediksi benar:  52\n"
          ]
        }
      ]
    },
    {
      "cell_type": "code",
      "source": [
        "print(\"Tingkat akurasi =\",(sum(prediksi_total==label_uji)/data_uji.shape[0])*100)"
      ],
      "metadata": {
        "colab": {
          "base_uri": "https://localhost:8080/"
        },
        "id": "FD7K31dq5iQn",
        "outputId": "379b3822-22bd-422f-b73b-4f97efa34f2f"
      },
      "execution_count": 71,
      "outputs": [
        {
          "output_type": "stream",
          "name": "stdout",
          "text": [
            "Tingkat akurasi = 85.24590163934425\n"
          ]
        }
      ]
    }
  ]
}